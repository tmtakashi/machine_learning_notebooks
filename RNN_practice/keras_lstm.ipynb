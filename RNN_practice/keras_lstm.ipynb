{
  "nbformat": 4,
  "nbformat_minor": 0,
  "metadata": {
    "colab": {
      "name": "keras_lstm.ipynb",
      "version": "0.3.2",
      "provenance": [],
      "include_colab_link": true
    },
    "kernelspec": {
      "name": "python3",
      "display_name": "Python 3"
    },
    "accelerator": "GPU"
  },
  "cells": [
    {
      "cell_type": "markdown",
      "metadata": {
        "id": "view-in-github",
        "colab_type": "text"
      },
      "source": [
        "<a href=\"https://colab.research.google.com/github/tmtakashi/RNN_practice/blob/master/keras_lstm.ipynb\" target=\"_parent\"><img src=\"https://colab.research.google.com/assets/colab-badge.svg\" alt=\"Open In Colab\"/></a>"
      ]
    },
    {
      "metadata": {
        "id": "Cv_55e8orOSF",
        "colab_type": "code",
        "colab": {}
      },
      "cell_type": "code",
      "source": [
        "import numpy as np\n",
        "from keras.models import Sequential\n",
        "from keras.layers import Dense, Activation\n",
        "from keras.layers.recurrent import LSTM\n",
        "from keras.optimizers import Adam\n",
        "from keras.callbacks import EarlyStopping\n",
        "\n",
        "def sin(x, T=100):\n",
        "  return np.sin(2.0 * np.pi * x / T)\n",
        "\n",
        "# Add noise to sine wave\n",
        "def toy_problem(T=100, ampl=0.05):\n",
        "  x = np.arange(0, 2 * T + 1)\n",
        "  noise = ampl * np.random.uniform(low=-1.0, high=1.0, size=len(x))\n",
        "  return sin(x) + noise\n",
        "\n",
        "f = toy_problem()"
      ],
      "execution_count": 0,
      "outputs": []
    },
    {
      "metadata": {
        "id": "zi3Hu7MzvNUE",
        "colab_type": "code",
        "colab": {}
      },
      "cell_type": "code",
      "source": [
        "def make_dataset(raw_data, n_prev=100):\n",
        "  \n",
        "  data, target = [], []\n",
        "  maxlen = 25\n",
        "  \n",
        "  for i in range(len(raw_data)-maxlen):\n",
        "    data.append(raw_data[i:i + maxlen])\n",
        "    target.append(raw_data[i+maxlen])\n",
        "    \n",
        "  re_data = np.array(data).reshape(len(data), maxlen, 1)\n",
        "  re_target = np.array(target).reshape(len(data), 1)\n",
        "    \n",
        "  return re_data, re_target\n",
        "\n",
        "g, h = make_dataset(f)"
      ],
      "execution_count": 0,
      "outputs": []
    },
    {
      "metadata": {
        "id": "qQbdB4lv0olq",
        "colab_type": "code",
        "outputId": "e5562aeb-5fce-4ec2-ab2f-3239f9b2ae74",
        "colab": {
          "base_uri": "https://localhost:8080/",
          "height": 34
        }
      },
      "cell_type": "code",
      "source": [
        "g.shape"
      ],
      "execution_count": 0,
      "outputs": [
        {
          "output_type": "execute_result",
          "data": {
            "text/plain": [
              "(176, 25, 1)"
            ]
          },
          "metadata": {
            "tags": []
          },
          "execution_count": 39
        }
      ]
    },
    {
      "metadata": {
        "id": "IUbLf1BJvTQC",
        "colab_type": "code",
        "outputId": "84de5e12-d32e-4734-afc6-ab37e9e339e3",
        "colab": {
          "base_uri": "https://localhost:8080/",
          "height": 3471
        }
      },
      "cell_type": "code",
      "source": [
        "# Build model\n",
        "\n",
        "# Step number in a training data\n",
        "length_of_sequence = g.shape[1]\n",
        "in_out_neurons = 1\n",
        "n_hidden = 300\n",
        "\n",
        "model = Sequential()\n",
        "model.add(LSTM(n_hidden, batch_input_shape=(None, length_of_sequence, in_out_neurons), return_sequences=False))\n",
        "model.add(Dense(in_out_neurons))\n",
        "model.add(Activation(\"linear\"))\n",
        "optimizer  = Adam(lr=0.001)\n",
        "model.compile(loss=\"mean_squared_error\", optimizer=optimizer, metrics=['accuracy'])\n",
        "\n",
        "model.fit(g, h,\n",
        "         batch_size=32,\n",
        "         epochs=100,\n",
        "         validation_split=0.1)"
      ],
      "execution_count": 0,
      "outputs": [
        {
          "output_type": "stream",
          "text": [
            "Train on 158 samples, validate on 18 samples\n",
            "Epoch 1/100\n",
            "158/158 [==============================] - 2s 14ms/step - loss: 0.2933 - acc: 0.0000e+00 - val_loss: 0.1730 - val_acc: 0.0000e+00\n",
            "Epoch 2/100\n",
            "158/158 [==============================] - 0s 2ms/step - loss: 0.0683 - acc: 0.0000e+00 - val_loss: 0.0131 - val_acc: 0.0000e+00\n",
            "Epoch 3/100\n",
            "158/158 [==============================] - 0s 2ms/step - loss: 0.0447 - acc: 0.0000e+00 - val_loss: 0.0089 - val_acc: 0.0000e+00\n",
            "Epoch 4/100\n",
            "158/158 [==============================] - 0s 2ms/step - loss: 0.0164 - acc: 0.0000e+00 - val_loss: 0.0422 - val_acc: 0.0000e+00\n",
            "Epoch 5/100\n",
            "158/158 [==============================] - 0s 2ms/step - loss: 0.0136 - acc: 0.0000e+00 - val_loss: 0.0038 - val_acc: 0.0000e+00\n",
            "Epoch 6/100\n",
            "158/158 [==============================] - 0s 2ms/step - loss: 0.0084 - acc: 0.0000e+00 - val_loss: 0.0044 - val_acc: 0.0000e+00\n",
            "Epoch 7/100\n",
            "158/158 [==============================] - 0s 2ms/step - loss: 0.0032 - acc: 0.0000e+00 - val_loss: 0.0031 - val_acc: 0.0000e+00\n",
            "Epoch 8/100\n",
            "158/158 [==============================] - 0s 2ms/step - loss: 0.0037 - acc: 0.0000e+00 - val_loss: 0.0032 - val_acc: 0.0000e+00\n",
            "Epoch 9/100\n",
            "158/158 [==============================] - 0s 2ms/step - loss: 0.0027 - acc: 0.0000e+00 - val_loss: 0.0012 - val_acc: 0.0000e+00\n",
            "Epoch 10/100\n",
            "158/158 [==============================] - 0s 2ms/step - loss: 0.0024 - acc: 0.0000e+00 - val_loss: 0.0011 - val_acc: 0.0000e+00\n",
            "Epoch 11/100\n",
            "158/158 [==============================] - 0s 2ms/step - loss: 0.0015 - acc: 0.0000e+00 - val_loss: 0.0023 - val_acc: 0.0000e+00\n",
            "Epoch 12/100\n",
            "158/158 [==============================] - 0s 2ms/step - loss: 0.0015 - acc: 0.0000e+00 - val_loss: 0.0014 - val_acc: 0.0000e+00\n",
            "Epoch 13/100\n",
            "158/158 [==============================] - 0s 2ms/step - loss: 0.0016 - acc: 0.0000e+00 - val_loss: 0.0012 - val_acc: 0.0000e+00\n",
            "Epoch 14/100\n",
            "158/158 [==============================] - 0s 2ms/step - loss: 0.0014 - acc: 0.0000e+00 - val_loss: 0.0012 - val_acc: 0.0000e+00\n",
            "Epoch 15/100\n",
            "158/158 [==============================] - 0s 2ms/step - loss: 0.0013 - acc: 0.0000e+00 - val_loss: 9.5487e-04 - val_acc: 0.0000e+00\n",
            "Epoch 16/100\n",
            "158/158 [==============================] - 0s 2ms/step - loss: 0.0013 - acc: 0.0000e+00 - val_loss: 0.0014 - val_acc: 0.0000e+00\n",
            "Epoch 17/100\n",
            "158/158 [==============================] - 0s 2ms/step - loss: 0.0011 - acc: 0.0000e+00 - val_loss: 9.3292e-04 - val_acc: 0.0000e+00\n",
            "Epoch 18/100\n",
            "158/158 [==============================] - 0s 2ms/step - loss: 0.0012 - acc: 0.0000e+00 - val_loss: 0.0011 - val_acc: 0.0000e+00\n",
            "Epoch 19/100\n",
            "158/158 [==============================] - 0s 2ms/step - loss: 0.0012 - acc: 0.0000e+00 - val_loss: 9.7185e-04 - val_acc: 0.0000e+00\n",
            "Epoch 20/100\n",
            "158/158 [==============================] - 0s 2ms/step - loss: 0.0012 - acc: 0.0000e+00 - val_loss: 9.4265e-04 - val_acc: 0.0000e+00\n",
            "Epoch 21/100\n",
            "158/158 [==============================] - 0s 2ms/step - loss: 0.0012 - acc: 0.0000e+00 - val_loss: 9.9994e-04 - val_acc: 0.0000e+00\n",
            "Epoch 22/100\n",
            "158/158 [==============================] - 0s 2ms/step - loss: 0.0012 - acc: 0.0000e+00 - val_loss: 9.6318e-04 - val_acc: 0.0000e+00\n",
            "Epoch 23/100\n",
            "158/158 [==============================] - 0s 2ms/step - loss: 0.0012 - acc: 0.0000e+00 - val_loss: 0.0010 - val_acc: 0.0000e+00\n",
            "Epoch 24/100\n",
            "158/158 [==============================] - 0s 2ms/step - loss: 0.0012 - acc: 0.0000e+00 - val_loss: 9.3893e-04 - val_acc: 0.0000e+00\n",
            "Epoch 25/100\n",
            "158/158 [==============================] - 0s 2ms/step - loss: 0.0012 - acc: 0.0000e+00 - val_loss: 9.9566e-04 - val_acc: 0.0000e+00\n",
            "Epoch 26/100\n",
            "158/158 [==============================] - 0s 2ms/step - loss: 0.0012 - acc: 0.0000e+00 - val_loss: 9.7271e-04 - val_acc: 0.0000e+00\n",
            "Epoch 27/100\n",
            "158/158 [==============================] - 0s 2ms/step - loss: 0.0012 - acc: 0.0000e+00 - val_loss: 0.0012 - val_acc: 0.0000e+00\n",
            "Epoch 28/100\n",
            "158/158 [==============================] - 0s 2ms/step - loss: 0.0012 - acc: 0.0000e+00 - val_loss: 9.7036e-04 - val_acc: 0.0000e+00\n",
            "Epoch 29/100\n",
            "158/158 [==============================] - 0s 2ms/step - loss: 0.0012 - acc: 0.0000e+00 - val_loss: 9.9494e-04 - val_acc: 0.0000e+00\n",
            "Epoch 30/100\n",
            "158/158 [==============================] - 0s 2ms/step - loss: 0.0012 - acc: 0.0000e+00 - val_loss: 0.0011 - val_acc: 0.0000e+00\n",
            "Epoch 31/100\n",
            "158/158 [==============================] - 0s 2ms/step - loss: 0.0012 - acc: 0.0000e+00 - val_loss: 9.4355e-04 - val_acc: 0.0000e+00\n",
            "Epoch 32/100\n",
            "158/158 [==============================] - 0s 2ms/step - loss: 0.0012 - acc: 0.0000e+00 - val_loss: 0.0011 - val_acc: 0.0000e+00\n",
            "Epoch 33/100\n",
            "158/158 [==============================] - 0s 2ms/step - loss: 0.0012 - acc: 0.0000e+00 - val_loss: 9.7144e-04 - val_acc: 0.0000e+00\n",
            "Epoch 34/100\n",
            "158/158 [==============================] - 0s 2ms/step - loss: 0.0012 - acc: 0.0000e+00 - val_loss: 0.0010 - val_acc: 0.0000e+00\n",
            "Epoch 35/100\n",
            "158/158 [==============================] - 0s 2ms/step - loss: 0.0012 - acc: 0.0000e+00 - val_loss: 0.0010 - val_acc: 0.0000e+00\n",
            "Epoch 36/100\n",
            "158/158 [==============================] - 0s 2ms/step - loss: 0.0013 - acc: 0.0000e+00 - val_loss: 0.0010 - val_acc: 0.0000e+00\n",
            "Epoch 37/100\n",
            "158/158 [==============================] - 0s 2ms/step - loss: 0.0012 - acc: 0.0000e+00 - val_loss: 0.0010 - val_acc: 0.0000e+00\n",
            "Epoch 38/100\n",
            "158/158 [==============================] - 0s 2ms/step - loss: 0.0013 - acc: 0.0000e+00 - val_loss: 9.4364e-04 - val_acc: 0.0000e+00\n",
            "Epoch 39/100\n",
            "158/158 [==============================] - 0s 3ms/step - loss: 0.0012 - acc: 0.0000e+00 - val_loss: 0.0010 - val_acc: 0.0000e+00\n",
            "Epoch 40/100\n",
            "158/158 [==============================] - 0s 2ms/step - loss: 0.0012 - acc: 0.0000e+00 - val_loss: 0.0011 - val_acc: 0.0000e+00\n",
            "Epoch 41/100\n",
            "158/158 [==============================] - 0s 2ms/step - loss: 0.0014 - acc: 0.0000e+00 - val_loss: 0.0010 - val_acc: 0.0000e+00\n",
            "Epoch 42/100\n",
            "158/158 [==============================] - 0s 2ms/step - loss: 0.0012 - acc: 0.0000e+00 - val_loss: 0.0010 - val_acc: 0.0000e+00\n",
            "Epoch 43/100\n",
            "158/158 [==============================] - 0s 2ms/step - loss: 0.0014 - acc: 0.0000e+00 - val_loss: 0.0012 - val_acc: 0.0000e+00\n",
            "Epoch 44/100\n",
            "158/158 [==============================] - 0s 2ms/step - loss: 0.0013 - acc: 0.0000e+00 - val_loss: 9.8784e-04 - val_acc: 0.0000e+00\n",
            "Epoch 45/100\n",
            "158/158 [==============================] - 0s 2ms/step - loss: 0.0013 - acc: 0.0000e+00 - val_loss: 0.0014 - val_acc: 0.0000e+00\n",
            "Epoch 46/100\n",
            "158/158 [==============================] - 0s 2ms/step - loss: 0.0013 - acc: 0.0000e+00 - val_loss: 9.6905e-04 - val_acc: 0.0000e+00\n",
            "Epoch 47/100\n",
            "158/158 [==============================] - 0s 2ms/step - loss: 0.0013 - acc: 0.0000e+00 - val_loss: 0.0010 - val_acc: 0.0000e+00\n",
            "Epoch 48/100\n",
            "158/158 [==============================] - 0s 2ms/step - loss: 0.0014 - acc: 0.0000e+00 - val_loss: 0.0014 - val_acc: 0.0000e+00\n",
            "Epoch 49/100\n",
            "158/158 [==============================] - 0s 2ms/step - loss: 0.0014 - acc: 0.0000e+00 - val_loss: 0.0016 - val_acc: 0.0000e+00\n",
            "Epoch 50/100\n",
            "158/158 [==============================] - 0s 2ms/step - loss: 0.0013 - acc: 0.0000e+00 - val_loss: 0.0017 - val_acc: 0.0000e+00\n",
            "Epoch 51/100\n",
            "158/158 [==============================] - 0s 2ms/step - loss: 0.0012 - acc: 0.0000e+00 - val_loss: 9.7766e-04 - val_acc: 0.0000e+00\n",
            "Epoch 52/100\n",
            "158/158 [==============================] - 0s 3ms/step - loss: 0.0014 - acc: 0.0000e+00 - val_loss: 0.0011 - val_acc: 0.0000e+00\n",
            "Epoch 53/100\n",
            "158/158 [==============================] - 0s 3ms/step - loss: 0.0012 - acc: 0.0000e+00 - val_loss: 0.0011 - val_acc: 0.0000e+00\n",
            "Epoch 54/100\n",
            "158/158 [==============================] - 0s 2ms/step - loss: 0.0013 - acc: 0.0000e+00 - val_loss: 0.0012 - val_acc: 0.0000e+00\n",
            "Epoch 55/100\n",
            "158/158 [==============================] - 0s 2ms/step - loss: 0.0014 - acc: 0.0000e+00 - val_loss: 0.0014 - val_acc: 0.0000e+00\n",
            "Epoch 56/100\n",
            "158/158 [==============================] - 0s 2ms/step - loss: 0.0014 - acc: 0.0000e+00 - val_loss: 0.0011 - val_acc: 0.0000e+00\n",
            "Epoch 57/100\n",
            "158/158 [==============================] - 0s 2ms/step - loss: 0.0012 - acc: 0.0000e+00 - val_loss: 0.0016 - val_acc: 0.0000e+00\n",
            "Epoch 58/100\n",
            "158/158 [==============================] - 0s 2ms/step - loss: 0.0013 - acc: 0.0000e+00 - val_loss: 0.0011 - val_acc: 0.0000e+00\n",
            "Epoch 59/100\n",
            "158/158 [==============================] - 0s 2ms/step - loss: 0.0012 - acc: 0.0000e+00 - val_loss: 0.0012 - val_acc: 0.0000e+00\n",
            "Epoch 60/100\n",
            "158/158 [==============================] - 0s 2ms/step - loss: 0.0014 - acc: 0.0000e+00 - val_loss: 0.0011 - val_acc: 0.0000e+00\n",
            "Epoch 61/100\n",
            "158/158 [==============================] - 0s 2ms/step - loss: 0.0013 - acc: 0.0000e+00 - val_loss: 9.2584e-04 - val_acc: 0.0000e+00\n",
            "Epoch 62/100\n",
            "158/158 [==============================] - 0s 2ms/step - loss: 0.0015 - acc: 0.0000e+00 - val_loss: 0.0018 - val_acc: 0.0000e+00\n",
            "Epoch 63/100\n",
            "158/158 [==============================] - 0s 2ms/step - loss: 0.0020 - acc: 0.0000e+00 - val_loss: 0.0022 - val_acc: 0.0000e+00\n",
            "Epoch 64/100\n",
            "158/158 [==============================] - 0s 2ms/step - loss: 0.0016 - acc: 0.0000e+00 - val_loss: 0.0019 - val_acc: 0.0000e+00\n",
            "Epoch 65/100\n",
            "158/158 [==============================] - 0s 2ms/step - loss: 0.0018 - acc: 0.0000e+00 - val_loss: 9.3315e-04 - val_acc: 0.0000e+00\n",
            "Epoch 66/100\n",
            "158/158 [==============================] - 0s 2ms/step - loss: 0.0012 - acc: 0.0000e+00 - val_loss: 0.0020 - val_acc: 0.0000e+00\n",
            "Epoch 67/100\n",
            "158/158 [==============================] - 0s 2ms/step - loss: 0.0012 - acc: 0.0000e+00 - val_loss: 0.0012 - val_acc: 0.0000e+00\n",
            "Epoch 68/100\n",
            "158/158 [==============================] - 0s 2ms/step - loss: 0.0013 - acc: 0.0000e+00 - val_loss: 0.0011 - val_acc: 0.0000e+00\n",
            "Epoch 69/100\n",
            "158/158 [==============================] - 0s 2ms/step - loss: 0.0012 - acc: 0.0000e+00 - val_loss: 0.0012 - val_acc: 0.0000e+00\n",
            "Epoch 70/100\n",
            "158/158 [==============================] - 0s 2ms/step - loss: 0.0012 - acc: 0.0000e+00 - val_loss: 9.6503e-04 - val_acc: 0.0000e+00\n",
            "Epoch 71/100\n",
            "158/158 [==============================] - 0s 2ms/step - loss: 0.0011 - acc: 0.0000e+00 - val_loss: 0.0012 - val_acc: 0.0000e+00\n",
            "Epoch 72/100\n",
            "158/158 [==============================] - 0s 2ms/step - loss: 0.0011 - acc: 0.0000e+00 - val_loss: 0.0012 - val_acc: 0.0000e+00\n",
            "Epoch 73/100\n",
            "158/158 [==============================] - 0s 2ms/step - loss: 0.0012 - acc: 0.0000e+00 - val_loss: 0.0012 - val_acc: 0.0000e+00\n",
            "Epoch 74/100\n",
            "158/158 [==============================] - 0s 2ms/step - loss: 0.0012 - acc: 0.0000e+00 - val_loss: 9.0691e-04 - val_acc: 0.0000e+00\n",
            "Epoch 75/100\n",
            "158/158 [==============================] - 0s 2ms/step - loss: 0.0012 - acc: 0.0000e+00 - val_loss: 0.0011 - val_acc: 0.0000e+00\n",
            "Epoch 76/100\n",
            "158/158 [==============================] - 0s 2ms/step - loss: 0.0012 - acc: 0.0000e+00 - val_loss: 0.0011 - val_acc: 0.0000e+00\n",
            "Epoch 77/100\n",
            "158/158 [==============================] - 0s 2ms/step - loss: 0.0011 - acc: 0.0000e+00 - val_loss: 0.0014 - val_acc: 0.0000e+00\n",
            "Epoch 78/100\n",
            "158/158 [==============================] - 0s 2ms/step - loss: 0.0012 - acc: 0.0000e+00 - val_loss: 9.8292e-04 - val_acc: 0.0000e+00\n",
            "Epoch 79/100\n",
            "158/158 [==============================] - 0s 2ms/step - loss: 0.0011 - acc: 0.0000e+00 - val_loss: 0.0010 - val_acc: 0.0000e+00\n",
            "Epoch 80/100\n",
            "158/158 [==============================] - 0s 2ms/step - loss: 0.0012 - acc: 0.0000e+00 - val_loss: 0.0014 - val_acc: 0.0000e+00\n",
            "Epoch 81/100\n",
            "158/158 [==============================] - 0s 2ms/step - loss: 0.0011 - acc: 0.0000e+00 - val_loss: 0.0011 - val_acc: 0.0000e+00\n",
            "Epoch 82/100\n",
            "158/158 [==============================] - 0s 2ms/step - loss: 0.0011 - acc: 0.0000e+00 - val_loss: 0.0011 - val_acc: 0.0000e+00\n",
            "Epoch 83/100\n",
            "158/158 [==============================] - 0s 2ms/step - loss: 0.0011 - acc: 0.0000e+00 - val_loss: 0.0012 - val_acc: 0.0000e+00\n",
            "Epoch 84/100\n",
            "158/158 [==============================] - 0s 2ms/step - loss: 0.0011 - acc: 0.0000e+00 - val_loss: 0.0011 - val_acc: 0.0000e+00\n",
            "Epoch 85/100\n",
            "158/158 [==============================] - 0s 2ms/step - loss: 0.0014 - acc: 0.0000e+00 - val_loss: 0.0014 - val_acc: 0.0000e+00\n",
            "Epoch 86/100\n",
            "158/158 [==============================] - 0s 2ms/step - loss: 0.0015 - acc: 0.0000e+00 - val_loss: 0.0012 - val_acc: 0.0000e+00\n",
            "Epoch 87/100\n",
            "158/158 [==============================] - 0s 2ms/step - loss: 0.0012 - acc: 0.0000e+00 - val_loss: 0.0012 - val_acc: 0.0000e+00\n",
            "Epoch 88/100\n",
            "158/158 [==============================] - 0s 2ms/step - loss: 0.0012 - acc: 0.0000e+00 - val_loss: 0.0023 - val_acc: 0.0000e+00\n",
            "Epoch 89/100\n",
            "158/158 [==============================] - 0s 2ms/step - loss: 0.0015 - acc: 0.0000e+00 - val_loss: 0.0012 - val_acc: 0.0000e+00\n",
            "Epoch 90/100\n",
            "158/158 [==============================] - 0s 2ms/step - loss: 0.0012 - acc: 0.0000e+00 - val_loss: 0.0017 - val_acc: 0.0000e+00\n",
            "Epoch 91/100\n",
            "158/158 [==============================] - 0s 2ms/step - loss: 0.0014 - acc: 0.0000e+00 - val_loss: 0.0010 - val_acc: 0.0000e+00\n",
            "Epoch 92/100\n",
            "158/158 [==============================] - 0s 2ms/step - loss: 0.0011 - acc: 0.0000e+00 - val_loss: 0.0010 - val_acc: 0.0000e+00\n",
            "Epoch 93/100\n",
            "158/158 [==============================] - 0s 2ms/step - loss: 0.0011 - acc: 0.0000e+00 - val_loss: 0.0013 - val_acc: 0.0000e+00\n",
            "Epoch 94/100\n",
            "158/158 [==============================] - 0s 2ms/step - loss: 0.0011 - acc: 0.0000e+00 - val_loss: 0.0010 - val_acc: 0.0000e+00\n",
            "Epoch 95/100\n",
            "158/158 [==============================] - 0s 2ms/step - loss: 0.0012 - acc: 0.0000e+00 - val_loss: 0.0012 - val_acc: 0.0000e+00\n",
            "Epoch 96/100\n",
            "158/158 [==============================] - 0s 2ms/step - loss: 0.0012 - acc: 0.0000e+00 - val_loss: 9.3564e-04 - val_acc: 0.0000e+00\n",
            "Epoch 97/100\n",
            "158/158 [==============================] - 0s 2ms/step - loss: 0.0012 - acc: 0.0000e+00 - val_loss: 0.0011 - val_acc: 0.0000e+00\n",
            "Epoch 98/100\n",
            "158/158 [==============================] - 0s 2ms/step - loss: 0.0013 - acc: 0.0000e+00 - val_loss: 0.0016 - val_acc: 0.0000e+00\n",
            "Epoch 99/100\n",
            "158/158 [==============================] - 0s 2ms/step - loss: 0.0012 - acc: 0.0000e+00 - val_loss: 0.0012 - val_acc: 0.0000e+00\n",
            "Epoch 100/100\n",
            "158/158 [==============================] - 0s 2ms/step - loss: 0.0012 - acc: 0.0000e+00 - val_loss: 0.0012 - val_acc: 0.0000e+00\n"
          ],
          "name": "stdout"
        },
        {
          "output_type": "execute_result",
          "data": {
            "text/plain": [
              "<keras.callbacks.History at 0x7f6b1d65fa90>"
            ]
          },
          "metadata": {
            "tags": []
          },
          "execution_count": 40
        }
      ]
    },
    {
      "metadata": {
        "id": "YXq6pmyf1gC5",
        "colab_type": "code",
        "outputId": "eac462a2-d957-43e0-9a6c-27e9499f38fe",
        "colab": {
          "base_uri": "https://localhost:8080/",
          "height": 347
        }
      },
      "cell_type": "code",
      "source": [
        "predicted = model.predict(g)\n",
        "\n",
        "import matplotlib.pyplot as plt\n",
        "\n",
        "plt.figure()\n",
        "plt.plot(range(25, len(predicted) + 25), predicted, color='r', label=\"raw_data\")\n",
        "plt.plot(range(0, len(f)), f, color='b', label='predicted_data')\n",
        "plt.legend()\n",
        "plt.show()"
      ],
      "execution_count": 0,
      "outputs": [
        {
          "output_type": "display_data",
          "data": {
            "image/png": "[encoded data removed]",
            "text/plain": [
              "<matplotlib.figure.Figure at 0x7f6b1d7b9908>"
            ]
          },
          "metadata": {
            "tags": []
          }
        }
      ]
    },
    {
      "metadata": {
        "id": "cZM0vQKf3i2u",
        "colab_type": "code",
        "outputId": "3b32767a-fe14-4095-db73-f56ae3b4f05a",
        "colab": {
          "base_uri": "https://localhost:8080/",
          "height": 102
        }
      },
      "cell_type": "code",
      "source": [
        "g[175].T"
      ],
      "execution_count": 0,
      "outputs": [
        {
          "output_type": "execute_result",
          "data": {
            "text/plain": [
              "array([[-1.03795589, -1.01803037, -1.01598594, -1.00752035, -0.99012346,\n",
              "        -0.93469486, -0.93170895, -0.87852602, -0.85085993, -0.87593118,\n",
              "        -0.81308439, -0.75342271, -0.76969634, -0.70477607, -0.59877154,\n",
              "        -0.62899393, -0.50688742, -0.52360165, -0.39005065, -0.35497801,\n",
              "        -0.29572935, -0.22492573, -0.14338109, -0.13372609, -0.0507152 ]])"
            ]
          },
          "metadata": {
            "tags": []
          },
          "execution_count": 19
        }
      ]
    },
    {
      "metadata": {
        "id": "S6nZwn5w3DSL",
        "colab_type": "code",
        "outputId": "5fe49cdd-7636-472d-b99e-0e02576826ec",
        "colab": {
          "base_uri": "https://localhost:8080/",
          "height": 347
        }
      },
      "cell_type": "code",
      "source": [
        "future_test = g[175].T\n",
        "\n",
        "time_length = future_test.shape[1]\n",
        "\n",
        "future_result = np.empty((1)) # Append future prediction here\n",
        "\n",
        "# Predict future\n",
        "for step2 in range(400):\n",
        "  \n",
        "  test_data = np.reshape(future_test, (1, time_length, 1))\n",
        "  batch_predict = model.predict(test_data)\n",
        "  \n",
        "  future_test = np.delete(future_test, 0)\n",
        "  future_test = np.append(future_test, batch_predict)\n",
        "  \n",
        "  future_result = np.append(future_result, batch_predict)\n",
        "  \n",
        "  \n",
        "plt.figure()\n",
        "plt.plot(range(25, len(predicted)+25), predicted, color='r', label='predict_data')\n",
        "plt.plot(range(0, len(f)), f, color='b', label='raw_data')\n",
        "plt.plot(range(0+len(f), len(future_result)+len(f)), future_result, color='g', label='future_predict')\n",
        "plt.legend()\n",
        "plt.show()\n",
        "  "
      ],
      "execution_count": 0,
      "outputs": [
        {
          "output_type": "display_data",
          "data": {
            "image/png": "[encoded data removed]",
            "text/plain": [
              "<matplotlib.figure.Figure at 0x7f6b1d7072e8>"
            ]
          },
          "metadata": {
            "tags": []
          }
        }
      ]
    },
    {
      "metadata": {
        "id": "vHrDsT4D6A0v",
        "colab_type": "code",
        "colab": {}
      },
      "cell_type": "code",
      "source": [
        ""
      ],
      "execution_count": 0,
      "outputs": []
    }
  ]
}