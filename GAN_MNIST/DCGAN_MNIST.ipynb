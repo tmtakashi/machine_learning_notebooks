{
  "nbformat": 4,
  "nbformat_minor": 0,
  "metadata": {
    "colab": {
      "name": "DCGAN_MNIST.ipynb",
      "version": "0.3.2",
      "provenance": [],
      "collapsed_sections": [],
      "include_colab_link": true
    },
    "kernelspec": {
      "name": "python3",
      "display_name": "Python 3"
    },
    "accelerator": "GPU"
  },
  "cells": [
    {
      "cell_type": "markdown",
      "metadata": {
        "id": "view-in-github",
        "colab_type": "text"
      },
      "source": [
        "<a href=\"https://colab.research.google.com/github/tmtakashi/GAN_MNIST/blob/master/DCGAN_MNIST.ipynb\" target=\"_parent\"><img src=\"https://colab.research.google.com/assets/colab-badge.svg\" alt=\"Open In Colab\"/></a>"
      ]
    },
    {
      "metadata": {
        "id": "r5PuyFJFC_EP",
        "colab_type": "code",
        "colab": {}
      },
      "cell_type": "code",
      "source": [
        "# https://qiita.com/triwave33/items/35b4adc9f5b41c5e8141\n",
        "from keras.layers import Dense, Conv2D, UpSampling2D, Activation, LeakyReLU, BatchNormalization, Reshape, Flatten, Input, Dropout\n",
        "from keras.models import Sequential\n",
        "from keras.optimizers import Adam\n",
        "\n",
        "import numpy as np\n",
        "\n",
        "class DCGAN():\n",
        "  def __init__(self):\n",
        "    # MNISTの入力サイズ\n",
        "    self.img_rows = 28\n",
        "    self.img_cols = 28\n",
        "    self.channels = 1\n",
        "    self.img_shape = (self.img_rows, self.img_cols, self.channels)\n",
        "\n",
        "    # 潜在変数の次元数\n",
        "    self.z_dim =100\n",
        "\n",
        "    optimizer = Adam(0.0002, 0.5)\n",
        "\n",
        "    # Discriminatorモデル\n",
        "    self.discriminator = self.build_discriminator()\n",
        "    self.discriminator.compile(loss='binary_crossentropy',\n",
        "                               optimizer=optimizer,\n",
        "                               metrics=['accuracy'])\n",
        "\n",
        "    # Generatorモデル\n",
        "    self.generator = self.build_generator()\n",
        "    # Generatorは単体では学習しないのでコンパイルは必要ない\n",
        "\n",
        "    self.combined = self.build_combined1()\n",
        "    self.combined.compile(loss='binary_crossentropy', optimizer=optimizer)\n",
        "    \n",
        "  def build_generator(self):\n",
        "    noise_shape = (self.z_dim, )\n",
        "    model = Sequential()\n",
        "\n",
        "    model.add(Dense(1024, input_shape=noise_shape))\n",
        "    model.add(BatchNormalization())\n",
        "    model.add(Activation('relu'))\n",
        "    model.add(Dense(128*7*7)) #畳み込み層に(7, 7)の画像として与える\n",
        "    model.add(BatchNormalization())\n",
        "    model.add(Activation('relu'))\n",
        "    model.add(Reshape((7, 7, 128), input_shape=(128*7*7,)))\n",
        "    model.add(UpSampling2D((2, 2)))\n",
        "    model.add(Conv2D(64, (5, 5), padding='same'))\n",
        "    model.add(BatchNormalization())\n",
        "    model.add(Activation('relu'))\n",
        "    model.add(UpSampling2D((2, 2)))\n",
        "    model.add(Conv2D(1, (5, 5), padding='same'))\n",
        "    model.add(Activation('tanh'))\n",
        "    model.summary()\n",
        "    \n",
        "    return model\n",
        "\n",
        "  def build_discriminator(self):\n",
        "    img_shape = (self.img_rows, self.img_cols, self.channels)\n",
        "\n",
        "    model = Sequential()\n",
        "    model.add(Conv2D(64, (5, 5), strides=(2, 2), padding='same', input_shape=img_shape))\n",
        "    model.add(LeakyReLU(0.2))\n",
        "    model.add(Flatten())\n",
        "    model.add(Dense(256))\n",
        "    model.add(LeakyReLU(0.2))\n",
        "    model.add(Dropout(0.5))\n",
        "    model.add(Dense(1))\n",
        "    model.add(Activation('sigmoid'))\n",
        "    return model\n",
        "\n",
        "  def build_combined1(self):\n",
        "    self.discriminator.trainable = False\n",
        "    model = Sequential([self.generator, self.discriminator])\n",
        "    return model\n",
        "\n",
        "  def build_combined2(self):\n",
        "    z = Input(shape=(self.z_dim,))\n",
        "    img = self.generator(z)\n",
        "    self.discriminator.trainable = False\n",
        "    valid = self.discriminator(img)\n",
        "    model = Model(z, valid)\n",
        "    model.summary()\n",
        "    return model\n",
        "\n",
        "  def train(self, iterations, batch_size=128, save_interval=50):\n",
        "\n",
        "    #　MNIST読み込み\n",
        "    from keras.datasets import mnist\n",
        "    (x_train, _), (_, _) = mnist.load_data()\n",
        "\n",
        "    # 正規化\n",
        "    x_train = (x_train.astype(np.float32) - 127.5) / 127.5\n",
        "    # チャンネル次元を増やす\n",
        "    x_train = np.expand_dims(x_train, axis=3)\n",
        "\n",
        "    half_batch = int(batch_size / 2)\n",
        "\n",
        "    for i in range(iterations):\n",
        "\n",
        "      # -------------------------\n",
        "      # Discriminatorの学習\n",
        "      # -------------------------\n",
        "\n",
        "      # バッチサイズの半数をGeneratorから生成\n",
        "      noise = np.random.normal(0, 1, (half_batch, self.z_dim))\n",
        "      gen_imgs = self.generator.predict(noise)\n",
        "\n",
        "      # バッチサイズの半数を教師データからピックアップ\n",
        "      idx = np.random.randint(0, x_train.shape[0], half_batch)\n",
        "      imgs = x_train[idx]\n",
        "\n",
        "      # Discriminatorを学習\n",
        "      # 本物データと偽物データは別々に学習させる\n",
        "      d_loss_real = self.discriminator.train_on_batch(imgs, np.ones((half_batch, 1))) # 本物\n",
        "      d_loss_fake = self.discriminator.train_on_batch(gen_imgs, np.zeros((half_batch, 1))) # 偽物\n",
        "      # それぞれの損失関数を平均\n",
        "      d_loss = 0.5 * np.add(d_loss_real, d_loss_fake)\n",
        "\n",
        "      # -----------------------\n",
        "      # Generatorの学習\n",
        "      # -----------------------\n",
        "\n",
        "      noise = np.random.normal(0, 1, (batch_size, self.z_dim))\n",
        "\n",
        "      # 生成データの正解データは本物\n",
        "      valid_y = np.array([1] * batch_size)\n",
        "\n",
        "      # Generatorを学習\n",
        "      g_loss = self.combined.train_on_batch(noise, valid_y)\n",
        "\n",
        "      # 進捗の表示\n",
        "      if i % 100 == 0:\n",
        "        print(\"%d [ D loss: %f, acc.: %2.f%%] [G loss: %f]\" % (i, d_loss[0], 100*d_loss[1], g_loss))"
      ],
      "execution_count": 0,
      "outputs": []
    },
    {
      "metadata": {
        "id": "deLC-4NWG-ry",
        "colab_type": "code",
        "outputId": "c99ef535-7129-4648-ce30-15df50d39d20",
        "colab": {
          "base_uri": "https://localhost:8080/",
          "height": 734
        }
      },
      "cell_type": "code",
      "source": [
        "model1 = DCGAN()\n",
        "model1.train(iterations=400)"
      ],
      "execution_count": 41,
      "outputs": [
        {
          "output_type": "stream",
          "text": [
            "_________________________________________________________________\n",
            "Layer (type)                 Output Shape              Param #   \n",
            "=================================================================\n",
            "dense_63 (Dense)             (None, 1024)              103424    \n",
            "_________________________________________________________________\n",
            "batch_normalization_46 (Batc (None, 1024)              4096      \n",
            "_________________________________________________________________\n",
            "activation_77 (Activation)   (None, 1024)              0         \n",
            "_________________________________________________________________\n",
            "dense_64 (Dense)             (None, 6272)              6428800   \n",
            "_________________________________________________________________\n",
            "batch_normalization_47 (Batc (None, 6272)              25088     \n",
            "_________________________________________________________________\n",
            "activation_78 (Activation)   (None, 6272)              0         \n",
            "_________________________________________________________________\n",
            "reshape_16 (Reshape)         (None, 7, 7, 128)         0         \n",
            "_________________________________________________________________\n",
            "up_sampling2d_31 (UpSampling (None, 14, 14, 128)       0         \n",
            "_________________________________________________________________\n",
            "conv2d_47 (Conv2D)           (None, 14, 14, 64)        204864    \n",
            "_________________________________________________________________\n",
            "batch_normalization_48 (Batc (None, 14, 14, 64)        256       \n",
            "_________________________________________________________________\n",
            "activation_79 (Activation)   (None, 14, 14, 64)        0         \n",
            "_________________________________________________________________\n",
            "up_sampling2d_32 (UpSampling (None, 28, 28, 64)        0         \n",
            "_________________________________________________________________\n",
            "conv2d_48 (Conv2D)           (None, 28, 28, 1)         1601      \n",
            "_________________________________________________________________\n",
            "activation_80 (Activation)   (None, 28, 28, 1)         0         \n",
            "=================================================================\n",
            "Total params: 6,768,129\n",
            "Trainable params: 6,753,409\n",
            "Non-trainable params: 14,720\n",
            "_________________________________________________________________\n"
          ],
          "name": "stdout"
        },
        {
          "output_type": "stream",
          "text": [
            "/usr/local/lib/python3.6/dist-packages/keras/engine/training.py:490: UserWarning: Discrepancy between trainable weights and collected trainable weights, did you set `model.trainable` without calling `model.compile` after ?\n",
            "  'Discrepancy between trainable weights and collected trainable'\n"
          ],
          "name": "stderr"
        },
        {
          "output_type": "stream",
          "text": [
            "0 [ D loss: 0.751903, acc.: 53%] [G loss: 1.709454]\n",
            "100 [ D loss: 0.787975, acc.: 42%] [G loss: 0.442028]\n",
            "200 [ D loss: 0.536452, acc.: 77%] [G loss: 0.472413]\n",
            "300 [ D loss: 0.639635, acc.: 67%] [G loss: 0.570345]\n"
          ],
          "name": "stdout"
        }
      ]
    },
    {
      "metadata": {
        "id": "VK660bnLHLFm",
        "colab_type": "code",
        "outputId": "0b9d76a6-5e17-4230-95ff-97b537ca1cbe",
        "colab": {
          "base_uri": "https://localhost:8080/",
          "height": 125
        }
      },
      "cell_type": "code",
      "source": [
        "# 400 iteration\n",
        "generated_img = model1.generator.predict(np.random.normal(0, 1, (10, 100)))\n",
        "\n",
        "\n",
        "import matplotlib.pyplot as plt\n",
        "\n",
        "plt.figure(figsize=(20, 2))\n",
        "n =10\n",
        "for i in range(n):\n",
        "    # display original\n",
        "    ax = plt.subplot(1, n, i + 1)\n",
        "    plt.imshow(np.squeeze(generated_img[i]))\n",
        "    ax.get_xaxis().set_visible(False)\n",
        "    ax.get_yaxis().set_visible(False)"
      ],
      "execution_count": 42,
      "outputs": [
        {
          "output_type": "display_data",
          "data": {
            "image/png": "[encoded data removed]",
            "text/plain": [
              "<matplotlib.figure.Figure at 0x7f137fdc3cf8>"
            ]
          },
          "metadata": {
            "tags": []
          }
        }
      ]
    },
    {
      "metadata": {
        "id": "r-Ej_7uYHcx4",
        "colab_type": "code",
        "outputId": "c3c557bc-4724-45bc-a48c-018ec5570888",
        "colab": {
          "base_uri": "https://localhost:8080/",
          "height": 836
        }
      },
      "cell_type": "code",
      "source": [
        "model2 = DCGAN()\n",
        "model2.train(iterations=1000)"
      ],
      "execution_count": 43,
      "outputs": [
        {
          "output_type": "stream",
          "text": [
            "_________________________________________________________________\n",
            "Layer (type)                 Output Shape              Param #   \n",
            "=================================================================\n",
            "dense_67 (Dense)             (None, 1024)              103424    \n",
            "_________________________________________________________________\n",
            "batch_normalization_49 (Batc (None, 1024)              4096      \n",
            "_________________________________________________________________\n",
            "activation_82 (Activation)   (None, 1024)              0         \n",
            "_________________________________________________________________\n",
            "dense_68 (Dense)             (None, 6272)              6428800   \n",
            "_________________________________________________________________\n",
            "batch_normalization_50 (Batc (None, 6272)              25088     \n",
            "_________________________________________________________________\n",
            "activation_83 (Activation)   (None, 6272)              0         \n",
            "_________________________________________________________________\n",
            "reshape_17 (Reshape)         (None, 7, 7, 128)         0         \n",
            "_________________________________________________________________\n",
            "up_sampling2d_33 (UpSampling (None, 14, 14, 128)       0         \n",
            "_________________________________________________________________\n",
            "conv2d_50 (Conv2D)           (None, 14, 14, 64)        204864    \n",
            "_________________________________________________________________\n",
            "batch_normalization_51 (Batc (None, 14, 14, 64)        256       \n",
            "_________________________________________________________________\n",
            "activation_84 (Activation)   (None, 14, 14, 64)        0         \n",
            "_________________________________________________________________\n",
            "up_sampling2d_34 (UpSampling (None, 28, 28, 64)        0         \n",
            "_________________________________________________________________\n",
            "conv2d_51 (Conv2D)           (None, 28, 28, 1)         1601      \n",
            "_________________________________________________________________\n",
            "activation_85 (Activation)   (None, 28, 28, 1)         0         \n",
            "=================================================================\n",
            "Total params: 6,768,129\n",
            "Trainable params: 6,753,409\n",
            "Non-trainable params: 14,720\n",
            "_________________________________________________________________\n"
          ],
          "name": "stdout"
        },
        {
          "output_type": "stream",
          "text": [
            "/usr/local/lib/python3.6/dist-packages/keras/engine/training.py:490: UserWarning: Discrepancy between trainable weights and collected trainable weights, did you set `model.trainable` without calling `model.compile` after ?\n",
            "  'Discrepancy between trainable weights and collected trainable'\n"
          ],
          "name": "stderr"
        },
        {
          "output_type": "stream",
          "text": [
            "0 [ D loss: 0.721532, acc.: 20%] [G loss: 0.943402]\n",
            "100 [ D loss: 0.591787, acc.: 74%] [G loss: 0.386529]\n",
            "200 [ D loss: 0.627870, acc.: 63%] [G loss: 0.367138]\n",
            "300 [ D loss: 0.645242, acc.: 65%] [G loss: 0.720271]\n",
            "400 [ D loss: 0.497656, acc.: 79%] [G loss: 0.472244]\n",
            "500 [ D loss: 0.566182, acc.: 74%] [G loss: 0.423925]\n",
            "600 [ D loss: 0.418040, acc.: 82%] [G loss: 0.319244]\n",
            "700 [ D loss: 0.449779, acc.: 80%] [G loss: 0.356430]\n",
            "800 [ D loss: 0.477620, acc.: 78%] [G loss: 0.602705]\n",
            "900 [ D loss: 0.497202, acc.: 78%] [G loss: 0.631035]\n"
          ],
          "name": "stdout"
        }
      ]
    },
    {
      "metadata": {
        "id": "-j_Yx2DQHpN8",
        "colab_type": "code",
        "outputId": "6dc64e66-8b31-43c1-9139-d447b46b6d3d",
        "colab": {
          "base_uri": "https://localhost:8080/",
          "height": 125
        }
      },
      "cell_type": "code",
      "source": [
        "# 1000 iteration\n",
        "generated_img = model2.generator.predict(np.random.normal(0, 1, (10, 100)))\n",
        "\n",
        "\n",
        "import matplotlib.pyplot as plt\n",
        "\n",
        "plt.figure(figsize=(20, 2))\n",
        "n =10\n",
        "for i in range(n):\n",
        "    # display original\n",
        "    ax = plt.subplot(1, n, i + 1)\n",
        "    plt.imshow(np.squeeze(generated_img[i]))\n",
        "    ax.get_xaxis().set_visible(False)\n",
        "    ax.get_yaxis().set_visible(False)"
      ],
      "execution_count": 44,
      "outputs": [
        {
          "output_type": "display_data",
          "data": {
            "image/png": "[encoded data removed]",
            "text/plain": [
              "<matplotlib.figure.Figure at 0x7f137dc61588>"
            ]
          },
          "metadata": {
            "tags": []
          }
        }
      ]
    },
    {
      "metadata": {
        "id": "ZkGgLP2eH1fn",
        "colab_type": "code",
        "outputId": "f35fa618-bdc8-41e0-b5dc-d946a74a63a6",
        "colab": {
          "base_uri": "https://localhost:8080/",
          "height": 1516
        }
      },
      "cell_type": "code",
      "source": [
        "model3 = DCGAN()\n",
        "model3.train(iterations=5000)"
      ],
      "execution_count": 45,
      "outputs": [
        {
          "output_type": "stream",
          "text": [
            "_________________________________________________________________\n",
            "Layer (type)                 Output Shape              Param #   \n",
            "=================================================================\n",
            "dense_71 (Dense)             (None, 1024)              103424    \n",
            "_________________________________________________________________\n",
            "batch_normalization_52 (Batc (None, 1024)              4096      \n",
            "_________________________________________________________________\n",
            "activation_87 (Activation)   (None, 1024)              0         \n",
            "_________________________________________________________________\n",
            "dense_72 (Dense)             (None, 6272)              6428800   \n",
            "_________________________________________________________________\n",
            "batch_normalization_53 (Batc (None, 6272)              25088     \n",
            "_________________________________________________________________\n",
            "activation_88 (Activation)   (None, 6272)              0         \n",
            "_________________________________________________________________\n",
            "reshape_18 (Reshape)         (None, 7, 7, 128)         0         \n",
            "_________________________________________________________________\n",
            "up_sampling2d_35 (UpSampling (None, 14, 14, 128)       0         \n",
            "_________________________________________________________________\n",
            "conv2d_53 (Conv2D)           (None, 14, 14, 64)        204864    \n",
            "_________________________________________________________________\n",
            "batch_normalization_54 (Batc (None, 14, 14, 64)        256       \n",
            "_________________________________________________________________\n",
            "activation_89 (Activation)   (None, 14, 14, 64)        0         \n",
            "_________________________________________________________________\n",
            "up_sampling2d_36 (UpSampling (None, 28, 28, 64)        0         \n",
            "_________________________________________________________________\n",
            "conv2d_54 (Conv2D)           (None, 28, 28, 1)         1601      \n",
            "_________________________________________________________________\n",
            "activation_90 (Activation)   (None, 28, 28, 1)         0         \n",
            "=================================================================\n",
            "Total params: 6,768,129\n",
            "Trainable params: 6,753,409\n",
            "Non-trainable params: 14,720\n",
            "_________________________________________________________________\n"
          ],
          "name": "stdout"
        },
        {
          "output_type": "stream",
          "text": [
            "/usr/local/lib/python3.6/dist-packages/keras/engine/training.py:490: UserWarning: Discrepancy between trainable weights and collected trainable weights, did you set `model.trainable` without calling `model.compile` after ?\n",
            "  'Discrepancy between trainable weights and collected trainable'\n"
          ],
          "name": "stderr"
        },
        {
          "output_type": "stream",
          "text": [
            "0 [ D loss: 0.744345, acc.: 25%] [G loss: 0.239432]\n",
            "100 [ D loss: 0.474261, acc.: 80%] [G loss: 0.338620]\n",
            "200 [ D loss: 0.756195, acc.: 46%] [G loss: 0.390754]\n",
            "300 [ D loss: 0.684683, acc.: 57%] [G loss: 0.540423]\n",
            "400 [ D loss: 0.638130, acc.: 63%] [G loss: 0.572719]\n",
            "500 [ D loss: 0.624034, acc.: 63%] [G loss: 0.415482]\n",
            "600 [ D loss: 0.354498, acc.: 88%] [G loss: 0.248970]\n",
            "700 [ D loss: 0.518878, acc.: 71%] [G loss: 0.475221]\n",
            "800 [ D loss: 0.361347, acc.: 84%] [G loss: 0.148523]\n",
            "900 [ D loss: 0.293054, acc.: 89%] [G loss: 0.183466]\n",
            "1000 [ D loss: 0.333278, acc.: 88%] [G loss: 0.327391]\n",
            "1100 [ D loss: 0.292302, acc.: 88%] [G loss: 0.144093]\n",
            "1200 [ D loss: 0.358142, acc.: 85%] [G loss: 0.202870]\n",
            "1300 [ D loss: 0.190488, acc.: 91%] [G loss: 0.492762]\n",
            "1400 [ D loss: 0.246713, acc.: 91%] [G loss: 0.269303]\n",
            "1500 [ D loss: 0.310008, acc.: 85%] [G loss: 0.402708]\n",
            "1600 [ D loss: 0.533395, acc.: 74%] [G loss: 0.760924]\n",
            "1700 [ D loss: 0.371975, acc.: 86%] [G loss: 1.468985]\n",
            "1800 [ D loss: 0.552980, acc.: 73%] [G loss: 1.076176]\n",
            "1900 [ D loss: 0.563954, acc.: 73%] [G loss: 0.921005]\n",
            "2000 [ D loss: 0.439188, acc.: 81%] [G loss: 0.743149]\n",
            "2100 [ D loss: 0.297637, acc.: 90%] [G loss: 0.588611]\n",
            "2200 [ D loss: 0.530856, acc.: 72%] [G loss: 0.823254]\n",
            "2300 [ D loss: 0.597275, acc.: 62%] [G loss: 1.056842]\n",
            "2400 [ D loss: 0.614939, acc.: 62%] [G loss: 1.112310]\n",
            "2500 [ D loss: 0.537932, acc.: 75%] [G loss: 0.880639]\n",
            "2600 [ D loss: 0.668486, acc.: 58%] [G loss: 0.909449]\n",
            "2700 [ D loss: 0.560749, acc.: 70%] [G loss: 0.944884]\n",
            "2800 [ D loss: 0.633425, acc.: 64%] [G loss: 0.928732]\n",
            "2900 [ D loss: 0.716343, acc.: 57%] [G loss: 0.813039]\n",
            "3000 [ D loss: 0.666748, acc.: 61%] [G loss: 0.752012]\n",
            "3100 [ D loss: 0.585511, acc.: 68%] [G loss: 0.807687]\n",
            "3200 [ D loss: 0.603388, acc.: 68%] [G loss: 0.864510]\n",
            "3300 [ D loss: 0.753424, acc.: 49%] [G loss: 0.822584]\n",
            "3400 [ D loss: 0.680962, acc.: 63%] [G loss: 0.782073]\n",
            "3500 [ D loss: 0.697430, acc.: 55%] [G loss: 0.889259]\n",
            "3600 [ D loss: 0.676388, acc.: 62%] [G loss: 0.742611]\n",
            "3700 [ D loss: 0.700073, acc.: 55%] [G loss: 0.787426]\n",
            "3800 [ D loss: 0.717679, acc.: 59%] [G loss: 0.871844]\n",
            "3900 [ D loss: 0.617385, acc.: 68%] [G loss: 0.693298]\n",
            "4000 [ D loss: 0.590025, acc.: 64%] [G loss: 0.792759]\n",
            "4100 [ D loss: 0.665956, acc.: 59%] [G loss: 0.788750]\n",
            "4200 [ D loss: 0.723121, acc.: 55%] [G loss: 0.799870]\n",
            "4300 [ D loss: 0.760420, acc.: 50%] [G loss: 0.834068]\n",
            "4400 [ D loss: 0.655005, acc.: 61%] [G loss: 0.793245]\n",
            "4500 [ D loss: 0.570230, acc.: 74%] [G loss: 0.750298]\n",
            "4600 [ D loss: 0.703813, acc.: 52%] [G loss: 0.855391]\n",
            "4700 [ D loss: 0.634636, acc.: 68%] [G loss: 0.778988]\n",
            "4800 [ D loss: 0.735992, acc.: 50%] [G loss: 0.764939]\n",
            "4900 [ D loss: 0.694786, acc.: 52%] [G loss: 0.738884]\n"
          ],
          "name": "stdout"
        }
      ]
    },
    {
      "metadata": {
        "id": "S7jLu2jtHuKn",
        "colab_type": "code",
        "outputId": "30e9bb83-b0d7-4e34-93d4-66546d496606",
        "colab": {
          "base_uri": "https://localhost:8080/",
          "height": 125
        }
      },
      "cell_type": "code",
      "source": [
        "# 5000 iteration\n",
        "from matplotlib import cm\n",
        "generated_img = model3.generator.predict(np.random.normal(0, 1, (10, 100)))\n",
        "\n",
        "\n",
        "import matplotlib.pyplot as plt\n",
        "\n",
        "plt.figure(figsize=(20, 2))\n",
        "n =10\n",
        "for i in range(n):\n",
        "    # display original\n",
        "    ax = plt.subplot(1, n, i + 1)\n",
        "    plt.imshow(np.squeeze(generated_img[i]), cmap=cm.gray_r)\n",
        "    ax.get_xaxis().set_visible(False)\n",
        "    ax.get_yaxis().set_visible(False)"
      ],
      "execution_count": 46,
      "outputs": [
        {
          "output_type": "display_data",
          "data": {
            "image/png": "[encoded data removed]",
            "text/plain": [
              "<matplotlib.figure.Figure at 0x7f137ceade10>"
            ]
          },
          "metadata": {
            "tags": []
          }
        }
      ]
    },
    {
      "metadata": {
        "id": "ZO1xQ_k7gf4t",
        "colab_type": "code",
        "colab": {
          "base_uri": "https://localhost:8080/",
          "height": 364
        },
        "outputId": "0cfe5cf5-10d3-43bb-f2a9-962fac5cdfba"
      },
      "cell_type": "code",
      "source": [
        "from keras.datasets  import mnist\n",
        "(x_train, _), (_, _) = mnist.load_data()\n",
        "import matplotlib.pyplot as plt\n",
        "\n",
        "plt.imshow(x_train[0])"
      ],
      "execution_count": 48,
      "outputs": [
        {
          "output_type": "execute_result",
          "data": {
            "text/plain": [
              "<matplotlib.image.AxesImage at 0x7f137f331278>"
            ]
          },
          "metadata": {
            "tags": []
          },
          "execution_count": 48
        },
        {
          "output_type": "display_data",
          "data": {
            "image/png": "[encoded data removed]",
            "text/plain": [
              "<matplotlib.figure.Figure at 0x7f13a68f3470>"
            ]
          },
          "metadata": {
            "tags": []
          }
        }
      ]
    },
    {
      "metadata": {
        "id": "4nEV3yiBIWLu",
        "colab_type": "code",
        "outputId": "b1f05ccc-57e8-480c-aa37-19aada42f206",
        "colab": {
          "base_uri": "https://localhost:8080/",
          "height": 2366
        }
      },
      "cell_type": "code",
      "source": [
        "model5 = DCGAN()\n",
        "model5.train(iterations=10000)"
      ],
      "execution_count": 49,
      "outputs": [
        {
          "output_type": "stream",
          "text": [
            "_________________________________________________________________\n",
            "Layer (type)                 Output Shape              Param #   \n",
            "=================================================================\n",
            "dense_79 (Dense)             (None, 1024)              103424    \n",
            "_________________________________________________________________\n",
            "batch_normalization_58 (Batc (None, 1024)              4096      \n",
            "_________________________________________________________________\n",
            "activation_97 (Activation)   (None, 1024)              0         \n",
            "_________________________________________________________________\n",
            "dense_80 (Dense)             (None, 6272)              6428800   \n",
            "_________________________________________________________________\n",
            "batch_normalization_59 (Batc (None, 6272)              25088     \n",
            "_________________________________________________________________\n",
            "activation_98 (Activation)   (None, 6272)              0         \n",
            "_________________________________________________________________\n",
            "reshape_20 (Reshape)         (None, 7, 7, 128)         0         \n",
            "_________________________________________________________________\n",
            "up_sampling2d_39 (UpSampling (None, 14, 14, 128)       0         \n",
            "_________________________________________________________________\n",
            "conv2d_59 (Conv2D)           (None, 14, 14, 64)        204864    \n",
            "_________________________________________________________________\n",
            "batch_normalization_60 (Batc (None, 14, 14, 64)        256       \n",
            "_________________________________________________________________\n",
            "activation_99 (Activation)   (None, 14, 14, 64)        0         \n",
            "_________________________________________________________________\n",
            "up_sampling2d_40 (UpSampling (None, 28, 28, 64)        0         \n",
            "_________________________________________________________________\n",
            "conv2d_60 (Conv2D)           (None, 28, 28, 1)         1601      \n",
            "_________________________________________________________________\n",
            "activation_100 (Activation)  (None, 28, 28, 1)         0         \n",
            "=================================================================\n",
            "Total params: 6,768,129\n",
            "Trainable params: 6,753,409\n",
            "Non-trainable params: 14,720\n",
            "_________________________________________________________________\n"
          ],
          "name": "stdout"
        },
        {
          "output_type": "stream",
          "text": [
            "/usr/local/lib/python3.6/dist-packages/keras/engine/training.py:490: UserWarning: Discrepancy between trainable weights and collected trainable weights, did you set `model.trainable` without calling `model.compile` after ?\n",
            "  'Discrepancy between trainable weights and collected trainable'\n"
          ],
          "name": "stderr"
        },
        {
          "output_type": "stream",
          "text": [
            "0 [ D loss: 0.689809, acc.: 48%] [G loss: 0.295970]\n",
            "100 [ D loss: 0.936741, acc.: 38%] [G loss: 0.323381]\n",
            "200 [ D loss: 0.731401, acc.: 45%] [G loss: 0.423115]\n",
            "300 [ D loss: 0.678699, acc.: 57%] [G loss: 0.648059]\n",
            "400 [ D loss: 0.638809, acc.: 62%] [G loss: 0.258137]\n",
            "500 [ D loss: 0.547395, acc.: 67%] [G loss: 0.182245]\n",
            "600 [ D loss: 0.379721, acc.: 86%] [G loss: 0.162121]\n",
            "700 [ D loss: 0.322669, acc.: 91%] [G loss: 0.311511]\n",
            "800 [ D loss: 0.434873, acc.: 77%] [G loss: 0.184091]\n",
            "900 [ D loss: 0.459715, acc.: 76%] [G loss: 0.782148]\n",
            "1000 [ D loss: 0.395708, acc.: 84%] [G loss: 0.321473]\n",
            "1100 [ D loss: 0.430761, acc.: 83%] [G loss: 0.601243]\n",
            "1200 [ D loss: 0.274639, acc.: 90%] [G loss: 0.478961]\n",
            "1300 [ D loss: 0.289714, acc.: 89%] [G loss: 0.728320]\n",
            "1400 [ D loss: 0.452531, acc.: 77%] [G loss: 0.690760]\n",
            "1500 [ D loss: 0.450992, acc.: 79%] [G loss: 0.541431]\n",
            "1600 [ D loss: 0.307781, acc.: 88%] [G loss: 0.409326]\n",
            "1700 [ D loss: 0.302196, acc.: 88%] [G loss: 1.169298]\n",
            "1800 [ D loss: 0.422070, acc.: 80%] [G loss: 1.215811]\n",
            "1900 [ D loss: 0.430933, acc.: 78%] [G loss: 1.324085]\n",
            "2000 [ D loss: 0.508575, acc.: 74%] [G loss: 1.062856]\n",
            "2100 [ D loss: 0.556011, acc.: 70%] [G loss: 0.989110]\n",
            "2200 [ D loss: 0.472202, acc.: 76%] [G loss: 0.659903]\n",
            "2300 [ D loss: 0.312559, acc.: 85%] [G loss: 0.212573]\n",
            "2400 [ D loss: 0.546753, acc.: 73%] [G loss: 1.256758]\n",
            "2500 [ D loss: 0.577162, acc.: 68%] [G loss: 1.283832]\n",
            "2600 [ D loss: 0.591263, acc.: 73%] [G loss: 1.051173]\n",
            "2700 [ D loss: 0.660147, acc.: 62%] [G loss: 1.098762]\n",
            "2800 [ D loss: 0.641942, acc.: 64%] [G loss: 0.937259]\n",
            "2900 [ D loss: 0.587673, acc.: 69%] [G loss: 0.691492]\n",
            "3000 [ D loss: 0.531042, acc.: 73%] [G loss: 1.171475]\n",
            "3100 [ D loss: 0.630496, acc.: 66%] [G loss: 0.806637]\n",
            "3200 [ D loss: 0.647508, acc.: 61%] [G loss: 0.905794]\n",
            "3300 [ D loss: 0.637338, acc.: 60%] [G loss: 0.958804]\n",
            "3400 [ D loss: 0.656453, acc.: 61%] [G loss: 0.841424]\n",
            "3500 [ D loss: 0.723596, acc.: 53%] [G loss: 0.907307]\n",
            "3600 [ D loss: 0.650137, acc.: 60%] [G loss: 0.888294]\n",
            "3700 [ D loss: 0.667740, acc.: 55%] [G loss: 0.830822]\n",
            "3800 [ D loss: 0.700734, acc.: 56%] [G loss: 0.815135]\n",
            "3900 [ D loss: 0.631574, acc.: 61%] [G loss: 0.862942]\n",
            "4000 [ D loss: 0.681495, acc.: 59%] [G loss: 0.885905]\n",
            "4100 [ D loss: 0.640622, acc.: 62%] [G loss: 0.797283]\n",
            "4200 [ D loss: 0.587725, acc.: 71%] [G loss: 0.917470]\n",
            "4300 [ D loss: 0.722797, acc.: 55%] [G loss: 0.762391]\n",
            "4400 [ D loss: 0.674252, acc.: 58%] [G loss: 1.014240]\n",
            "4500 [ D loss: 0.681015, acc.: 60%] [G loss: 0.797906]\n",
            "4600 [ D loss: 0.648225, acc.: 60%] [G loss: 0.885280]\n",
            "4700 [ D loss: 0.676394, acc.: 59%] [G loss: 0.804985]\n",
            "4800 [ D loss: 0.709785, acc.: 54%] [G loss: 0.840655]\n",
            "4900 [ D loss: 0.682444, acc.: 59%] [G loss: 0.900847]\n",
            "5000 [ D loss: 0.686620, acc.: 61%] [G loss: 0.898091]\n",
            "5100 [ D loss: 0.617316, acc.: 60%] [G loss: 0.937803]\n",
            "5200 [ D loss: 0.665753, acc.: 59%] [G loss: 0.900906]\n",
            "5300 [ D loss: 0.659546, acc.: 62%] [G loss: 0.812658]\n",
            "5400 [ D loss: 0.667888, acc.: 60%] [G loss: 0.824916]\n",
            "5500 [ D loss: 0.678519, acc.: 64%] [G loss: 0.813248]\n",
            "5600 [ D loss: 0.663194, acc.: 61%] [G loss: 0.842180]\n",
            "5700 [ D loss: 0.648604, acc.: 62%] [G loss: 0.835253]\n",
            "5800 [ D loss: 0.624203, acc.: 70%] [G loss: 0.839203]\n",
            "5900 [ D loss: 0.615958, acc.: 67%] [G loss: 0.855373]\n",
            "6000 [ D loss: 0.680114, acc.: 61%] [G loss: 0.801656]\n",
            "6100 [ D loss: 0.689260, acc.: 50%] [G loss: 0.868712]\n",
            "6200 [ D loss: 0.675558, acc.: 61%] [G loss: 0.888006]\n",
            "6300 [ D loss: 0.678819, acc.: 59%] [G loss: 0.836367]\n",
            "6400 [ D loss: 0.697637, acc.: 56%] [G loss: 0.818776]\n",
            "6500 [ D loss: 0.712959, acc.: 53%] [G loss: 0.863138]\n",
            "6600 [ D loss: 0.620909, acc.: 64%] [G loss: 0.852539]\n",
            "6700 [ D loss: 0.642899, acc.: 62%] [G loss: 0.917118]\n",
            "6800 [ D loss: 0.706069, acc.: 55%] [G loss: 0.840710]\n",
            "6900 [ D loss: 0.643194, acc.: 68%] [G loss: 0.875838]\n",
            "7000 [ D loss: 0.640276, acc.: 66%] [G loss: 0.905394]\n",
            "7100 [ D loss: 0.647025, acc.: 64%] [G loss: 0.833220]\n",
            "7200 [ D loss: 0.691171, acc.: 58%] [G loss: 0.847842]\n",
            "7300 [ D loss: 0.668177, acc.: 60%] [G loss: 0.832729]\n",
            "7400 [ D loss: 0.744645, acc.: 53%] [G loss: 0.768362]\n",
            "7500 [ D loss: 0.673305, acc.: 64%] [G loss: 0.806389]\n",
            "7600 [ D loss: 0.657510, acc.: 60%] [G loss: 0.760814]\n",
            "7700 [ D loss: 0.673850, acc.: 59%] [G loss: 0.813703]\n",
            "7800 [ D loss: 0.677786, acc.: 56%] [G loss: 0.776650]\n",
            "7900 [ D loss: 0.723385, acc.: 54%] [G loss: 0.839723]\n",
            "8000 [ D loss: 0.709501, acc.: 56%] [G loss: 0.788857]\n",
            "8100 [ D loss: 0.654035, acc.: 61%] [G loss: 0.758726]\n",
            "8200 [ D loss: 0.671271, acc.: 49%] [G loss: 0.846456]\n",
            "8300 [ D loss: 0.687160, acc.: 54%] [G loss: 0.780237]\n",
            "8400 [ D loss: 0.654071, acc.: 61%] [G loss: 0.816757]\n",
            "8500 [ D loss: 0.659784, acc.: 57%] [G loss: 0.904767]\n",
            "8600 [ D loss: 0.627219, acc.: 62%] [G loss: 0.775153]\n",
            "8700 [ D loss: 0.621915, acc.: 66%] [G loss: 0.817009]\n",
            "8800 [ D loss: 0.606671, acc.: 66%] [G loss: 0.881623]\n",
            "8900 [ D loss: 0.621158, acc.: 66%] [G loss: 0.917557]\n",
            "9000 [ D loss: 0.650393, acc.: 60%] [G loss: 0.865012]\n",
            "9100 [ D loss: 0.594493, acc.: 70%] [G loss: 0.873225]\n",
            "9200 [ D loss: 0.652528, acc.: 62%] [G loss: 0.840512]\n",
            "9300 [ D loss: 0.632017, acc.: 63%] [G loss: 0.930947]\n",
            "9400 [ D loss: 0.695676, acc.: 55%] [G loss: 0.818701]\n",
            "9500 [ D loss: 0.654091, acc.: 62%] [G loss: 0.854860]\n",
            "9600 [ D loss: 0.676507, acc.: 58%] [G loss: 0.828507]\n",
            "9700 [ D loss: 0.611475, acc.: 67%] [G loss: 0.937803]\n",
            "9800 [ D loss: 0.632938, acc.: 65%] [G loss: 0.829614]\n",
            "9900 [ D loss: 0.636447, acc.: 60%] [G loss: 0.805677]\n"
          ],
          "name": "stdout"
        }
      ]
    },
    {
      "metadata": {
        "id": "dKE7JPUeH7IY",
        "colab_type": "code",
        "colab": {
          "base_uri": "https://localhost:8080/",
          "height": 125
        },
        "outputId": "fee2d497-9e9c-4277-f9f5-2e7a91926a4c"
      },
      "cell_type": "code",
      "source": [
        "# 10000 iteration\n",
        "generated_img = model5.generator.predict(np.random.normal(0, 1, (10, 100)))\n",
        "\n",
        "\n",
        "import matplotlib.pyplot as plt\n",
        "\n",
        "plt.figure(figsize=(20, 2))\n",
        "n =10\n",
        "for i in range(n):\n",
        "    # display original\n",
        "    ax = plt.subplot(1, n, i + 1)\n",
        "    plt.imshow(np.squeeze(generated_img[i]), cmap=cm.gray_r)\n",
        "    ax.get_xaxis().set_visible(False)\n",
        "    ax.get_yaxis().set_visible(False)"
      ],
      "execution_count": 50,
      "outputs": [
        {
          "output_type": "display_data",
          "data": {
            "image/png": "[encoded data removed]",
            "text/plain": [
              "<matplotlib.figure.Figure at 0x7f1379c78278>"
            ]
          },
          "metadata": {
            "tags": []
          }
        }
      ]
    },
    {
      "metadata": {
        "id": "GSJwrCFuH8Yl",
        "colab_type": "code",
        "outputId": "ed0bb39b-abcc-4025-ca78-a71826c84fe4",
        "colab": {
          "base_uri": "https://localhost:8080/",
          "height": 3080
        }
      },
      "cell_type": "code",
      "source": [
        "model4 = DCGAN()\n",
        "model4.train(iterations=20000)"
      ],
      "execution_count": 0,
      "outputs": [
        {
          "output_type": "stream",
          "text": [
            "_________________________________________________________________\n",
            "Layer (type)                 Output Shape              Param #   \n",
            "=================================================================\n",
            "dense_87 (Dense)             (None, 1024)              103424    \n",
            "_________________________________________________________________\n",
            "batch_normalization_64 (Batc (None, 1024)              4096      \n",
            "_________________________________________________________________\n",
            "activation_107 (Activation)  (None, 1024)              0         \n",
            "_________________________________________________________________\n",
            "dense_88 (Dense)             (None, 6272)              6428800   \n",
            "_________________________________________________________________\n",
            "batch_normalization_65 (Batc (None, 6272)              25088     \n",
            "_________________________________________________________________\n",
            "activation_108 (Activation)  (None, 6272)              0         \n",
            "_________________________________________________________________\n",
            "reshape_22 (Reshape)         (None, 7, 7, 128)         0         \n",
            "_________________________________________________________________\n",
            "up_sampling2d_43 (UpSampling (None, 14, 14, 128)       0         \n",
            "_________________________________________________________________\n",
            "conv2d_65 (Conv2D)           (None, 14, 14, 64)        204864    \n",
            "_________________________________________________________________\n",
            "batch_normalization_66 (Batc (None, 14, 14, 64)        256       \n",
            "_________________________________________________________________\n",
            "activation_109 (Activation)  (None, 14, 14, 64)        0         \n",
            "_________________________________________________________________\n",
            "up_sampling2d_44 (UpSampling (None, 28, 28, 64)        0         \n",
            "_________________________________________________________________\n",
            "conv2d_66 (Conv2D)           (None, 28, 28, 1)         1601      \n",
            "_________________________________________________________________\n",
            "activation_110 (Activation)  (None, 28, 28, 1)         0         \n",
            "=================================================================\n",
            "Total params: 6,768,129\n",
            "Trainable params: 6,753,409\n",
            "Non-trainable params: 14,720\n",
            "_________________________________________________________________\n"
          ],
          "name": "stdout"
        },
        {
          "output_type": "stream",
          "text": [
            "/usr/local/lib/python3.6/dist-packages/keras/engine/training.py:490: UserWarning: Discrepancy between trainable weights and collected trainable weights, did you set `model.trainable` without calling `model.compile` after ?\n",
            "  'Discrepancy between trainable weights and collected trainable'\n"
          ],
          "name": "stderr"
        },
        {
          "output_type": "stream",
          "text": [
            "0 [ D loss: 0.728423, acc.: 55%] [G loss: 1.119257]\n",
            "100 [ D loss: 0.701212, acc.: 49%] [G loss: 0.715881]\n",
            "200 [ D loss: 0.443091, acc.: 83%] [G loss: 0.774487]\n",
            "300 [ D loss: 0.620308, acc.: 65%] [G loss: 0.425206]\n",
            "400 [ D loss: 0.423621, acc.: 78%] [G loss: 0.308229]\n",
            "500 [ D loss: 0.372842, acc.: 85%] [G loss: 0.117268]\n",
            "600 [ D loss: 0.455015, acc.: 79%] [G loss: 0.167992]\n",
            "700 [ D loss: 0.350767, acc.: 84%] [G loss: 0.139540]\n",
            "800 [ D loss: 0.418484, acc.: 77%] [G loss: 0.168473]\n",
            "900 [ D loss: 0.481098, acc.: 73%] [G loss: 0.486193]\n",
            "1000 [ D loss: 0.452743, acc.: 80%] [G loss: 0.410499]\n",
            "1100 [ D loss: 0.405148, acc.: 84%] [G loss: 0.259333]\n",
            "1200 [ D loss: 0.354854, acc.: 84%] [G loss: 0.199948]\n",
            "1300 [ D loss: 0.502444, acc.: 73%] [G loss: 0.393126]\n",
            "1400 [ D loss: 0.430383, acc.: 83%] [G loss: 0.891470]\n",
            "1500 [ D loss: 0.429217, acc.: 82%] [G loss: 0.859046]\n",
            "1600 [ D loss: 0.502337, acc.: 77%] [G loss: 0.793046]\n",
            "1700 [ D loss: 0.356866, acc.: 88%] [G loss: 0.520906]\n",
            "1800 [ D loss: 0.458601, acc.: 80%] [G loss: 0.688607]\n",
            "1900 [ D loss: 0.413002, acc.: 83%] [G loss: 0.708899]\n",
            "2000 [ D loss: 0.431052, acc.: 80%] [G loss: 0.961251]\n",
            "2100 [ D loss: 0.545744, acc.: 72%] [G loss: 1.101485]\n",
            "2200 [ D loss: 0.562610, acc.: 70%] [G loss: 1.350988]\n",
            "2300 [ D loss: 0.614071, acc.: 66%] [G loss: 0.971982]\n",
            "2400 [ D loss: 0.688828, acc.: 63%] [G loss: 1.070800]\n",
            "2500 [ D loss: 0.568485, acc.: 71%] [G loss: 0.747755]\n",
            "2600 [ D loss: 0.640478, acc.: 64%] [G loss: 1.021555]\n",
            "2700 [ D loss: 0.643352, acc.: 61%] [G loss: 0.893914]\n",
            "2800 [ D loss: 0.707798, acc.: 55%] [G loss: 0.898603]\n",
            "2900 [ D loss: 0.552710, acc.: 76%] [G loss: 0.896949]\n",
            "3000 [ D loss: 0.598533, acc.: 67%] [G loss: 0.892636]\n",
            "3100 [ D loss: 0.689440, acc.: 56%] [G loss: 0.865362]\n",
            "3200 [ D loss: 0.609847, acc.: 67%] [G loss: 0.888155]\n",
            "3300 [ D loss: 0.642454, acc.: 60%] [G loss: 0.916885]\n",
            "3400 [ D loss: 0.698673, acc.: 59%] [G loss: 0.951113]\n",
            "3500 [ D loss: 0.602238, acc.: 66%] [G loss: 0.871436]\n",
            "3600 [ D loss: 0.604119, acc.: 66%] [G loss: 0.787662]\n",
            "3700 [ D loss: 0.610604, acc.: 69%] [G loss: 0.626656]\n",
            "3800 [ D loss: 0.562863, acc.: 74%] [G loss: 0.896944]\n",
            "3900 [ D loss: 0.628139, acc.: 68%] [G loss: 0.762946]\n",
            "4000 [ D loss: 0.637265, acc.: 66%] [G loss: 0.993879]\n",
            "4100 [ D loss: 0.692526, acc.: 53%] [G loss: 0.916478]\n",
            "4200 [ D loss: 0.632052, acc.: 65%] [G loss: 0.752348]\n",
            "4300 [ D loss: 0.590699, acc.: 69%] [G loss: 0.843765]\n",
            "4400 [ D loss: 0.622175, acc.: 64%] [G loss: 0.972189]\n",
            "4500 [ D loss: 0.628528, acc.: 60%] [G loss: 0.837682]\n",
            "4600 [ D loss: 0.630365, acc.: 62%] [G loss: 0.910987]\n",
            "4700 [ D loss: 0.661706, acc.: 66%] [G loss: 0.874842]\n",
            "4800 [ D loss: 0.596417, acc.: 64%] [G loss: 0.836688]\n",
            "4900 [ D loss: 0.616957, acc.: 63%] [G loss: 0.918643]\n",
            "5000 [ D loss: 0.644440, acc.: 59%] [G loss: 0.867813]\n",
            "5100 [ D loss: 0.685379, acc.: 55%] [G loss: 0.824973]\n",
            "5200 [ D loss: 0.632068, acc.: 63%] [G loss: 0.825955]\n",
            "5300 [ D loss: 0.663190, acc.: 60%] [G loss: 0.834529]\n",
            "5400 [ D loss: 0.725664, acc.: 54%] [G loss: 0.819435]\n",
            "5500 [ D loss: 0.627978, acc.: 67%] [G loss: 0.970132]\n",
            "5600 [ D loss: 0.657345, acc.: 62%] [G loss: 0.828954]\n",
            "5700 [ D loss: 0.575369, acc.: 73%] [G loss: 0.876753]\n",
            "5800 [ D loss: 0.637070, acc.: 71%] [G loss: 0.883502]\n",
            "5900 [ D loss: 0.656109, acc.: 64%] [G loss: 0.838106]\n",
            "6000 [ D loss: 0.642098, acc.: 60%] [G loss: 0.838221]\n",
            "6100 [ D loss: 0.715710, acc.: 52%] [G loss: 0.767037]\n",
            "6200 [ D loss: 0.729077, acc.: 52%] [G loss: 0.756635]\n",
            "6300 [ D loss: 0.686728, acc.: 55%] [G loss: 0.870002]\n",
            "6400 [ D loss: 0.708120, acc.: 51%] [G loss: 0.774951]\n",
            "6500 [ D loss: 0.694392, acc.: 55%] [G loss: 0.845456]\n",
            "6600 [ D loss: 0.685454, acc.: 53%] [G loss: 0.846430]\n",
            "6700 [ D loss: 0.691228, acc.: 58%] [G loss: 0.759227]\n",
            "6800 [ D loss: 0.734122, acc.: 47%] [G loss: 0.808112]\n",
            "6900 [ D loss: 0.752611, acc.: 45%] [G loss: 0.874462]\n",
            "7000 [ D loss: 0.596357, acc.: 69%] [G loss: 0.852114]\n",
            "7100 [ D loss: 0.658390, acc.: 63%] [G loss: 0.769348]\n",
            "7200 [ D loss: 0.640110, acc.: 62%] [G loss: 0.798441]\n",
            "7300 [ D loss: 0.665200, acc.: 61%] [G loss: 0.732234]\n",
            "7400 [ D loss: 0.728333, acc.: 49%] [G loss: 0.640446]\n",
            "7500 [ D loss: 0.658281, acc.: 61%] [G loss: 0.802612]\n",
            "7600 [ D loss: 0.626549, acc.: 66%] [G loss: 0.803724]\n",
            "7700 [ D loss: 0.668870, acc.: 58%] [G loss: 0.755981]\n",
            "7800 [ D loss: 0.652080, acc.: 60%] [G loss: 0.828783]\n",
            "7900 [ D loss: 0.699262, acc.: 54%] [G loss: 0.889827]\n",
            "8000 [ D loss: 0.610843, acc.: 70%] [G loss: 0.787334]\n",
            "8100 [ D loss: 0.666056, acc.: 55%] [G loss: 0.824589]\n",
            "8200 [ D loss: 0.667466, acc.: 59%] [G loss: 0.815611]\n",
            "8300 [ D loss: 0.641438, acc.: 59%] [G loss: 0.777999]\n",
            "8400 [ D loss: 0.690479, acc.: 56%] [G loss: 0.852746]\n",
            "8500 [ D loss: 0.600083, acc.: 71%] [G loss: 0.906052]\n",
            "8600 [ D loss: 0.583651, acc.: 75%] [G loss: 0.880374]\n",
            "8700 [ D loss: 0.740556, acc.: 50%] [G loss: 0.708015]\n",
            "8800 [ D loss: 0.638386, acc.: 62%] [G loss: 0.808164]\n",
            "8900 [ D loss: 0.672848, acc.: 60%] [G loss: 0.834830]\n",
            "9000 [ D loss: 0.667423, acc.: 58%] [G loss: 0.710057]\n",
            "9100 [ D loss: 0.663373, acc.: 59%] [G loss: 0.834685]\n",
            "9200 [ D loss: 0.631698, acc.: 67%] [G loss: 0.805308]\n",
            "9300 [ D loss: 0.667826, acc.: 55%] [G loss: 0.848252]\n",
            "9400 [ D loss: 0.686746, acc.: 56%] [G loss: 0.757418]\n",
            "9500 [ D loss: 0.649921, acc.: 62%] [G loss: 0.807284]\n",
            "9600 [ D loss: 0.668605, acc.: 62%] [G loss: 0.814771]\n",
            "9700 [ D loss: 0.637325, acc.: 60%] [G loss: 0.890218]\n",
            "9800 [ D loss: 0.686106, acc.: 52%] [G loss: 0.772104]\n",
            "9900 [ D loss: 0.669068, acc.: 59%] [G loss: 0.854098]\n",
            "10000 [ D loss: 0.668574, acc.: 61%] [G loss: 0.839732]\n",
            "10100 [ D loss: 0.637062, acc.: 63%] [G loss: 0.739204]\n",
            "10200 [ D loss: 0.618231, acc.: 60%] [G loss: 0.820690]\n",
            "10300 [ D loss: 0.679792, acc.: 56%] [G loss: 0.825371]\n",
            "10400 [ D loss: 0.694168, acc.: 55%] [G loss: 0.860297]\n",
            "10500 [ D loss: 0.677864, acc.: 56%] [G loss: 0.773628]\n",
            "10600 [ D loss: 0.699460, acc.: 60%] [G loss: 0.816714]\n",
            "10700 [ D loss: 0.702968, acc.: 51%] [G loss: 0.828481]\n",
            "10800 [ D loss: 0.677440, acc.: 55%] [G loss: 0.775771]\n",
            "10900 [ D loss: 0.674934, acc.: 53%] [G loss: 0.850440]\n",
            "11000 [ D loss: 0.687202, acc.: 52%] [G loss: 0.860738]\n",
            "11100 [ D loss: 0.650924, acc.: 62%] [G loss: 0.786667]\n",
            "11200 [ D loss: 0.690450, acc.: 57%] [G loss: 0.755203]\n",
            "11300 [ D loss: 0.662471, acc.: 61%] [G loss: 0.867471]\n",
            "11400 [ D loss: 0.718976, acc.: 50%] [G loss: 0.807757]\n",
            "11500 [ D loss: 0.637859, acc.: 62%] [G loss: 0.828373]\n",
            "11600 [ D loss: 0.657130, acc.: 63%] [G loss: 0.843739]\n",
            "11700 [ D loss: 0.672761, acc.: 60%] [G loss: 0.819086]\n",
            "11800 [ D loss: 0.655380, acc.: 59%] [G loss: 0.832303]\n",
            "11900 [ D loss: 0.610443, acc.: 66%] [G loss: 0.836438]\n",
            "12000 [ D loss: 0.620815, acc.: 67%] [G loss: 0.907283]\n",
            "12100 [ D loss: 0.647458, acc.: 65%] [G loss: 0.825957]\n",
            "12200 [ D loss: 0.619754, acc.: 66%] [G loss: 0.822300]\n",
            "12300 [ D loss: 0.649134, acc.: 59%] [G loss: 0.839043]\n",
            "12400 [ D loss: 0.715292, acc.: 51%] [G loss: 0.694722]\n",
            "12500 [ D loss: 0.651662, acc.: 66%] [G loss: 0.801113]\n",
            "12600 [ D loss: 0.657774, acc.: 63%] [G loss: 0.844783]\n",
            "12700 [ D loss: 0.652314, acc.: 63%] [G loss: 0.868244]\n",
            "12800 [ D loss: 0.602528, acc.: 73%] [G loss: 0.881993]\n",
            "12900 [ D loss: 0.661072, acc.: 61%] [G loss: 0.866418]\n",
            "13000 [ D loss: 0.634927, acc.: 62%] [G loss: 0.833100]\n",
            "13100 [ D loss: 0.637617, acc.: 64%] [G loss: 0.837630]\n",
            "13200 [ D loss: 0.668462, acc.: 58%] [G loss: 0.924597]\n",
            "13300 [ D loss: 0.657482, acc.: 62%] [G loss: 0.855755]\n",
            "13400 [ D loss: 0.604953, acc.: 69%] [G loss: 0.856759]\n",
            "13500 [ D loss: 0.637252, acc.: 61%] [G loss: 0.878241]\n",
            "13600 [ D loss: 0.648518, acc.: 61%] [G loss: 0.821505]\n",
            "13700 [ D loss: 0.672853, acc.: 61%] [G loss: 0.860111]\n",
            "13800 [ D loss: 0.648620, acc.: 61%] [G loss: 0.903116]\n",
            "13900 [ D loss: 0.635701, acc.: 60%] [G loss: 0.819892]\n",
            "14000 [ D loss: 0.679836, acc.: 55%] [G loss: 0.729555]\n",
            "14100 [ D loss: 0.678822, acc.: 59%] [G loss: 0.862813]\n"
          ],
          "name": "stdout"
        }
      ]
    },
    {
      "metadata": {
        "id": "_i8P7egZBMrG",
        "colab_type": "code",
        "colab": {}
      },
      "cell_type": "code",
      "source": [
        "# 20000 iteration\n",
        "generated_img = model4.generator.predict(np.random.normal(0, 1, (10, 100)))\n",
        "\n",
        "\n",
        "import matplotlib.pyplot as plt\n",
        "\n",
        "plt.figure(figsize=(20, 2))\n",
        "n =10\n",
        "for i in range(n):\n",
        "    # display original\n",
        "    ax = plt.subplot(1, n, i + 1)\n",
        "    plt.imshow(np.squeeze(generated_img[i]), cmap=cm.gray_r)\n",
        "    ax.get_xaxis().set_visible(False)\n",
        "    ax.get_yaxis().set_visible(False)"
      ],
      "execution_count": 0,
      "outputs": []
    },
    {
      "metadata": {
        "id": "E_jsNcwSBPvO",
        "colab_type": "code",
        "colab": {}
      },
      "cell_type": "code",
      "source": [
        "# https://qiita.com/triwave33/items/35b4adc9f5b41c5e8141\n",
        "from keras.layers import Dense, Conv2D, UpSampling2D, Activation, LeakyReLU, BatchNormalization, Reshape, Flatten, Input, Dropout\n",
        "from keras.models import Sequential\n",
        "from keras.optimizers import Adam\n",
        "\n",
        "import numpy as np\n",
        "\n",
        "\n",
        "# Generatorの学習率を半分にした\n",
        "class DCGAN2():\n",
        "  def __init__(self):\n",
        "    # MNISTの入力サイズ\n",
        "    self.img_rows = 28\n",
        "    self.img_cols = 28\n",
        "    self.channels = 1\n",
        "    self.img_shape = (self.img_rows, self.img_cols, self.channels)\n",
        "\n",
        "    # 潜在変数の次元数\n",
        "    self.z_dim =100\n",
        "\n",
        "    optimizer = Adam(0.0002, 0.5)\n",
        "\n",
        "    # Discriminatorモデル\n",
        "    self.discriminator = self.build_discriminator()\n",
        "    self.discriminator.compile(loss='binary_crossentropy',\n",
        "                               optimizer=optimizer,\n",
        "                               metrics=['accuracy'])\n",
        "\n",
        "    # Generatorモデル\n",
        "    self.generator = self.build_generator()\n",
        "    # Generatorは単体では学習しないのでコンパイルは必要ない\n",
        "\n",
        "    self.combined = self.build_combined1()\n",
        "    self.combined.compile(loss='binary_crossentropy', optimizer= Adam(0.0001, 0.5))\n",
        "    \n",
        "  def build_generator(self):\n",
        "    noise_shape = (self.z_dim, )\n",
        "    model = Sequential()\n",
        "\n",
        "    model.add(Dense(1024, input_shape=noise_shape))\n",
        "    model.add(BatchNormalization())\n",
        "    model.add(Activation('relu'))\n",
        "    model.add(Dense(128*7*7)) #畳み込み層に(7, 7)の画像として与える\n",
        "    model.add(BatchNormalization())\n",
        "    model.add(Activation('relu'))\n",
        "    model.add(Reshape((7, 7, 128), input_shape=(128*7*7,)))\n",
        "    model.add(UpSampling2D((2, 2)))\n",
        "    model.add(Conv2D(64, (5, 5), padding='same'))\n",
        "    model.add(BatchNormalization())\n",
        "    model.add(Activation('relu'))\n",
        "    model.add(UpSampling2D((2, 2)))\n",
        "    model.add(Conv2D(1, (5, 5), padding='same'))\n",
        "    model.add(Activation('tanh'))\n",
        "    model.summary()\n",
        "    \n",
        "    return model\n",
        "\n",
        "  def build_discriminator(self):\n",
        "    img_shape = (self.img_rows, self.img_cols, self.channels)\n",
        "\n",
        "    model = Sequential()\n",
        "    model.add(Conv2D(64, (5, 5), strides=(2, 2), padding='same', input_shape=img_shape))\n",
        "    model.add(LeakyReLU(0.2))\n",
        "    model.add(Flatten())\n",
        "    model.add(Dense(256))\n",
        "    model.add(LeakyReLU(0.2))\n",
        "    model.add(Dropout(0.5))\n",
        "    model.add(Dense(1))\n",
        "    model.add(Activation('sigmoid'))\n",
        "    return model\n",
        "\n",
        "  def build_combined1(self):\n",
        "    self.discriminator.trainable = False\n",
        "    model = Sequential([self.generator, self.discriminator])\n",
        "    return model\n",
        "\n",
        "  def build_combined2(self):\n",
        "    z = Input(shape=(self.z_dim,))\n",
        "    img = self.generator(z)\n",
        "    self.discriminator.trainable = False\n",
        "    valid = self.discriminator(img)\n",
        "    model = Model(z, valid)\n",
        "    model.summary()\n",
        "    return model\n",
        "\n",
        "  def train(self, iterations, batch_size=128, save_interval=50):\n",
        "\n",
        "    #　MNIST読み込み\n",
        "    from keras.datasets import mnist\n",
        "    (x_train, _), (_, _) = mnist.load_data()\n",
        "\n",
        "    # 正規化\n",
        "    x_train = x_train / 255.\n",
        "    # チャンネル次元を増やす\n",
        "    x_train = np.expand_dims(x_train, axis=3)\n",
        "\n",
        "    half_batch = int(batch_size / 2)\n",
        "\n",
        "    for i in range(iterations):\n",
        "\n",
        "      # -------------------------\n",
        "      # Discriminatorの学習\n",
        "      # -------------------------\n",
        "\n",
        "      # バッチサイズの半数をGeneratorから生成\n",
        "      noise = np.random.normal(0, 1, (half_batch, self.z_dim))\n",
        "      gen_imgs = self.generator.predict(noise)\n",
        "\n",
        "      # バッチサイズの半数を教師データからピックアップ\n",
        "      idx = np.random.randint(0, x_train.shape[0], half_batch)\n",
        "      imgs = x_train[idx]\n",
        "\n",
        "      # Discriminatorを学習\n",
        "      # 本物データと偽物データは別々に学習させる\n",
        "      d_loss_real = self.discriminator.train_on_batch(imgs, np.ones((half_batch, 1))) # 本物\n",
        "      d_loss_fake = self.discriminator.train_on_batch(gen_imgs, np.zeros((half_batch, 1))) # 偽物\n",
        "      # それぞれの損失関数を平均\n",
        "      d_loss = 0.5 * np.add(d_loss_real, d_loss_fake)\n",
        "\n",
        "      # -----------------------\n",
        "      # Generatorの学習\n",
        "      # -----------------------\n",
        "\n",
        "      noise = np.random.normal(0, 1, (batch_size, self.z_dim))\n",
        "\n",
        "      # 生成データの正解データは本物\n",
        "      valid_y = np.array([1] * batch_size)\n",
        "\n",
        "      # Generatorを学習\n",
        "      g_loss = self.combined.train_on_batch(noise, valid_y)\n",
        "\n",
        "      # 進捗の表示\n",
        "      if i % 100 == 0:\n",
        "        print(\"%d [ D loss: %f, acc.: %2.f%%] [G loss: %f]\" % (i, d_loss[0], 100*d_loss[1], g_loss))"
      ],
      "execution_count": 0,
      "outputs": []
    },
    {
      "metadata": {
        "id": "gQW3ZQ8HOym7",
        "colab_type": "code",
        "colab": {
          "base_uri": "https://localhost:8080/",
          "height": 734
        },
        "outputId": "dff5ce08-ac88-4b79-f6e7-10142bd64c2c"
      },
      "cell_type": "code",
      "source": [
        "model1_2 = DCGAN2()\n",
        "model1_2.train(iterations=400)"
      ],
      "execution_count": 21,
      "outputs": [
        {
          "output_type": "stream",
          "text": [
            "_________________________________________________________________\n",
            "Layer (type)                 Output Shape              Param #   \n",
            "=================================================================\n",
            "dense_27 (Dense)             (None, 1024)              103424    \n",
            "_________________________________________________________________\n",
            "batch_normalization_19 (Batc (None, 1024)              4096      \n",
            "_________________________________________________________________\n",
            "activation_32 (Activation)   (None, 1024)              0         \n",
            "_________________________________________________________________\n",
            "dense_28 (Dense)             (None, 6272)              6428800   \n",
            "_________________________________________________________________\n",
            "batch_normalization_20 (Batc (None, 6272)              25088     \n",
            "_________________________________________________________________\n",
            "activation_33 (Activation)   (None, 6272)              0         \n",
            "_________________________________________________________________\n",
            "reshape_7 (Reshape)          (None, 7, 7, 128)         0         \n",
            "_________________________________________________________________\n",
            "up_sampling2d_13 (UpSampling (None, 14, 14, 128)       0         \n",
            "_________________________________________________________________\n",
            "conv2d_20 (Conv2D)           (None, 14, 14, 64)        204864    \n",
            "_________________________________________________________________\n",
            "batch_normalization_21 (Batc (None, 14, 14, 64)        256       \n",
            "_________________________________________________________________\n",
            "activation_34 (Activation)   (None, 14, 14, 64)        0         \n",
            "_________________________________________________________________\n",
            "up_sampling2d_14 (UpSampling (None, 28, 28, 64)        0         \n",
            "_________________________________________________________________\n",
            "conv2d_21 (Conv2D)           (None, 28, 28, 1)         1601      \n",
            "_________________________________________________________________\n",
            "activation_35 (Activation)   (None, 28, 28, 1)         0         \n",
            "=================================================================\n",
            "Total params: 6,768,129\n",
            "Trainable params: 6,753,409\n",
            "Non-trainable params: 14,720\n",
            "_________________________________________________________________\n"
          ],
          "name": "stdout"
        },
        {
          "output_type": "stream",
          "text": [
            "/usr/local/lib/python3.6/dist-packages/keras/engine/training.py:490: UserWarning: Discrepancy between trainable weights and collected trainable weights, did you set `model.trainable` without calling `model.compile` after ?\n",
            "  'Discrepancy between trainable weights and collected trainable'\n"
          ],
          "name": "stderr"
        },
        {
          "output_type": "stream",
          "text": [
            "0 [ D loss: 0.691843, acc.: 46%] [G loss: 0.911154]\n",
            "100 [ D loss: 0.015280, acc.: 100%] [G loss: 0.378039]\n",
            "200 [ D loss: 0.010440, acc.: 100%] [G loss: 0.402239]\n",
            "300 [ D loss: 0.004172, acc.: 100%] [G loss: 0.090059]\n"
          ],
          "name": "stdout"
        }
      ]
    },
    {
      "metadata": {
        "id": "kq-npiNiO6pG",
        "colab_type": "code",
        "colab": {
          "base_uri": "https://localhost:8080/",
          "height": 125
        },
        "outputId": "b32c2a35-f7fb-43ae-9e76-fcce2f1116b2"
      },
      "cell_type": "code",
      "source": [
        "# 400 iteration\n",
        "generated_img = model1_2.generator.predict(np.random.normal(0, 1, (10, 100)))\n",
        "\n",
        "\n",
        "import matplotlib.pyplot as plt\n",
        "\n",
        "plt.figure(figsize=(20, 2))\n",
        "n =10\n",
        "for i in range(n):\n",
        "    # display original\n",
        "    ax = plt.subplot(1, n, i + 1)\n",
        "    plt.imshow(np.squeeze(generated_img[i]), cmap=cm.gray_r)\n",
        "    ax.get_xaxis().set_visible(False)\n",
        "    ax.get_yaxis().set_visible(False)"
      ],
      "execution_count": 22,
      "outputs": [
        {
          "output_type": "display_data",
          "data": {
            "image/png": "[encoded data removed]",
            "text/plain": [
              "<matplotlib.figure.Figure at 0x7f138c3507b8>"
            ]
          },
          "metadata": {
            "tags": []
          }
        }
      ]
    },
    {
      "metadata": {
        "id": "As8VVqHVO-lQ",
        "colab_type": "code",
        "colab": {
          "base_uri": "https://localhost:8080/",
          "height": 734
        },
        "outputId": "f5955d34-408d-4264-e831-51a4c6ce56a1"
      },
      "cell_type": "code",
      "source": [
        "model2_2 = DCGAN2()\n",
        "model2_2.train(iterations=400, batch_size=32)"
      ],
      "execution_count": 23,
      "outputs": [
        {
          "output_type": "stream",
          "text": [
            "_________________________________________________________________\n",
            "Layer (type)                 Output Shape              Param #   \n",
            "=================================================================\n",
            "dense_31 (Dense)             (None, 1024)              103424    \n",
            "_________________________________________________________________\n",
            "batch_normalization_22 (Batc (None, 1024)              4096      \n",
            "_________________________________________________________________\n",
            "activation_37 (Activation)   (None, 1024)              0         \n",
            "_________________________________________________________________\n",
            "dense_32 (Dense)             (None, 6272)              6428800   \n",
            "_________________________________________________________________\n",
            "batch_normalization_23 (Batc (None, 6272)              25088     \n",
            "_________________________________________________________________\n",
            "activation_38 (Activation)   (None, 6272)              0         \n",
            "_________________________________________________________________\n",
            "reshape_8 (Reshape)          (None, 7, 7, 128)         0         \n",
            "_________________________________________________________________\n",
            "up_sampling2d_15 (UpSampling (None, 14, 14, 128)       0         \n",
            "_________________________________________________________________\n",
            "conv2d_23 (Conv2D)           (None, 14, 14, 64)        204864    \n",
            "_________________________________________________________________\n",
            "batch_normalization_24 (Batc (None, 14, 14, 64)        256       \n",
            "_________________________________________________________________\n",
            "activation_39 (Activation)   (None, 14, 14, 64)        0         \n",
            "_________________________________________________________________\n",
            "up_sampling2d_16 (UpSampling (None, 28, 28, 64)        0         \n",
            "_________________________________________________________________\n",
            "conv2d_24 (Conv2D)           (None, 28, 28, 1)         1601      \n",
            "_________________________________________________________________\n",
            "activation_40 (Activation)   (None, 28, 28, 1)         0         \n",
            "=================================================================\n",
            "Total params: 6,768,129\n",
            "Trainable params: 6,753,409\n",
            "Non-trainable params: 14,720\n",
            "_________________________________________________________________\n"
          ],
          "name": "stdout"
        },
        {
          "output_type": "stream",
          "text": [
            "/usr/local/lib/python3.6/dist-packages/keras/engine/training.py:490: UserWarning: Discrepancy between trainable weights and collected trainable weights, did you set `model.trainable` without calling `model.compile` after ?\n",
            "  'Discrepancy between trainable weights and collected trainable'\n"
          ],
          "name": "stderr"
        },
        {
          "output_type": "stream",
          "text": [
            "0 [ D loss: 0.737447, acc.: 16%] [G loss: 0.616436]\n",
            "100 [ D loss: 0.014603, acc.: 100%] [G loss: 2.498788]\n",
            "200 [ D loss: 0.010911, acc.: 100%] [G loss: 1.726942]\n",
            "300 [ D loss: 0.003188, acc.: 100%] [G loss: 0.314977]\n"
          ],
          "name": "stdout"
        }
      ]
    },
    {
      "metadata": {
        "id": "V8s7o2WpTjgL",
        "colab_type": "code",
        "colab": {
          "base_uri": "https://localhost:8080/",
          "height": 125
        },
        "outputId": "d23f7529-dded-4a22-d4a6-e557f650f58f"
      },
      "cell_type": "code",
      "source": [
        "# 400 iteration (batch_size=32)\n",
        "generated_img = model2_2.generator.predict(np.random.normal(0, 1, (10, 100)))\n",
        "\n",
        "\n",
        "import matplotlib.pyplot as plt\n",
        "\n",
        "plt.figure(figsize=(20, 2))\n",
        "n =10\n",
        "for i in range(n):\n",
        "    # display original\n",
        "    ax = plt.subplot(1, n, i + 1)\n",
        "    plt.imshow(np.squeeze(generated_img[i]), cmap=cm.gray_r)\n",
        "    ax.get_xaxis().set_visible(False)\n",
        "    ax.get_yaxis().set_visible(False)"
      ],
      "execution_count": 24,
      "outputs": [
        {
          "output_type": "display_data",
          "data": {
            "image/png": "[encoded data removed]",
            "text/plain": [
              "<matplotlib.figure.Figure at 0x7f138bbf7e80>"
            ]
          },
          "metadata": {
            "tags": []
          }
        }
      ]
    },
    {
      "metadata": {
        "id": "Rt8VUbbwToMX",
        "colab_type": "code",
        "colab": {
          "base_uri": "https://localhost:8080/",
          "height": 836
        },
        "outputId": "c651d24f-b620-4c11-dc57-18135105b3d8"
      },
      "cell_type": "code",
      "source": [
        "model3_2 = DCGAN2()\n",
        "model3_2.train(iterations=1000)"
      ],
      "execution_count": 25,
      "outputs": [
        {
          "output_type": "stream",
          "text": [
            "_________________________________________________________________\n",
            "Layer (type)                 Output Shape              Param #   \n",
            "=================================================================\n",
            "dense_35 (Dense)             (None, 1024)              103424    \n",
            "_________________________________________________________________\n",
            "batch_normalization_25 (Batc (None, 1024)              4096      \n",
            "_________________________________________________________________\n",
            "activation_42 (Activation)   (None, 1024)              0         \n",
            "_________________________________________________________________\n",
            "dense_36 (Dense)             (None, 6272)              6428800   \n",
            "_________________________________________________________________\n",
            "batch_normalization_26 (Batc (None, 6272)              25088     \n",
            "_________________________________________________________________\n",
            "activation_43 (Activation)   (None, 6272)              0         \n",
            "_________________________________________________________________\n",
            "reshape_9 (Reshape)          (None, 7, 7, 128)         0         \n",
            "_________________________________________________________________\n",
            "up_sampling2d_17 (UpSampling (None, 14, 14, 128)       0         \n",
            "_________________________________________________________________\n",
            "conv2d_26 (Conv2D)           (None, 14, 14, 64)        204864    \n",
            "_________________________________________________________________\n",
            "batch_normalization_27 (Batc (None, 14, 14, 64)        256       \n",
            "_________________________________________________________________\n",
            "activation_44 (Activation)   (None, 14, 14, 64)        0         \n",
            "_________________________________________________________________\n",
            "up_sampling2d_18 (UpSampling (None, 28, 28, 64)        0         \n",
            "_________________________________________________________________\n",
            "conv2d_27 (Conv2D)           (None, 28, 28, 1)         1601      \n",
            "_________________________________________________________________\n",
            "activation_45 (Activation)   (None, 28, 28, 1)         0         \n",
            "=================================================================\n",
            "Total params: 6,768,129\n",
            "Trainable params: 6,753,409\n",
            "Non-trainable params: 14,720\n",
            "_________________________________________________________________\n"
          ],
          "name": "stdout"
        },
        {
          "output_type": "stream",
          "text": [
            "/usr/local/lib/python3.6/dist-packages/keras/engine/training.py:490: UserWarning: Discrepancy between trainable weights and collected trainable weights, did you set `model.trainable` without calling `model.compile` after ?\n",
            "  'Discrepancy between trainable weights and collected trainable'\n"
          ],
          "name": "stderr"
        },
        {
          "output_type": "stream",
          "text": [
            "0 [ D loss: 0.705444, acc.: 33%] [G loss: 0.520769]\n",
            "100 [ D loss: 0.014978, acc.: 100%] [G loss: 0.842866]\n",
            "200 [ D loss: 0.014444, acc.: 100%] [G loss: 0.524388]\n",
            "300 [ D loss: 0.463028, acc.: 84%] [G loss: 0.463942]\n",
            "400 [ D loss: 0.006266, acc.: 100%] [G loss: 0.044432]\n",
            "500 [ D loss: 0.009161, acc.: 100%] [G loss: 0.062752]\n",
            "600 [ D loss: 0.009348, acc.: 100%] [G loss: 0.235408]\n",
            "700 [ D loss: 0.007619, acc.: 100%] [G loss: 0.138612]\n",
            "800 [ D loss: 0.108942, acc.: 95%] [G loss: 0.951818]\n",
            "900 [ D loss: 0.058651, acc.: 98%] [G loss: 1.949367]\n"
          ],
          "name": "stdout"
        }
      ]
    },
    {
      "metadata": {
        "id": "dW504U6yTynr",
        "colab_type": "code",
        "colab": {
          "base_uri": "https://localhost:8080/",
          "height": 125
        },
        "outputId": "e6ec9518-c584-4416-91f3-8f552091a081"
      },
      "cell_type": "code",
      "source": [
        "# 1000 iteration (batch_size=128)\n",
        "generated_img = model3_2.generator.predict(np.random.normal(0, 1, (10, 100)))\n",
        "\n",
        "\n",
        "import matplotlib.pyplot as plt\n",
        "\n",
        "plt.figure(figsize=(20, 2))\n",
        "n =10\n",
        "for i in range(n):\n",
        "    # display original\n",
        "    ax = plt.subplot(1, n, i + 1)\n",
        "    plt.imshow(np.squeeze(generated_img[i]), cmap=cm.gray_r)\n",
        "    ax.get_xaxis().set_visible(False)\n",
        "    ax.get_yaxis().set_visible(False)"
      ],
      "execution_count": 29,
      "outputs": [
        {
          "output_type": "display_data",
          "data": {
            "image/png": "[encoded data removed]",
            "text/plain": [
              "<matplotlib.figure.Figure at 0x7f1387022cc0>"
            ]
          },
          "metadata": {
            "tags": []
          }
        }
      ]
    },
    {
      "metadata": {
        "id": "AYRFk3cyT2IN",
        "colab_type": "code",
        "colab": {
          "base_uri": "https://localhost:8080/",
          "height": 836
        },
        "outputId": "ddf977a0-e3ff-4c2f-83d2-d69618bc0ee7"
      },
      "cell_type": "code",
      "source": [
        "model4_2 = DCGAN2()\n",
        "model4_2.train(iterations=1000, batch_size=32)"
      ],
      "execution_count": 27,
      "outputs": [
        {
          "output_type": "stream",
          "text": [
            "_________________________________________________________________\n",
            "Layer (type)                 Output Shape              Param #   \n",
            "=================================================================\n",
            "dense_39 (Dense)             (None, 1024)              103424    \n",
            "_________________________________________________________________\n",
            "batch_normalization_28 (Batc (None, 1024)              4096      \n",
            "_________________________________________________________________\n",
            "activation_47 (Activation)   (None, 1024)              0         \n",
            "_________________________________________________________________\n",
            "dense_40 (Dense)             (None, 6272)              6428800   \n",
            "_________________________________________________________________\n",
            "batch_normalization_29 (Batc (None, 6272)              25088     \n",
            "_________________________________________________________________\n",
            "activation_48 (Activation)   (None, 6272)              0         \n",
            "_________________________________________________________________\n",
            "reshape_10 (Reshape)         (None, 7, 7, 128)         0         \n",
            "_________________________________________________________________\n",
            "up_sampling2d_19 (UpSampling (None, 14, 14, 128)       0         \n",
            "_________________________________________________________________\n",
            "conv2d_29 (Conv2D)           (None, 14, 14, 64)        204864    \n",
            "_________________________________________________________________\n",
            "batch_normalization_30 (Batc (None, 14, 14, 64)        256       \n",
            "_________________________________________________________________\n",
            "activation_49 (Activation)   (None, 14, 14, 64)        0         \n",
            "_________________________________________________________________\n",
            "up_sampling2d_20 (UpSampling (None, 28, 28, 64)        0         \n",
            "_________________________________________________________________\n",
            "conv2d_30 (Conv2D)           (None, 28, 28, 1)         1601      \n",
            "_________________________________________________________________\n",
            "activation_50 (Activation)   (None, 28, 28, 1)         0         \n",
            "=================================================================\n",
            "Total params: 6,768,129\n",
            "Trainable params: 6,753,409\n",
            "Non-trainable params: 14,720\n",
            "_________________________________________________________________\n"
          ],
          "name": "stdout"
        },
        {
          "output_type": "stream",
          "text": [
            "/usr/local/lib/python3.6/dist-packages/keras/engine/training.py:490: UserWarning: Discrepancy between trainable weights and collected trainable weights, did you set `model.trainable` without calling `model.compile` after ?\n",
            "  'Discrepancy between trainable weights and collected trainable'\n"
          ],
          "name": "stderr"
        },
        {
          "output_type": "stream",
          "text": [
            "0 [ D loss: 0.694347, acc.: 34%] [G loss: 0.848285]\n",
            "100 [ D loss: 0.012719, acc.: 100%] [G loss: 1.429449]\n",
            "200 [ D loss: 0.002625, acc.: 100%] [G loss: 1.146775]\n",
            "300 [ D loss: 0.104546, acc.: 94%] [G loss: 5.738060]\n",
            "400 [ D loss: 0.015419, acc.: 100%] [G loss: 2.418095]\n",
            "500 [ D loss: 0.024202, acc.: 100%] [G loss: 0.752009]\n",
            "600 [ D loss: 0.015212, acc.: 100%] [G loss: 5.181028]\n",
            "700 [ D loss: 0.039697, acc.: 100%] [G loss: 1.635782]\n",
            "800 [ D loss: 0.059161, acc.: 97%] [G loss: 2.521410]\n",
            "900 [ D loss: 0.018903, acc.: 100%] [G loss: 2.703151]\n"
          ],
          "name": "stdout"
        }
      ]
    },
    {
      "metadata": {
        "id": "FHKEDse-UNjh",
        "colab_type": "code",
        "colab": {
          "base_uri": "https://localhost:8080/",
          "height": 125
        },
        "outputId": "1fb0f660-6ca0-4bdb-b383-6d9f05952060"
      },
      "cell_type": "code",
      "source": [
        "# 1000 iteration (batch_size=32)\n",
        "generated_img = model4_2.generator.predict(np.random.normal(0, 1, (10, 100)))\n",
        "\n",
        "\n",
        "import matplotlib.pyplot as plt\n",
        "\n",
        "plt.figure(figsize=(20, 2))\n",
        "n =10\n",
        "for i in range(n):\n",
        "    # display original\n",
        "    ax = plt.subplot(1, n, i + 1)\n",
        "    plt.imshow(np.squeeze(generated_img[i]), cmap=cm.gray_r)\n",
        "    ax.get_xaxis().set_visible(False)\n",
        "    ax.get_yaxis().set_visible(False)"
      ],
      "execution_count": 30,
      "outputs": [
        {
          "output_type": "display_data",
          "data": {
            "image/png": "[encoded data removed]",
            "text/plain": [
              "<matplotlib.figure.Figure at 0x7f1386972ac8>"
            ]
          },
          "metadata": {
            "tags": []
          }
        }
      ]
    },
    {
      "metadata": {
        "id": "3n3HPi-CUPJg",
        "colab_type": "code",
        "colab": {
          "base_uri": "https://localhost:8080/",
          "height": 1006
        },
        "outputId": "eed01601-627d-489a-8a4b-55a342ccde8e"
      },
      "cell_type": "code",
      "source": [
        "model5_2 = DCGAN2()\n",
        "model5_2.train(iterations=2000)"
      ],
      "execution_count": 32,
      "outputs": [
        {
          "output_type": "stream",
          "text": [
            "_________________________________________________________________\n",
            "Layer (type)                 Output Shape              Param #   \n",
            "=================================================================\n",
            "dense_47 (Dense)             (None, 1024)              103424    \n",
            "_________________________________________________________________\n",
            "batch_normalization_34 (Batc (None, 1024)              4096      \n",
            "_________________________________________________________________\n",
            "activation_57 (Activation)   (None, 1024)              0         \n",
            "_________________________________________________________________\n",
            "dense_48 (Dense)             (None, 6272)              6428800   \n",
            "_________________________________________________________________\n",
            "batch_normalization_35 (Batc (None, 6272)              25088     \n",
            "_________________________________________________________________\n",
            "activation_58 (Activation)   (None, 6272)              0         \n",
            "_________________________________________________________________\n",
            "reshape_12 (Reshape)         (None, 7, 7, 128)         0         \n",
            "_________________________________________________________________\n",
            "up_sampling2d_23 (UpSampling (None, 14, 14, 128)       0         \n",
            "_________________________________________________________________\n",
            "conv2d_35 (Conv2D)           (None, 14, 14, 64)        204864    \n",
            "_________________________________________________________________\n",
            "batch_normalization_36 (Batc (None, 14, 14, 64)        256       \n",
            "_________________________________________________________________\n",
            "activation_59 (Activation)   (None, 14, 14, 64)        0         \n",
            "_________________________________________________________________\n",
            "up_sampling2d_24 (UpSampling (None, 28, 28, 64)        0         \n",
            "_________________________________________________________________\n",
            "conv2d_36 (Conv2D)           (None, 28, 28, 1)         1601      \n",
            "_________________________________________________________________\n",
            "activation_60 (Activation)   (None, 28, 28, 1)         0         \n",
            "=================================================================\n",
            "Total params: 6,768,129\n",
            "Trainable params: 6,753,409\n",
            "Non-trainable params: 14,720\n",
            "_________________________________________________________________\n"
          ],
          "name": "stdout"
        },
        {
          "output_type": "stream",
          "text": [
            "/usr/local/lib/python3.6/dist-packages/keras/engine/training.py:490: UserWarning: Discrepancy between trainable weights and collected trainable weights, did you set `model.trainable` without calling `model.compile` after ?\n",
            "  'Discrepancy between trainable weights and collected trainable'\n"
          ],
          "name": "stderr"
        },
        {
          "output_type": "stream",
          "text": [
            "0 [ D loss: 0.683057, acc.: 70%] [G loss: 0.670999]\n",
            "100 [ D loss: 0.009775, acc.: 100%] [G loss: 0.514033]\n",
            "200 [ D loss: 0.013075, acc.: 100%] [G loss: 0.897197]\n",
            "300 [ D loss: 0.035016, acc.: 100%] [G loss: 1.525598]\n",
            "400 [ D loss: 0.006183, acc.: 100%] [G loss: 0.045923]\n",
            "500 [ D loss: 0.015433, acc.: 100%] [G loss: 0.225139]\n",
            "600 [ D loss: 0.045405, acc.: 98%] [G loss: 0.200682]\n",
            "700 [ D loss: 0.067238, acc.: 98%] [G loss: 1.537958]\n",
            "800 [ D loss: 0.022794, acc.: 99%] [G loss: 0.153569]\n",
            "900 [ D loss: 0.039840, acc.: 100%] [G loss: 2.254817]\n",
            "1000 [ D loss: 0.094075, acc.: 98%] [G loss: 1.315035]\n",
            "1100 [ D loss: 0.029602, acc.: 100%] [G loss: 0.308385]\n",
            "1200 [ D loss: 0.060065, acc.: 99%] [G loss: 0.410729]\n",
            "1300 [ D loss: 0.113226, acc.: 98%] [G loss: 2.515110]\n",
            "1400 [ D loss: 0.136131, acc.: 95%] [G loss: 1.945100]\n",
            "1500 [ D loss: 0.045554, acc.: 99%] [G loss: 2.850927]\n",
            "1600 [ D loss: 0.135747, acc.: 96%] [G loss: 2.203443]\n",
            "1700 [ D loss: 0.087476, acc.: 99%] [G loss: 4.033012]\n",
            "1800 [ D loss: 0.113922, acc.: 96%] [G loss: 2.772561]\n",
            "1900 [ D loss: 0.118007, acc.: 98%] [G loss: 3.480078]\n"
          ],
          "name": "stdout"
        }
      ]
    },
    {
      "metadata": {
        "id": "vuiG9XdnU-iP",
        "colab_type": "code",
        "colab": {
          "base_uri": "https://localhost:8080/",
          "height": 125
        },
        "outputId": "74ebea6e-c8ca-4236-f929-8c36c290a895"
      },
      "cell_type": "code",
      "source": [
        "# 2000 iteration (batch_size=128)\n",
        "generated_img = model5_2.generator.predict(np.random.normal(0, 1, (10, 100)))\n",
        "\n",
        "\n",
        "import matplotlib.pyplot as plt\n",
        "\n",
        "plt.figure(figsize=(20, 2))\n",
        "n =10\n",
        "for i in range(n):\n",
        "    # display original\n",
        "    ax = plt.subplot(1, n, i + 1)\n",
        "    plt.imshow(np.squeeze(generated_img[i]), cmap=cm.gray_r)\n",
        "    ax.get_xaxis().set_visible(False)\n",
        "    ax.get_yaxis().set_visible(False)"
      ],
      "execution_count": 34,
      "outputs": [
        {
          "output_type": "display_data",
          "data": {
            "image/png": "[encoded data removed]",
            "text/plain": [
              "<matplotlib.figure.Figure at 0x7f13897d13c8>"
            ]
          },
          "metadata": {
            "tags": []
          }
        }
      ]
    },
    {
      "metadata": {
        "id": "giqGf_O3VEy_",
        "colab_type": "code",
        "colab": {
          "base_uri": "https://localhost:8080/",
          "height": 2366
        },
        "outputId": "769f5b75-06d6-4927-9797-1da26b54f83b"
      },
      "cell_type": "code",
      "source": [
        "model6_2 = DCGAN2()\n",
        "model6_2.train(iterations=10000)"
      ],
      "execution_count": 35,
      "outputs": [
        {
          "output_type": "stream",
          "text": [
            "_________________________________________________________________\n",
            "Layer (type)                 Output Shape              Param #   \n",
            "=================================================================\n",
            "dense_51 (Dense)             (None, 1024)              103424    \n",
            "_________________________________________________________________\n",
            "batch_normalization_37 (Batc (None, 1024)              4096      \n",
            "_________________________________________________________________\n",
            "activation_62 (Activation)   (None, 1024)              0         \n",
            "_________________________________________________________________\n",
            "dense_52 (Dense)             (None, 6272)              6428800   \n",
            "_________________________________________________________________\n",
            "batch_normalization_38 (Batc (None, 6272)              25088     \n",
            "_________________________________________________________________\n",
            "activation_63 (Activation)   (None, 6272)              0         \n",
            "_________________________________________________________________\n",
            "reshape_13 (Reshape)         (None, 7, 7, 128)         0         \n",
            "_________________________________________________________________\n",
            "up_sampling2d_25 (UpSampling (None, 14, 14, 128)       0         \n",
            "_________________________________________________________________\n",
            "conv2d_38 (Conv2D)           (None, 14, 14, 64)        204864    \n",
            "_________________________________________________________________\n",
            "batch_normalization_39 (Batc (None, 14, 14, 64)        256       \n",
            "_________________________________________________________________\n",
            "activation_64 (Activation)   (None, 14, 14, 64)        0         \n",
            "_________________________________________________________________\n",
            "up_sampling2d_26 (UpSampling (None, 28, 28, 64)        0         \n",
            "_________________________________________________________________\n",
            "conv2d_39 (Conv2D)           (None, 28, 28, 1)         1601      \n",
            "_________________________________________________________________\n",
            "activation_65 (Activation)   (None, 28, 28, 1)         0         \n",
            "=================================================================\n",
            "Total params: 6,768,129\n",
            "Trainable params: 6,753,409\n",
            "Non-trainable params: 14,720\n",
            "_________________________________________________________________\n"
          ],
          "name": "stdout"
        },
        {
          "output_type": "stream",
          "text": [
            "/usr/local/lib/python3.6/dist-packages/keras/engine/training.py:490: UserWarning: Discrepancy between trainable weights and collected trainable weights, did you set `model.trainable` without calling `model.compile` after ?\n",
            "  'Discrepancy between trainable weights and collected trainable'\n"
          ],
          "name": "stderr"
        },
        {
          "output_type": "stream",
          "text": [
            "0 [ D loss: 0.659968, acc.: 90%] [G loss: 1.726593]\n",
            "100 [ D loss: 0.074321, acc.: 100%] [G loss: 2.786515]\n",
            "200 [ D loss: 0.007404, acc.: 100%] [G loss: 0.419996]\n",
            "300 [ D loss: 0.006967, acc.: 100%] [G loss: 2.616106]\n",
            "400 [ D loss: 0.034353, acc.: 99%] [G loss: 0.107471]\n",
            "500 [ D loss: 0.023809, acc.: 100%] [G loss: 0.286120]\n",
            "600 [ D loss: 0.022183, acc.: 100%] [G loss: 0.504923]\n",
            "700 [ D loss: 0.022018, acc.: 100%] [G loss: 1.436505]\n",
            "800 [ D loss: 0.048162, acc.: 99%] [G loss: 1.688469]\n",
            "900 [ D loss: 0.016128, acc.: 100%] [G loss: 3.537760]\n",
            "1000 [ D loss: 0.042955, acc.: 99%] [G loss: 2.656249]\n",
            "1100 [ D loss: 0.025119, acc.: 100%] [G loss: 3.311472]\n",
            "1200 [ D loss: 0.012953, acc.: 100%] [G loss: 1.122979]\n",
            "1300 [ D loss: 0.032867, acc.: 99%] [G loss: 2.025028]\n",
            "1400 [ D loss: 0.032269, acc.: 99%] [G loss: 2.241359]\n",
            "1500 [ D loss: 0.013220, acc.: 100%] [G loss: 3.665437]\n",
            "1600 [ D loss: 0.042444, acc.: 98%] [G loss: 3.915276]\n",
            "1700 [ D loss: 0.009539, acc.: 100%] [G loss: 3.659229]\n",
            "1800 [ D loss: 0.012428, acc.: 100%] [G loss: 2.606072]\n",
            "1900 [ D loss: 0.009597, acc.: 100%] [G loss: 2.722045]\n",
            "2000 [ D loss: 0.015797, acc.: 100%] [G loss: 2.492017]\n",
            "2100 [ D loss: 0.041124, acc.: 99%] [G loss: 0.977963]\n",
            "2200 [ D loss: 0.033586, acc.: 100%] [G loss: 2.957229]\n",
            "2300 [ D loss: 0.018111, acc.: 100%] [G loss: 3.685375]\n",
            "2400 [ D loss: 0.021293, acc.: 99%] [G loss: 2.133973]\n",
            "2500 [ D loss: 0.009446, acc.: 100%] [G loss: 2.641019]\n",
            "2600 [ D loss: 0.022900, acc.: 99%] [G loss: 2.224879]\n",
            "2700 [ D loss: 0.023437, acc.: 100%] [G loss: 2.920911]\n",
            "2800 [ D loss: 0.004060, acc.: 100%] [G loss: 7.173346]\n",
            "2900 [ D loss: 0.004374, acc.: 100%] [G loss: 2.577650]\n",
            "3000 [ D loss: 0.014650, acc.: 99%] [G loss: 2.728852]\n",
            "3100 [ D loss: 0.003811, acc.: 100%] [G loss: 4.199413]\n",
            "3200 [ D loss: 0.014492, acc.: 100%] [G loss: 2.757699]\n",
            "3300 [ D loss: 0.005613, acc.: 100%] [G loss: 1.899108]\n",
            "3400 [ D loss: 0.002646, acc.: 100%] [G loss: 1.066527]\n",
            "3500 [ D loss: 0.009541, acc.: 100%] [G loss: 1.014792]\n",
            "3600 [ D loss: 0.034617, acc.: 99%] [G loss: 0.821816]\n",
            "3700 [ D loss: 0.011039, acc.: 100%] [G loss: 0.726049]\n",
            "3800 [ D loss: 0.012635, acc.: 100%] [G loss: 1.225528]\n",
            "3900 [ D loss: 0.006772, acc.: 100%] [G loss: 1.643620]\n",
            "4000 [ D loss: 0.087940, acc.: 99%] [G loss: 1.396981]\n",
            "4100 [ D loss: 0.010150, acc.: 100%] [G loss: 1.525490]\n",
            "4200 [ D loss: 0.002670, acc.: 100%] [G loss: 3.833877]\n",
            "4300 [ D loss: 0.013249, acc.: 99%] [G loss: 2.317435]\n",
            "4400 [ D loss: 0.005113, acc.: 100%] [G loss: 3.848172]\n",
            "4500 [ D loss: 0.007244, acc.: 100%] [G loss: 3.330640]\n",
            "4600 [ D loss: 0.003432, acc.: 100%] [G loss: 3.829551]\n",
            "4700 [ D loss: 0.014225, acc.: 100%] [G loss: 1.232541]\n",
            "4800 [ D loss: 0.014193, acc.: 100%] [G loss: 2.032091]\n",
            "4900 [ D loss: 0.004168, acc.: 100%] [G loss: 2.630263]\n",
            "5000 [ D loss: 0.001906, acc.: 100%] [G loss: 2.097064]\n",
            "5100 [ D loss: 0.006385, acc.: 100%] [G loss: 2.187010]\n",
            "5200 [ D loss: 0.001888, acc.: 100%] [G loss: 3.842001]\n",
            "5300 [ D loss: 0.038744, acc.: 98%] [G loss: 1.820685]\n",
            "5400 [ D loss: 0.014831, acc.: 100%] [G loss: 3.181320]\n",
            "5500 [ D loss: 0.009603, acc.: 100%] [G loss: 3.241275]\n",
            "5600 [ D loss: 0.005024, acc.: 100%] [G loss: 3.422610]\n",
            "5700 [ D loss: 0.006509, acc.: 100%] [G loss: 2.186680]\n",
            "5800 [ D loss: 0.013120, acc.: 100%] [G loss: 2.578455]\n",
            "5900 [ D loss: 0.020381, acc.: 100%] [G loss: 3.025810]\n",
            "6000 [ D loss: 0.053262, acc.: 98%] [G loss: 5.308695]\n",
            "6100 [ D loss: 0.002470, acc.: 100%] [G loss: 1.258504]\n",
            "6200 [ D loss: 0.006416, acc.: 100%] [G loss: 0.493032]\n",
            "6300 [ D loss: 0.012271, acc.: 100%] [G loss: 1.616135]\n",
            "6400 [ D loss: 0.007057, acc.: 100%] [G loss: 3.310622]\n",
            "6500 [ D loss: 0.011541, acc.: 100%] [G loss: 3.001661]\n",
            "6600 [ D loss: 0.006461, acc.: 100%] [G loss: 5.421386]\n",
            "6700 [ D loss: 0.014886, acc.: 99%] [G loss: 1.816840]\n",
            "6800 [ D loss: 0.006796, acc.: 100%] [G loss: 2.374569]\n",
            "6900 [ D loss: 0.003626, acc.: 100%] [G loss: 4.053644]\n",
            "7000 [ D loss: 0.004771, acc.: 100%] [G loss: 2.675964]\n",
            "7100 [ D loss: 0.032466, acc.: 98%] [G loss: 2.029895]\n",
            "7200 [ D loss: 0.019645, acc.: 99%] [G loss: 2.127516]\n",
            "7300 [ D loss: 0.038836, acc.: 98%] [G loss: 2.278900]\n",
            "7400 [ D loss: 0.003804, acc.: 100%] [G loss: 3.869713]\n",
            "7500 [ D loss: 0.016860, acc.: 99%] [G loss: 4.189455]\n",
            "7600 [ D loss: 0.007529, acc.: 100%] [G loss: 2.989586]\n",
            "7700 [ D loss: 0.005885, acc.: 100%] [G loss: 4.699048]\n",
            "7800 [ D loss: 0.001311, acc.: 100%] [G loss: 2.957458]\n",
            "7900 [ D loss: 0.086908, acc.: 98%] [G loss: 1.669918]\n",
            "8000 [ D loss: 0.017356, acc.: 100%] [G loss: 3.411687]\n",
            "8100 [ D loss: 0.007286, acc.: 100%] [G loss: 2.638764]\n",
            "8200 [ D loss: 0.013641, acc.: 100%] [G loss: 3.449485]\n",
            "8300 [ D loss: 0.017604, acc.: 99%] [G loss: 1.971866]\n",
            "8400 [ D loss: 0.008589, acc.: 100%] [G loss: 2.406158]\n",
            "8500 [ D loss: 0.021029, acc.: 98%] [G loss: 4.202893]\n",
            "8600 [ D loss: 0.003806, acc.: 100%] [G loss: 2.971350]\n",
            "8700 [ D loss: 0.004534, acc.: 100%] [G loss: 3.472380]\n",
            "8800 [ D loss: 0.012855, acc.: 100%] [G loss: 4.073732]\n",
            "8900 [ D loss: 0.011675, acc.: 100%] [G loss: 2.715853]\n",
            "9000 [ D loss: 0.026865, acc.: 98%] [G loss: 4.599514]\n",
            "9100 [ D loss: 0.088687, acc.: 98%] [G loss: 2.799489]\n",
            "9200 [ D loss: 0.073233, acc.: 97%] [G loss: 2.625517]\n",
            "9300 [ D loss: 0.004310, acc.: 100%] [G loss: 5.122803]\n",
            "9400 [ D loss: 0.030066, acc.: 98%] [G loss: 3.018263]\n",
            "9500 [ D loss: 0.080413, acc.: 96%] [G loss: 2.764814]\n",
            "9600 [ D loss: 0.017097, acc.: 99%] [G loss: 5.121180]\n",
            "9700 [ D loss: 0.026209, acc.: 99%] [G loss: 2.352887]\n",
            "9800 [ D loss: 0.023561, acc.: 99%] [G loss: 4.168996]\n",
            "9900 [ D loss: 0.008860, acc.: 100%] [G loss: 3.231136]\n"
          ],
          "name": "stdout"
        }
      ]
    },
    {
      "metadata": {
        "id": "9a7spgW6V1yL",
        "colab_type": "code",
        "colab": {
          "base_uri": "https://localhost:8080/",
          "height": 125
        },
        "outputId": "59fcd650-e3ff-4891-8518-5bf7c25d1c8a"
      },
      "cell_type": "code",
      "source": [
        "# 10000 iteration (batch_size=128)\n",
        "generated_img = model6_2.generator.predict(np.random.normal(0, 1, (10, 100)))\n",
        "\n",
        "\n",
        "import matplotlib.pyplot as plt\n",
        "\n",
        "plt.figure(figsize=(20, 2))\n",
        "n =10\n",
        "for i in range(n):\n",
        "    # display original\n",
        "    ax = plt.subplot(1, n, i + 1)\n",
        "    plt.imshow(np.squeeze(generated_img[i]), cmap=cm.gray_r)\n",
        "    ax.get_xaxis().set_visible(False)\n",
        "    ax.get_yaxis().set_visible(False)"
      ],
      "execution_count": 36,
      "outputs": [
        {
          "output_type": "display_data",
          "data": {
            "image/png": "[encoded data removed]",
            "text/plain": [
              "<matplotlib.figure.Figure at 0x7f138803e5c0>"
            ]
          },
          "metadata": {
            "tags": []
          }
        }
      ]
    },
    {
      "metadata": {
        "id": "QGj9iL-6V4z0",
        "colab_type": "code",
        "colab": {
          "base_uri": "https://localhost:8080/",
          "height": 1346
        },
        "outputId": "1027f2cc-7465-4d63-a39e-2e472a2efca7"
      },
      "cell_type": "code",
      "source": [
        "model7_2 = DCGAN2()\n",
        "model7_2.train(iterations=4000, batch_size=32)"
      ],
      "execution_count": 37,
      "outputs": [
        {
          "output_type": "stream",
          "text": [
            "_________________________________________________________________\n",
            "Layer (type)                 Output Shape              Param #   \n",
            "=================================================================\n",
            "dense_55 (Dense)             (None, 1024)              103424    \n",
            "_________________________________________________________________\n",
            "batch_normalization_40 (Batc (None, 1024)              4096      \n",
            "_________________________________________________________________\n",
            "activation_67 (Activation)   (None, 1024)              0         \n",
            "_________________________________________________________________\n",
            "dense_56 (Dense)             (None, 6272)              6428800   \n",
            "_________________________________________________________________\n",
            "batch_normalization_41 (Batc (None, 6272)              25088     \n",
            "_________________________________________________________________\n",
            "activation_68 (Activation)   (None, 6272)              0         \n",
            "_________________________________________________________________\n",
            "reshape_14 (Reshape)         (None, 7, 7, 128)         0         \n",
            "_________________________________________________________________\n",
            "up_sampling2d_27 (UpSampling (None, 14, 14, 128)       0         \n",
            "_________________________________________________________________\n",
            "conv2d_41 (Conv2D)           (None, 14, 14, 64)        204864    \n",
            "_________________________________________________________________\n",
            "batch_normalization_42 (Batc (None, 14, 14, 64)        256       \n",
            "_________________________________________________________________\n",
            "activation_69 (Activation)   (None, 14, 14, 64)        0         \n",
            "_________________________________________________________________\n",
            "up_sampling2d_28 (UpSampling (None, 28, 28, 64)        0         \n",
            "_________________________________________________________________\n",
            "conv2d_42 (Conv2D)           (None, 28, 28, 1)         1601      \n",
            "_________________________________________________________________\n",
            "activation_70 (Activation)   (None, 28, 28, 1)         0         \n",
            "=================================================================\n",
            "Total params: 6,768,129\n",
            "Trainable params: 6,753,409\n",
            "Non-trainable params: 14,720\n",
            "_________________________________________________________________\n"
          ],
          "name": "stdout"
        },
        {
          "output_type": "stream",
          "text": [
            "/usr/local/lib/python3.6/dist-packages/keras/engine/training.py:490: UserWarning: Discrepancy between trainable weights and collected trainable weights, did you set `model.trainable` without calling `model.compile` after ?\n",
            "  'Discrepancy between trainable weights and collected trainable'\n"
          ],
          "name": "stderr"
        },
        {
          "output_type": "stream",
          "text": [
            "0 [ D loss: 0.693290, acc.: 38%] [G loss: 0.829523]\n",
            "100 [ D loss: 0.003395, acc.: 100%] [G loss: 0.713489]\n",
            "200 [ D loss: 0.006317, acc.: 100%] [G loss: 1.374647]\n",
            "300 [ D loss: 0.002859, acc.: 100%] [G loss: 0.251785]\n",
            "400 [ D loss: 0.008745, acc.: 100%] [G loss: 2.159301]\n",
            "500 [ D loss: 0.024628, acc.: 100%] [G loss: 0.771334]\n",
            "600 [ D loss: 0.103052, acc.: 97%] [G loss: 1.990556]\n",
            "700 [ D loss: 0.012400, acc.: 100%] [G loss: 1.220768]\n",
            "800 [ D loss: 0.029643, acc.: 100%] [G loss: 2.765437]\n",
            "900 [ D loss: 0.136706, acc.: 97%] [G loss: 1.506177]\n",
            "1000 [ D loss: 0.013496, acc.: 100%] [G loss: 2.213002]\n",
            "1100 [ D loss: 0.013115, acc.: 100%] [G loss: 4.919113]\n",
            "1200 [ D loss: 0.135456, acc.: 94%] [G loss: 2.454418]\n",
            "1300 [ D loss: 0.018447, acc.: 100%] [G loss: 2.931148]\n",
            "1400 [ D loss: 0.016981, acc.: 100%] [G loss: 3.726084]\n",
            "1500 [ D loss: 0.077340, acc.: 97%] [G loss: 4.093264]\n",
            "1600 [ D loss: 0.093050, acc.: 97%] [G loss: 2.657980]\n",
            "1700 [ D loss: 0.038052, acc.: 100%] [G loss: 3.806727]\n",
            "1800 [ D loss: 0.017588, acc.: 100%] [G loss: 4.042896]\n",
            "1900 [ D loss: 0.045633, acc.: 100%] [G loss: 3.401431]\n",
            "2000 [ D loss: 0.019028, acc.: 100%] [G loss: 3.774563]\n",
            "2100 [ D loss: 0.032496, acc.: 100%] [G loss: 4.084183]\n",
            "2200 [ D loss: 0.034350, acc.: 100%] [G loss: 4.071188]\n",
            "2300 [ D loss: 0.025122, acc.: 100%] [G loss: 4.310335]\n",
            "2400 [ D loss: 0.089661, acc.: 97%] [G loss: 3.522514]\n",
            "2500 [ D loss: 0.034051, acc.: 100%] [G loss: 5.047780]\n",
            "2600 [ D loss: 0.046200, acc.: 100%] [G loss: 5.086698]\n",
            "2700 [ D loss: 0.022867, acc.: 100%] [G loss: 5.022583]\n",
            "2800 [ D loss: 0.039787, acc.: 100%] [G loss: 5.224327]\n",
            "2900 [ D loss: 0.007465, acc.: 100%] [G loss: 5.305504]\n",
            "3000 [ D loss: 0.016067, acc.: 100%] [G loss: 5.495536]\n",
            "3100 [ D loss: 0.031468, acc.: 100%] [G loss: 4.868357]\n",
            "3200 [ D loss: 0.057447, acc.: 97%] [G loss: 3.483183]\n",
            "3300 [ D loss: 0.064374, acc.: 97%] [G loss: 3.877192]\n",
            "3400 [ D loss: 0.024420, acc.: 100%] [G loss: 4.686843]\n",
            "3500 [ D loss: 0.020803, acc.: 100%] [G loss: 4.811125]\n",
            "3600 [ D loss: 0.016363, acc.: 100%] [G loss: 5.040434]\n",
            "3700 [ D loss: 0.023457, acc.: 100%] [G loss: 4.792937]\n",
            "3800 [ D loss: 0.011649, acc.: 100%] [G loss: 4.594953]\n",
            "3900 [ D loss: 0.041705, acc.: 97%] [G loss: 4.849261]\n"
          ],
          "name": "stdout"
        }
      ]
    },
    {
      "metadata": {
        "id": "e1SOpBdnYtX5",
        "colab_type": "code",
        "colab": {
          "base_uri": "https://localhost:8080/",
          "height": 125
        },
        "outputId": "22294f68-a230-40f0-aeaf-4d224c7d40d8"
      },
      "cell_type": "code",
      "source": [
        "# 4000 iteration (batch_size=32)\n",
        "generated_img = model6_2.generator.predict(np.random.normal(0, 1, (10, 100)))\n",
        "\n",
        "\n",
        "import matplotlib.pyplot as plt\n",
        "\n",
        "plt.figure(figsize=(20, 2))\n",
        "n =10\n",
        "for i in range(n):\n",
        "    # display original\n",
        "    ax = plt.subplot(1, n, i + 1)\n",
        "    plt.imshow(np.squeeze(generated_img[i]), cmap=cm.gray_r)\n",
        "    ax.get_xaxis().set_visible(False)\n",
        "    ax.get_yaxis().set_visible(False)"
      ],
      "execution_count": 38,
      "outputs": [
        {
          "output_type": "display_data",
          "data": {
            "image/png": "[encoded data removed]",
            "text/plain": [
              "<matplotlib.figure.Figure at 0x7f13844a8208>"
            ]
          },
          "metadata": {
            "tags": []
          }
        }
      ]
    },
    {
      "metadata": {
        "id": "tzcPddEJYvzb",
        "colab_type": "code",
        "colab": {
          "base_uri": "https://localhost:8080/",
          "height": 2738
        },
        "outputId": "b76fde29-a029-4c83-b266-b00c0b8b90e4"
      },
      "cell_type": "code",
      "source": [
        "model8_2 = DCGAN2()\n",
        "model8_2.train(iterations=15000)"
      ],
      "execution_count": 39,
      "outputs": [
        {
          "output_type": "stream",
          "text": [
            "_________________________________________________________________\n",
            "Layer (type)                 Output Shape              Param #   \n",
            "=================================================================\n",
            "dense_59 (Dense)             (None, 1024)              103424    \n",
            "_________________________________________________________________\n",
            "batch_normalization_43 (Batc (None, 1024)              4096      \n",
            "_________________________________________________________________\n",
            "activation_72 (Activation)   (None, 1024)              0         \n",
            "_________________________________________________________________\n",
            "dense_60 (Dense)             (None, 6272)              6428800   \n",
            "_________________________________________________________________\n",
            "batch_normalization_44 (Batc (None, 6272)              25088     \n",
            "_________________________________________________________________\n",
            "activation_73 (Activation)   (None, 6272)              0         \n",
            "_________________________________________________________________\n",
            "reshape_15 (Reshape)         (None, 7, 7, 128)         0         \n",
            "_________________________________________________________________\n",
            "up_sampling2d_29 (UpSampling (None, 14, 14, 128)       0         \n",
            "_________________________________________________________________\n",
            "conv2d_44 (Conv2D)           (None, 14, 14, 64)        204864    \n",
            "_________________________________________________________________\n",
            "batch_normalization_45 (Batc (None, 14, 14, 64)        256       \n",
            "_________________________________________________________________\n",
            "activation_74 (Activation)   (None, 14, 14, 64)        0         \n",
            "_________________________________________________________________\n",
            "up_sampling2d_30 (UpSampling (None, 28, 28, 64)        0         \n",
            "_________________________________________________________________\n",
            "conv2d_45 (Conv2D)           (None, 28, 28, 1)         1601      \n",
            "_________________________________________________________________\n",
            "activation_75 (Activation)   (None, 28, 28, 1)         0         \n",
            "=================================================================\n",
            "Total params: 6,768,129\n",
            "Trainable params: 6,753,409\n",
            "Non-trainable params: 14,720\n",
            "_________________________________________________________________\n"
          ],
          "name": "stdout"
        },
        {
          "output_type": "stream",
          "text": [
            "/usr/local/lib/python3.6/dist-packages/keras/engine/training.py:490: UserWarning: Discrepancy between trainable weights and collected trainable weights, did you set `model.trainable` without calling `model.compile` after ?\n",
            "  'Discrepancy between trainable weights and collected trainable'\n"
          ],
          "name": "stderr"
        },
        {
          "output_type": "stream",
          "text": [
            "0 [ D loss: 0.699236, acc.: 42%] [G loss: 0.792112]\n",
            "100 [ D loss: 0.014304, acc.: 100%] [G loss: 0.802955]\n",
            "200 [ D loss: 0.006323, acc.: 100%] [G loss: 0.663123]\n",
            "300 [ D loss: 0.068270, acc.: 98%] [G loss: 0.985916]\n",
            "400 [ D loss: 0.009089, acc.: 100%] [G loss: 0.076105]\n",
            "500 [ D loss: 0.011239, acc.: 100%] [G loss: 0.110977]\n",
            "600 [ D loss: 0.057758, acc.: 97%] [G loss: 0.260116]\n",
            "700 [ D loss: 0.132058, acc.: 95%] [G loss: 0.842834]\n",
            "800 [ D loss: 0.016478, acc.: 100%] [G loss: 0.133388]\n",
            "900 [ D loss: 0.013366, acc.: 100%] [G loss: 0.012752]\n",
            "1000 [ D loss: 0.069580, acc.: 98%] [G loss: 0.841686]\n",
            "1100 [ D loss: 0.051184, acc.: 98%] [G loss: 0.191139]\n",
            "1200 [ D loss: 0.113122, acc.: 95%] [G loss: 1.441456]\n",
            "1300 [ D loss: 0.144494, acc.: 95%] [G loss: 3.491096]\n",
            "1400 [ D loss: 0.047916, acc.: 99%] [G loss: 0.978774]\n",
            "1500 [ D loss: 0.184300, acc.: 95%] [G loss: 1.348680]\n",
            "1600 [ D loss: 0.063346, acc.: 98%] [G loss: 3.704402]\n",
            "1700 [ D loss: 0.100761, acc.: 97%] [G loss: 3.248835]\n",
            "1800 [ D loss: 0.055323, acc.: 99%] [G loss: 1.941577]\n",
            "1900 [ D loss: 0.116736, acc.: 96%] [G loss: 3.262055]\n",
            "2000 [ D loss: 0.019480, acc.: 100%] [G loss: 4.834563]\n",
            "2100 [ D loss: 0.110772, acc.: 97%] [G loss: 3.484638]\n",
            "2200 [ D loss: 0.045261, acc.: 99%] [G loss: 4.934677]\n",
            "2300 [ D loss: 0.074260, acc.: 98%] [G loss: 2.797079]\n",
            "2400 [ D loss: 0.032741, acc.: 100%] [G loss: 3.399833]\n",
            "2500 [ D loss: 0.062582, acc.: 98%] [G loss: 2.296585]\n",
            "2600 [ D loss: 0.021472, acc.: 100%] [G loss: 4.258863]\n",
            "2700 [ D loss: 0.029846, acc.: 99%] [G loss: 4.041882]\n",
            "2800 [ D loss: 0.030788, acc.: 99%] [G loss: 3.136752]\n",
            "2900 [ D loss: 0.027657, acc.: 100%] [G loss: 3.495935]\n",
            "3000 [ D loss: 0.102396, acc.: 95%] [G loss: 2.384899]\n",
            "3100 [ D loss: 0.031282, acc.: 99%] [G loss: 2.617451]\n",
            "3200 [ D loss: 0.013384, acc.: 100%] [G loss: 2.929714]\n",
            "3300 [ D loss: 0.031902, acc.: 99%] [G loss: 2.482116]\n",
            "3400 [ D loss: 0.017470, acc.: 100%] [G loss: 2.565898]\n",
            "3500 [ D loss: 0.051515, acc.: 98%] [G loss: 3.518840]\n",
            "3600 [ D loss: 0.064007, acc.: 99%] [G loss: 1.292794]\n",
            "3700 [ D loss: 0.022110, acc.: 100%] [G loss: 1.587895]\n",
            "3800 [ D loss: 0.014372, acc.: 100%] [G loss: 3.224878]\n",
            "3900 [ D loss: 0.047180, acc.: 99%] [G loss: 2.853705]\n",
            "4000 [ D loss: 0.016699, acc.: 100%] [G loss: 4.338595]\n",
            "4100 [ D loss: 0.037539, acc.: 99%] [G loss: 1.555004]\n",
            "4200 [ D loss: 0.039154, acc.: 99%] [G loss: 1.779305]\n",
            "4300 [ D loss: 0.019233, acc.: 100%] [G loss: 2.146130]\n",
            "4400 [ D loss: 0.015987, acc.: 100%] [G loss: 3.255749]\n",
            "4500 [ D loss: 0.013281, acc.: 99%] [G loss: 2.573985]\n",
            "4600 [ D loss: 0.019908, acc.: 100%] [G loss: 3.556295]\n",
            "4700 [ D loss: 0.090958, acc.: 96%] [G loss: 2.581048]\n",
            "4800 [ D loss: 0.044410, acc.: 99%] [G loss: 2.303759]\n",
            "4900 [ D loss: 0.040301, acc.: 99%] [G loss: 1.364800]\n",
            "5000 [ D loss: 0.007520, acc.: 100%] [G loss: 3.149920]\n",
            "5100 [ D loss: 0.014039, acc.: 100%] [G loss: 2.050925]\n",
            "5200 [ D loss: 0.053438, acc.: 98%] [G loss: 2.003089]\n",
            "5300 [ D loss: 0.008890, acc.: 100%] [G loss: 3.344769]\n",
            "5400 [ D loss: 0.007786, acc.: 100%] [G loss: 2.638662]\n",
            "5500 [ D loss: 0.056733, acc.: 98%] [G loss: 2.141285]\n",
            "5600 [ D loss: 0.007099, acc.: 100%] [G loss: 2.748925]\n",
            "5700 [ D loss: 0.054669, acc.: 98%] [G loss: 1.485593]\n",
            "5800 [ D loss: 0.047269, acc.: 99%] [G loss: 1.870158]\n",
            "5900 [ D loss: 0.016664, acc.: 100%] [G loss: 2.781159]\n",
            "6000 [ D loss: 0.026125, acc.: 98%] [G loss: 2.013240]\n",
            "6100 [ D loss: 0.001336, acc.: 100%] [G loss: 2.978361]\n",
            "6200 [ D loss: 0.004615, acc.: 100%] [G loss: 3.584112]\n",
            "6300 [ D loss: 0.023747, acc.: 100%] [G loss: 2.241946]\n",
            "6400 [ D loss: 0.009629, acc.: 100%] [G loss: 1.904867]\n",
            "6500 [ D loss: 0.096799, acc.: 98%] [G loss: 1.944727]\n",
            "6600 [ D loss: 0.005231, acc.: 100%] [G loss: 2.406833]\n",
            "6700 [ D loss: 0.003987, acc.: 100%] [G loss: 2.907437]\n",
            "6800 [ D loss: 0.176782, acc.: 95%] [G loss: 1.380311]\n",
            "6900 [ D loss: 0.031709, acc.: 100%] [G loss: 2.390859]\n",
            "7000 [ D loss: 0.014339, acc.: 99%] [G loss: 2.782542]\n",
            "7100 [ D loss: 0.007437, acc.: 100%] [G loss: 1.785380]\n",
            "7200 [ D loss: 0.034163, acc.: 98%] [G loss: 2.272059]\n",
            "7300 [ D loss: 0.012372, acc.: 99%] [G loss: 3.166764]\n",
            "7400 [ D loss: 0.037886, acc.: 99%] [G loss: 2.598793]\n",
            "7500 [ D loss: 0.019199, acc.: 99%] [G loss: 2.240870]\n",
            "7600 [ D loss: 0.008290, acc.: 100%] [G loss: 1.086529]\n"
          ],
          "name": "stdout"
        },
        {
          "output_type": "error",
          "ename": "KeyboardInterrupt",
          "evalue": "ignored",
          "traceback": [
            "\u001b[0;31m---------------------------------------------------------------------------\u001b[0m",
            "\u001b[0;31mKeyboardInterrupt\u001b[0m                         Traceback (most recent call last)",
            "\u001b[0;32m<ipython-input-39-ab9810ff62a5>\u001b[0m in \u001b[0;36m<module>\u001b[0;34m()\u001b[0m\n\u001b[1;32m      1\u001b[0m \u001b[0mmodel8_2\u001b[0m \u001b[0;34m=\u001b[0m \u001b[0mDCGAN2\u001b[0m\u001b[0;34m(\u001b[0m\u001b[0;34m)\u001b[0m\u001b[0;34m\u001b[0m\u001b[0;34m\u001b[0m\u001b[0m\n\u001b[0;32m----> 2\u001b[0;31m \u001b[0mmodel8_2\u001b[0m\u001b[0;34m.\u001b[0m\u001b[0mtrain\u001b[0m\u001b[0;34m(\u001b[0m\u001b[0miterations\u001b[0m\u001b[0;34m=\u001b[0m\u001b[0;36m15000\u001b[0m\u001b[0;34m)\u001b[0m\u001b[0;34m\u001b[0m\u001b[0;34m\u001b[0m\u001b[0m\n\u001b[0m",
            "\u001b[0;32m<ipython-input-20-c819efc2edf3>\u001b[0m in \u001b[0;36mtrain\u001b[0;34m(self, iterations, batch_size, save_interval)\u001b[0m\n\u001b[1;32m    127\u001b[0m \u001b[0;34m\u001b[0m\u001b[0m\n\u001b[1;32m    128\u001b[0m       \u001b[0;31m# Generatorを学習\u001b[0m\u001b[0;34m\u001b[0m\u001b[0;34m\u001b[0m\u001b[0;34m\u001b[0m\u001b[0m\n\u001b[0;32m--> 129\u001b[0;31m       \u001b[0mg_loss\u001b[0m \u001b[0;34m=\u001b[0m \u001b[0mself\u001b[0m\u001b[0;34m.\u001b[0m\u001b[0mcombined\u001b[0m\u001b[0;34m.\u001b[0m\u001b[0mtrain_on_batch\u001b[0m\u001b[0;34m(\u001b[0m\u001b[0mnoise\u001b[0m\u001b[0;34m,\u001b[0m \u001b[0mvalid_y\u001b[0m\u001b[0;34m)\u001b[0m\u001b[0;34m\u001b[0m\u001b[0;34m\u001b[0m\u001b[0m\n\u001b[0m\u001b[1;32m    130\u001b[0m \u001b[0;34m\u001b[0m\u001b[0m\n\u001b[1;32m    131\u001b[0m       \u001b[0;31m# 進捗の表示\u001b[0m\u001b[0;34m\u001b[0m\u001b[0;34m\u001b[0m\u001b[0;34m\u001b[0m\u001b[0m\n",
            "\u001b[0;32m/usr/local/lib/python3.6/dist-packages/keras/engine/training.py\u001b[0m in \u001b[0;36mtrain_on_batch\u001b[0;34m(self, x, y, sample_weight, class_weight)\u001b[0m\n\u001b[1;32m   1215\u001b[0m             \u001b[0mins\u001b[0m \u001b[0;34m=\u001b[0m \u001b[0mx\u001b[0m \u001b[0;34m+\u001b[0m \u001b[0my\u001b[0m \u001b[0;34m+\u001b[0m \u001b[0msample_weights\u001b[0m\u001b[0;34m\u001b[0m\u001b[0;34m\u001b[0m\u001b[0m\n\u001b[1;32m   1216\u001b[0m         \u001b[0mself\u001b[0m\u001b[0;34m.\u001b[0m\u001b[0m_make_train_function\u001b[0m\u001b[0;34m(\u001b[0m\u001b[0;34m)\u001b[0m\u001b[0;34m\u001b[0m\u001b[0;34m\u001b[0m\u001b[0m\n\u001b[0;32m-> 1217\u001b[0;31m         \u001b[0moutputs\u001b[0m \u001b[0;34m=\u001b[0m \u001b[0mself\u001b[0m\u001b[0;34m.\u001b[0m\u001b[0mtrain_function\u001b[0m\u001b[0;34m(\u001b[0m\u001b[0mins\u001b[0m\u001b[0;34m)\u001b[0m\u001b[0;34m\u001b[0m\u001b[0;34m\u001b[0m\u001b[0m\n\u001b[0m\u001b[1;32m   1218\u001b[0m         \u001b[0;32mreturn\u001b[0m \u001b[0munpack_singleton\u001b[0m\u001b[0;34m(\u001b[0m\u001b[0moutputs\u001b[0m\u001b[0;34m)\u001b[0m\u001b[0;34m\u001b[0m\u001b[0;34m\u001b[0m\u001b[0m\n\u001b[1;32m   1219\u001b[0m \u001b[0;34m\u001b[0m\u001b[0m\n",
            "\u001b[0;32m/usr/local/lib/python3.6/dist-packages/keras/backend/tensorflow_backend.py\u001b[0m in \u001b[0;36m__call__\u001b[0;34m(self, inputs)\u001b[0m\n\u001b[1;32m   2713\u001b[0m                 \u001b[0;32mreturn\u001b[0m \u001b[0mself\u001b[0m\u001b[0;34m.\u001b[0m\u001b[0m_legacy_call\u001b[0m\u001b[0;34m(\u001b[0m\u001b[0minputs\u001b[0m\u001b[0;34m)\u001b[0m\u001b[0;34m\u001b[0m\u001b[0;34m\u001b[0m\u001b[0m\n\u001b[1;32m   2714\u001b[0m \u001b[0;34m\u001b[0m\u001b[0m\n\u001b[0;32m-> 2715\u001b[0;31m             \u001b[0;32mreturn\u001b[0m \u001b[0mself\u001b[0m\u001b[0;34m.\u001b[0m\u001b[0m_call\u001b[0m\u001b[0;34m(\u001b[0m\u001b[0minputs\u001b[0m\u001b[0;34m)\u001b[0m\u001b[0;34m\u001b[0m\u001b[0;34m\u001b[0m\u001b[0m\n\u001b[0m\u001b[1;32m   2716\u001b[0m         \u001b[0;32melse\u001b[0m\u001b[0;34m:\u001b[0m\u001b[0;34m\u001b[0m\u001b[0;34m\u001b[0m\u001b[0m\n\u001b[1;32m   2717\u001b[0m             \u001b[0;32mif\u001b[0m \u001b[0mpy_any\u001b[0m\u001b[0;34m(\u001b[0m\u001b[0mis_tensor\u001b[0m\u001b[0;34m(\u001b[0m\u001b[0mx\u001b[0m\u001b[0;34m)\u001b[0m \u001b[0;32mfor\u001b[0m \u001b[0mx\u001b[0m \u001b[0;32min\u001b[0m \u001b[0minputs\u001b[0m\u001b[0;34m)\u001b[0m\u001b[0;34m:\u001b[0m\u001b[0;34m\u001b[0m\u001b[0;34m\u001b[0m\u001b[0m\n",
            "\u001b[0;32m/usr/local/lib/python3.6/dist-packages/keras/backend/tensorflow_backend.py\u001b[0m in \u001b[0;36m_call\u001b[0;34m(self, inputs)\u001b[0m\n\u001b[1;32m   2673\u001b[0m             \u001b[0mfetched\u001b[0m \u001b[0;34m=\u001b[0m \u001b[0mself\u001b[0m\u001b[0;34m.\u001b[0m\u001b[0m_callable_fn\u001b[0m\u001b[0;34m(\u001b[0m\u001b[0;34m*\u001b[0m\u001b[0marray_vals\u001b[0m\u001b[0;34m,\u001b[0m \u001b[0mrun_metadata\u001b[0m\u001b[0;34m=\u001b[0m\u001b[0mself\u001b[0m\u001b[0;34m.\u001b[0m\u001b[0mrun_metadata\u001b[0m\u001b[0;34m)\u001b[0m\u001b[0;34m\u001b[0m\u001b[0;34m\u001b[0m\u001b[0m\n\u001b[1;32m   2674\u001b[0m         \u001b[0;32melse\u001b[0m\u001b[0;34m:\u001b[0m\u001b[0;34m\u001b[0m\u001b[0;34m\u001b[0m\u001b[0m\n\u001b[0;32m-> 2675\u001b[0;31m             \u001b[0mfetched\u001b[0m \u001b[0;34m=\u001b[0m \u001b[0mself\u001b[0m\u001b[0;34m.\u001b[0m\u001b[0m_callable_fn\u001b[0m\u001b[0;34m(\u001b[0m\u001b[0;34m*\u001b[0m\u001b[0marray_vals\u001b[0m\u001b[0;34m)\u001b[0m\u001b[0;34m\u001b[0m\u001b[0;34m\u001b[0m\u001b[0m\n\u001b[0m\u001b[1;32m   2676\u001b[0m         \u001b[0;32mreturn\u001b[0m \u001b[0mfetched\u001b[0m\u001b[0;34m[\u001b[0m\u001b[0;34m:\u001b[0m\u001b[0mlen\u001b[0m\u001b[0;34m(\u001b[0m\u001b[0mself\u001b[0m\u001b[0;34m.\u001b[0m\u001b[0moutputs\u001b[0m\u001b[0;34m)\u001b[0m\u001b[0;34m]\u001b[0m\u001b[0;34m\u001b[0m\u001b[0;34m\u001b[0m\u001b[0m\n\u001b[1;32m   2677\u001b[0m \u001b[0;34m\u001b[0m\u001b[0m\n",
            "\u001b[0;32m/usr/local/lib/python3.6/dist-packages/tensorflow/python/client/session.py\u001b[0m in \u001b[0;36m__call__\u001b[0;34m(self, *args, **kwargs)\u001b[0m\n\u001b[1;32m   1437\u001b[0m           ret = tf_session.TF_SessionRunCallable(\n\u001b[1;32m   1438\u001b[0m               \u001b[0mself\u001b[0m\u001b[0;34m.\u001b[0m\u001b[0m_session\u001b[0m\u001b[0;34m.\u001b[0m\u001b[0m_session\u001b[0m\u001b[0;34m,\u001b[0m \u001b[0mself\u001b[0m\u001b[0;34m.\u001b[0m\u001b[0m_handle\u001b[0m\u001b[0;34m,\u001b[0m \u001b[0margs\u001b[0m\u001b[0;34m,\u001b[0m \u001b[0mstatus\u001b[0m\u001b[0;34m,\u001b[0m\u001b[0;34m\u001b[0m\u001b[0;34m\u001b[0m\u001b[0m\n\u001b[0;32m-> 1439\u001b[0;31m               run_metadata_ptr)\n\u001b[0m\u001b[1;32m   1440\u001b[0m         \u001b[0;32mif\u001b[0m \u001b[0mrun_metadata\u001b[0m\u001b[0;34m:\u001b[0m\u001b[0;34m\u001b[0m\u001b[0;34m\u001b[0m\u001b[0m\n\u001b[1;32m   1441\u001b[0m           \u001b[0mproto_data\u001b[0m \u001b[0;34m=\u001b[0m \u001b[0mtf_session\u001b[0m\u001b[0;34m.\u001b[0m\u001b[0mTF_GetBuffer\u001b[0m\u001b[0;34m(\u001b[0m\u001b[0mrun_metadata_ptr\u001b[0m\u001b[0;34m)\u001b[0m\u001b[0;34m\u001b[0m\u001b[0;34m\u001b[0m\u001b[0m\n",
            "\u001b[0;31mKeyboardInterrupt\u001b[0m: "
          ]
        }
      ]
    },
    {
      "metadata": {
        "id": "DXa5Mg_LaPul",
        "colab_type": "code",
        "colab": {}
      },
      "cell_type": "code",
      "source": [
        "# 15000 iteration (batch_size=128)\n",
        "generated_img = model6_2.generator.predict(np.random.normal(0, 1, (10, 100)))\n",
        "\n",
        "\n",
        "import matplotlib.pyplot as plt\n",
        "\n",
        "plt.figure(figsize=(20, 2))\n",
        "n =10\n",
        "for i in range(n):\n",
        "    # display original\n",
        "    ax = plt.subplot(1, n, i + 1)\n",
        "    plt.imshow(np.squeeze(generated_img[i]), cmap=cm.gray_r)\n",
        "    ax.get_xaxis().set_visible(False)\n",
        "    ax.get_yaxis().set_visible(False)"
      ],
      "execution_count": 0,
      "outputs": []
    },
    {
      "metadata": {
        "id": "FM9OKdPeaTo9",
        "colab_type": "code",
        "colab": {}
      },
      "cell_type": "code",
      "source": [
        ""
      ],
      "execution_count": 0,
      "outputs": []
    }
  ]
}