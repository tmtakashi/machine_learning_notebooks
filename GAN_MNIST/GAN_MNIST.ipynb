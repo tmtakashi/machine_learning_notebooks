{
  "nbformat": 4,
  "nbformat_minor": 0,
  "metadata": {
    "colab": {
      "name": "GAN_MNIST.ipynb",
      "version": "0.3.2",
      "provenance": [],
      "collapsed_sections": [],
      "include_colab_link": true
    },
    "kernelspec": {
      "name": "python3",
      "display_name": "Python 3"
    },
    "accelerator": "GPU"
  },
  "cells": [
    {
      "cell_type": "markdown",
      "metadata": {
        "id": "view-in-github",
        "colab_type": "text"
      },
      "source": [
        "<a href=\"https://colab.research.google.com/github/tmtakashi/GAN_MNIST/blob/master/GAN_MNIST.ipynb\" target=\"_parent\"><img src=\"https://colab.research.google.com/assets/colab-badge.svg\" alt=\"Open In Colab\"/></a>"
      ]
    },
    {
      "metadata": {
        "id": "67J5BZCjls2J",
        "colab_type": "code",
        "colab": {}
      },
      "cell_type": "code",
      "source": [
        "# https://qiita.com/triwave33/items/1890ccc71fab6cbca87e\n",
        "from keras.layers import Dense, LeakyReLU, BatchNormalization, Reshape, Flatten, Input\n",
        "from keras.models import Sequential\n",
        "from keras.optimizers import Adam\n",
        "\n",
        "import numpy as np\n",
        "\n",
        "class GAN():\n",
        "  def __init__(self):\n",
        "    # MNISTの入力サイズ\n",
        "    self.img_rows = 28\n",
        "    self.img_cols = 28\n",
        "    self.channels = 1\n",
        "    self.img_shape = (self.img_rows, self.img_cols, self.channels)\n",
        "\n",
        "    # 潜在変数の次元数\n",
        "    self.z_dim =100\n",
        "\n",
        "    optimizer = Adam(0.0002, 0.5)\n",
        "\n",
        "    # Discriminatorモデル\n",
        "    self.discriminator = self.build_discriminator()\n",
        "    self.discriminator.compile(loss='binary_crossentropy',\n",
        "                               optimizer=optimizer,\n",
        "                               metrics=['accuracy'])\n",
        "\n",
        "    # Generatorモデル\n",
        "    self.generator = self.build_generator()\n",
        "    # Generatorは単体では学習しないのでコンパイルは必要ない\n",
        "\n",
        "    self.combined = self.build_combined1()\n",
        "    self.combined.compile(loss='binary_crossentropy', optimizer=optimizer)\n",
        "    \n",
        "  def build_generator(self):\n",
        "    noise_shape = (self.z_dim, )\n",
        "    model = Sequential()\n",
        "\n",
        "    model.add(Dense(256, input_shape=noise_shape))\n",
        "    model.add(LeakyReLU(alpha=0.2))\n",
        "    model.add(BatchNormalization(momentum=0.8))\n",
        "    model.add(Dense(512))\n",
        "    model.add(LeakyReLU(alpha=0.2))\n",
        "    model.add(BatchNormalization(momentum=0.8))\n",
        "    model.add(Dense(1024))\n",
        "    model.add(LeakyReLU(alpha=0.2))\n",
        "    model.add(BatchNormalization(momentum=0.8))\n",
        "    model.add(Dense(np.prod(self.img_shape), activation='tanh'))\n",
        "    model.add(Reshape(self.img_shape))\n",
        "\n",
        "\n",
        "    model.summary()\n",
        "\n",
        "    return model\n",
        "\n",
        "  def build_discriminator(self):\n",
        "    img_shape = (self.img_rows, self.img_cols, self.channels)\n",
        "\n",
        "    model = Sequential()\n",
        "    \n",
        "    model.add(Flatten(input_shape=img_shape))\n",
        "    model.add(Dense(512))\n",
        "    model.add(LeakyReLU(alpha=0.2))\n",
        "    model.add(Dense(256))\n",
        "    model.add(LeakyReLU(alpha=0.2))\n",
        "    model.add(Dense(1, activation='sigmoid'))\n",
        "    model.summary()\n",
        "\n",
        "    return model\n",
        "\n",
        "  def build_combined1(self):\n",
        "    self.discriminator.trainable = False\n",
        "    model = Sequential([self.generator, self.discriminator])\n",
        "    return model\n",
        "\n",
        "  def build_combined2(self):\n",
        "    z = Input(shape=(self.z_dim,))\n",
        "    img = self.generator(z)\n",
        "    self.discriminator.trainable = False\n",
        "    valid = self.discriminator(img)\n",
        "    model = Model(z, valid)\n",
        "    model.summary()\n",
        "    return model\n",
        "\n",
        "  def train(self, iterations, batch_size=128, save_interval=50):\n",
        "\n",
        "    #　MNIST読み込み\n",
        "    from keras.datasets import mnist\n",
        "    (x_train, _), (_, _) = mnist.load_data()\n",
        "\n",
        "    # 正規化\n",
        "    x_train = (x_train.astype(np.float32) - 127.5) / 127.5\n",
        "    # チャンネル次元を増やす\n",
        "    x_train = np.expand_dims(x_train, axis=3)\n",
        "\n",
        "    half_batch = int(batch_size / 2)\n",
        "\n",
        "    for i in range(iterations):\n",
        "\n",
        "      # -------------------------\n",
        "      # Discriminatorの学習\n",
        "      # -------------------------\n",
        "\n",
        "      # バッチサイズの半数をGeneratorから生成\n",
        "      noise = np.random.normal(0, 1, (half_batch, self.z_dim))\n",
        "      gen_imgs = self.generator.predict(noise)\n",
        "\n",
        "      # バッチサイズの半数を教師データからピックアップ\n",
        "      idx = np.random.randint(0, x_train.shape[0], half_batch)\n",
        "      imgs = x_train[idx]\n",
        "\n",
        "      # Discriminatorを学習\n",
        "      # 本物データと偽物データは別々に学習させる\n",
        "      d_loss_real = self.discriminator.train_on_batch(imgs, np.ones((half_batch, 1))) # 本物\n",
        "      d_loss_fake = self.discriminator.train_on_batch(gen_imgs, np.zeros((half_batch, 1))) # 偽物\n",
        "      # それぞれの損失関数を平均\n",
        "      d_loss = 0.5 * np.add(d_loss_real, d_loss_fake)\n",
        "\n",
        "      # -----------------------\n",
        "      # Generatorの学習\n",
        "      # -----------------------\n",
        "\n",
        "      noise = np.random.normal(0, 1, (batch_size, self.z_dim))\n",
        "\n",
        "      # 生成データの正解データは本物\n",
        "      valid_y = np.array([1] * batch_size)\n",
        "\n",
        "      # Generatorを学習\n",
        "      g_loss = self.combined.train_on_batch(noise, valid_y)\n",
        "\n",
        "      # 進捗の表示\n",
        "      if i % 100 == 0:\n",
        "        print(\"%d [ D loss: %f, acc.: %2.f%%] [G loss: %f]\" % (i, d_loss[0], 100*d_loss[1], g_loss))"
      ],
      "execution_count": 0,
      "outputs": []
    },
    {
      "metadata": {
        "id": "kINEj_5KI1WE",
        "colab_type": "code",
        "colab": {}
      },
      "cell_type": "code",
      "source": [
        "# https://qiita.com/triwave33/items/1890ccc71fab6cbca87e\n",
        "from keras.layers import Dense, LeakyReLU, BatchNormalization, Reshape, Flatten, Input\n",
        "from keras.models import Sequential\n",
        "from keras.optimizers import Adam\n",
        "\n",
        "import numpy as np\n",
        "\n",
        "# Generatorの学習率を半分にした\n",
        "class GAN2():\n",
        "  def __init__(self):\n",
        "    # MNISTの入力サイズ\n",
        "    self.img_rows = 28\n",
        "    self.img_cols = 28\n",
        "    self.channels = 1\n",
        "    self.img_shape = (self.img_rows, self.img_cols, self.channels)\n",
        "\n",
        "    # 潜在変数の次元数\n",
        "    self.z_dim =100\n",
        "\n",
        "    optimizer = Adam(0.0002, 0.5)\n",
        "\n",
        "    # Discriminatorモデル\n",
        "    self.discriminator = self.build_discriminator()\n",
        "    self.discriminator.compile(loss='binary_crossentropy',\n",
        "                               optimizer=optimizer,\n",
        "                               metrics=['accuracy'])\n",
        "\n",
        "    # Generatorモデル\n",
        "    self.generator = self.build_generator()\n",
        "    # Generatorは単体では学習しないのでコンパイルは必要ない\n",
        "\n",
        "    self.combined = self.build_combined1()\n",
        "    self.combined.compile(loss='binary_crossentropy', optimizer=Adam(0.0001, 0.5))\n",
        "    \n",
        "  def build_generator(self):\n",
        "    noise_shape = (self.z_dim, )\n",
        "    model = Sequential()\n",
        "\n",
        "    model.add(Dense(256, input_shape=noise_shape))\n",
        "    model.add(LeakyReLU(alpha=0.2))\n",
        "    model.add(BatchNormalization(momentum=0.8))\n",
        "    model.add(Dense(512))\n",
        "    model.add(LeakyReLU(alpha=0.2))\n",
        "    model.add(BatchNormalization(momentum=0.8))\n",
        "    model.add(Dense(1024))\n",
        "    model.add(LeakyReLU(alpha=0.2))\n",
        "    model.add(BatchNormalization(momentum=0.8))\n",
        "    model.add(Dense(np.prod(self.img_shape), activation='tanh'))\n",
        "    model.add(Reshape(self.img_shape))\n",
        "\n",
        "\n",
        "    model.summary()\n",
        "\n",
        "    return model\n",
        "\n",
        "  def build_discriminator(self):\n",
        "    img_shape = (self.img_rows, self.img_cols, self.channels)\n",
        "\n",
        "    model = Sequential()\n",
        "    \n",
        "    model.add(Flatten(input_shape=img_shape))\n",
        "    model.add(Dense(512))\n",
        "    model.add(LeakyReLU(alpha=0.2))\n",
        "    model.add(Dense(256))\n",
        "    model.add(LeakyReLU(alpha=0.2))\n",
        "    model.add(Dense(1, activation='sigmoid'))\n",
        "    model.summary()\n",
        "\n",
        "    return model\n",
        "\n",
        "  def build_combined1(self):\n",
        "    self.discriminator.trainable = False\n",
        "    model = Sequential([self.generator, self.discriminator])\n",
        "    return model\n",
        "\n",
        "  def build_combined2(self):\n",
        "    z = Input(shape=(self.z_dim,))\n",
        "    img = self.generator(z)\n",
        "    self.discriminator.trainable = False\n",
        "    valid = self.discriminator(img)\n",
        "    model = Model(z, valid)\n",
        "    model.summary()\n",
        "    return model\n",
        "\n",
        "  def train(self, iterations, batch_size=128, save_interval=50):\n",
        "\n",
        "    #　MNIST読み込み\n",
        "    from keras.datasets import mnist\n",
        "    (x_train, _), (_, _) = mnist.load_data()\n",
        "\n",
        "    # 正規化\n",
        "    x_train = (x_train.astype(np.float32) - 127.5) / 127.5\n",
        "    # チャンネル次元を増やす\n",
        "    x_train = np.expand_dims(x_train, axis=3)\n",
        "\n",
        "    half_batch = int(batch_size / 2)\n",
        "\n",
        "    for i in range(iterations):\n",
        "\n",
        "      # -------------------------\n",
        "      # Discriminatorの学習\n",
        "      # -------------------------\n",
        "\n",
        "      # バッチサイズの半数をGeneratorから生成\n",
        "      noise = np.random.normal(0, 1, (half_batch, self.z_dim))\n",
        "      gen_imgs = self.generator.predict(noise)\n",
        "\n",
        "      # バッチサイズの半数を教師データからピックアップ\n",
        "      idx = np.random.randint(0, x_train.shape[0], half_batch)\n",
        "      imgs = x_train[idx]\n",
        "\n",
        "      # Discriminatorを学習\n",
        "      # 本物データと偽物データは別々に学習させる\n",
        "      d_loss_real = self.discriminator.train_on_batch(imgs, np.ones((half_batch, 1))) # 本物\n",
        "      d_loss_fake = self.discriminator.train_on_batch(gen_imgs, np.zeros((half_batch, 1))) # 偽物\n",
        "      # それぞれの損失関数を平均\n",
        "      d_loss = 0.5 * np.add(d_loss_real, d_loss_fake)\n",
        "\n",
        "      # -----------------------\n",
        "      # Generatorの学習\n",
        "      # -----------------------\n",
        "\n",
        "      noise = np.random.normal(0, 1, (batch_size, self.z_dim))\n",
        "\n",
        "      # 生成データの正解データは本物\n",
        "      valid_y = np.array([1] * batch_size)\n",
        "\n",
        "      # Generatorを学習\n",
        "      g_loss = self.combined.train_on_batch(noise, valid_y)\n",
        "\n",
        "      # 進捗の表示\n",
        "      if i % 100 == 0:\n",
        "        print(\"%d [ D loss: %f, acc.: %2.f%%] [G loss: %f]\" % (i, d_loss[0], 100*d_loss[1], g_loss))"
      ],
      "execution_count": 0,
      "outputs": []
    },
    {
      "metadata": {
        "id": "dCCGEfBjuuvL",
        "colab_type": "code",
        "outputId": "6488d7ab-91ad-49ae-a696-79fe1a7107d9",
        "colab": {
          "base_uri": "https://localhost:8080/",
          "height": 955
        }
      },
      "cell_type": "code",
      "source": [
        "model1 = GAN()\n",
        "model1.train(iterations=400)"
      ],
      "execution_count": 0,
      "outputs": [
        {
          "output_type": "stream",
          "text": [
            "_________________________________________________________________\n",
            "Layer (type)                 Output Shape              Param #   \n",
            "=================================================================\n",
            "flatten_24 (Flatten)         (None, 784)               0         \n",
            "_________________________________________________________________\n",
            "dense_162 (Dense)            (None, 512)               401920    \n",
            "_________________________________________________________________\n",
            "leaky_re_lu_116 (LeakyReLU)  (None, 512)               0         \n",
            "_________________________________________________________________\n",
            "dense_163 (Dense)            (None, 256)               131328    \n",
            "_________________________________________________________________\n",
            "leaky_re_lu_117 (LeakyReLU)  (None, 256)               0         \n",
            "_________________________________________________________________\n",
            "dense_164 (Dense)            (None, 1)                 257       \n",
            "=================================================================\n",
            "Total params: 533,505\n",
            "Trainable params: 533,505\n",
            "Non-trainable params: 0\n",
            "_________________________________________________________________\n",
            "_________________________________________________________________\n",
            "Layer (type)                 Output Shape              Param #   \n",
            "=================================================================\n",
            "dense_165 (Dense)            (None, 256)               25856     \n",
            "_________________________________________________________________\n",
            "leaky_re_lu_118 (LeakyReLU)  (None, 256)               0         \n",
            "_________________________________________________________________\n",
            "batch_normalization_70 (Batc (None, 256)               1024      \n",
            "_________________________________________________________________\n",
            "dense_166 (Dense)            (None, 512)               131584    \n",
            "_________________________________________________________________\n",
            "leaky_re_lu_119 (LeakyReLU)  (None, 512)               0         \n",
            "_________________________________________________________________\n",
            "batch_normalization_71 (Batc (None, 512)               2048      \n",
            "_________________________________________________________________\n",
            "dense_167 (Dense)            (None, 1024)              525312    \n",
            "_________________________________________________________________\n",
            "leaky_re_lu_120 (LeakyReLU)  (None, 1024)              0         \n",
            "_________________________________________________________________\n",
            "batch_normalization_72 (Batc (None, 1024)              4096      \n",
            "_________________________________________________________________\n",
            "dense_168 (Dense)            (None, 784)               803600    \n",
            "_________________________________________________________________\n",
            "reshape_24 (Reshape)         (None, 28, 28, 1)         0         \n",
            "=================================================================\n",
            "Total params: 1,493,520\n",
            "Trainable params: 1,489,936\n",
            "Non-trainable params: 3,584\n",
            "_________________________________________________________________\n"
          ],
          "name": "stdout"
        },
        {
          "output_type": "stream",
          "text": [
            "/usr/local/lib/python3.6/dist-packages/keras/engine/training.py:490: UserWarning: Discrepancy between trainable weights and collected trainable weights, did you set `model.trainable` without calling `model.compile` after ?\n",
            "  'Discrepancy between trainable weights and collected trainable'\n"
          ],
          "name": "stderr"
        },
        {
          "output_type": "stream",
          "text": [
            "0 [ D loss: 0.747896, acc.: 37%] [G loss: 0.609424]\n",
            "100 [ D loss: 0.294659, acc.: 87%] [G loss: 2.858519]\n",
            "200 [ D loss: 0.284766, acc.: 88%] [G loss: 2.380563]\n",
            "300 [ D loss: 0.732825, acc.: 38%] [G loss: 0.633048]\n"
          ],
          "name": "stdout"
        }
      ]
    },
    {
      "metadata": {
        "id": "-kzwwGA40AAT",
        "colab_type": "code",
        "colab": {
          "base_uri": "https://localhost:8080/",
          "height": 125
        },
        "outputId": "60f706b6-156e-47d5-9586-c00f9a227516"
      },
      "cell_type": "code",
      "source": [
        "# 400 iteration\n",
        "generated_img = model1.generator.predict(np.random.normal(0, 1, (10, 100)))\n",
        "\n",
        "\n",
        "import matplotlib.pyplot as plt\n",
        "from matplotlib import cm\n",
        "\n",
        "plt.figure(figsize=(20, 2))\n",
        "n =10\n",
        "for i in range(n):\n",
        "    # display original\n",
        "    ax = plt.subplot(1, n, i + 1)\n",
        "    plt.imshow(np.squeeze(generated_img[i]), cmap=cm.gray_r)\n",
        "    ax.get_xaxis().set_visible(False)\n",
        "    ax.get_yaxis().set_visible(False)"
      ],
      "execution_count": 72,
      "outputs": [
        {
          "output_type": "display_data",
          "data": {
            "image/png": "[encoded data removed]",
            "text/plain": [
              "<matplotlib.figure.Figure at 0x7f783fe685c0>"
            ]
          },
          "metadata": {
            "tags": []
          }
        }
      ]
    },
    {
      "metadata": {
        "id": "7odUgD4-I_J7",
        "colab_type": "code",
        "outputId": "1b6a3092-c0aa-40d4-da15-aebd36c4ad0f",
        "colab": {
          "base_uri": "https://localhost:8080/",
          "height": 955
        }
      },
      "cell_type": "code",
      "source": [
        "model1_2 = GAN2()\n",
        "model1_2.train(iterations=400)"
      ],
      "execution_count": 0,
      "outputs": [
        {
          "output_type": "stream",
          "text": [
            "_________________________________________________________________\n",
            "Layer (type)                 Output Shape              Param #   \n",
            "=================================================================\n",
            "flatten_25 (Flatten)         (None, 784)               0         \n",
            "_________________________________________________________________\n",
            "dense_169 (Dense)            (None, 512)               401920    \n",
            "_________________________________________________________________\n",
            "leaky_re_lu_121 (LeakyReLU)  (None, 512)               0         \n",
            "_________________________________________________________________\n",
            "dense_170 (Dense)            (None, 256)               131328    \n",
            "_________________________________________________________________\n",
            "leaky_re_lu_122 (LeakyReLU)  (None, 256)               0         \n",
            "_________________________________________________________________\n",
            "dense_171 (Dense)            (None, 1)                 257       \n",
            "=================================================================\n",
            "Total params: 533,505\n",
            "Trainable params: 533,505\n",
            "Non-trainable params: 0\n",
            "_________________________________________________________________\n",
            "_________________________________________________________________\n",
            "Layer (type)                 Output Shape              Param #   \n",
            "=================================================================\n",
            "dense_172 (Dense)            (None, 256)               25856     \n",
            "_________________________________________________________________\n",
            "leaky_re_lu_123 (LeakyReLU)  (None, 256)               0         \n",
            "_________________________________________________________________\n",
            "batch_normalization_73 (Batc (None, 256)               1024      \n",
            "_________________________________________________________________\n",
            "dense_173 (Dense)            (None, 512)               131584    \n",
            "_________________________________________________________________\n",
            "leaky_re_lu_124 (LeakyReLU)  (None, 512)               0         \n",
            "_________________________________________________________________\n",
            "batch_normalization_74 (Batc (None, 512)               2048      \n",
            "_________________________________________________________________\n",
            "dense_174 (Dense)            (None, 1024)              525312    \n",
            "_________________________________________________________________\n",
            "leaky_re_lu_125 (LeakyReLU)  (None, 1024)              0         \n",
            "_________________________________________________________________\n",
            "batch_normalization_75 (Batc (None, 1024)              4096      \n",
            "_________________________________________________________________\n",
            "dense_175 (Dense)            (None, 784)               803600    \n",
            "_________________________________________________________________\n",
            "reshape_25 (Reshape)         (None, 28, 28, 1)         0         \n",
            "=================================================================\n",
            "Total params: 1,493,520\n",
            "Trainable params: 1,489,936\n",
            "Non-trainable params: 3,584\n",
            "_________________________________________________________________\n"
          ],
          "name": "stdout"
        },
        {
          "output_type": "stream",
          "text": [
            "/usr/local/lib/python3.6/dist-packages/keras/engine/training.py:490: UserWarning: Discrepancy between trainable weights and collected trainable weights, did you set `model.trainable` without calling `model.compile` after ?\n",
            "  'Discrepancy between trainable weights and collected trainable'\n"
          ],
          "name": "stderr"
        },
        {
          "output_type": "stream",
          "text": [
            "0 [ D loss: 1.001056, acc.: 16%] [G loss: 0.727168]\n",
            "100 [ D loss: 0.009225, acc.: 100%] [G loss: 4.588662]\n",
            "200 [ D loss: 0.015147, acc.: 100%] [G loss: 5.844211]\n",
            "300 [ D loss: 0.071434, acc.: 97%] [G loss: 4.469321]\n"
          ],
          "name": "stdout"
        }
      ]
    },
    {
      "metadata": {
        "id": "t35vm6TRJN9M",
        "colab_type": "code",
        "outputId": "24e4166d-ec10-4280-80fa-3b907042ef46",
        "colab": {
          "base_uri": "https://localhost:8080/",
          "height": 125
        }
      },
      "cell_type": "code",
      "source": [
        "# 400 iteration\n",
        "generated_img = model1_2.generator.predict(np.random.normal(0, 1, (10, 100)))\n",
        "\n",
        "\n",
        "import matplotlib.pyplot as plt\n",
        "\n",
        "plt.figure(figsize=(20, 2))\n",
        "n =10\n",
        "for i in range(n):\n",
        "    # display original\n",
        "    ax = plt.subplot(1, n, i + 1)\n",
        "    plt.imshow(np.squeeze(generated_img[i]))\n",
        "    ax.get_xaxis().set_visible(False)\n",
        "    ax.get_yaxis().set_visible(False)"
      ],
      "execution_count": 0,
      "outputs": [
        {
          "output_type": "display_data",
          "data": {
            "image/png": "[encoded data removed]",
            "text/plain": [
              "<matplotlib.figure.Figure at 0x7f7845759898>"
            ]
          },
          "metadata": {
            "tags": []
          }
        }
      ]
    },
    {
      "metadata": {
        "id": "qOZmQxZm9MBR",
        "colab_type": "code",
        "outputId": "1eb69e02-f90a-488b-b90a-029c1566f916",
        "colab": {
          "base_uri": "https://localhost:8080/",
          "height": 1057
        }
      },
      "cell_type": "code",
      "source": [
        "model2 = GAN()\n",
        "model2.train(iterations=1000)"
      ],
      "execution_count": 0,
      "outputs": [
        {
          "output_type": "stream",
          "text": [
            "_________________________________________________________________\n",
            "Layer (type)                 Output Shape              Param #   \n",
            "=================================================================\n",
            "flatten_26 (Flatten)         (None, 784)               0         \n",
            "_________________________________________________________________\n",
            "dense_176 (Dense)            (None, 512)               401920    \n",
            "_________________________________________________________________\n",
            "leaky_re_lu_126 (LeakyReLU)  (None, 512)               0         \n",
            "_________________________________________________________________\n",
            "dense_177 (Dense)            (None, 256)               131328    \n",
            "_________________________________________________________________\n",
            "leaky_re_lu_127 (LeakyReLU)  (None, 256)               0         \n",
            "_________________________________________________________________\n",
            "dense_178 (Dense)            (None, 1)                 257       \n",
            "=================================================================\n",
            "Total params: 533,505\n",
            "Trainable params: 533,505\n",
            "Non-trainable params: 0\n",
            "_________________________________________________________________\n",
            "_________________________________________________________________\n",
            "Layer (type)                 Output Shape              Param #   \n",
            "=================================================================\n",
            "dense_179 (Dense)            (None, 256)               25856     \n",
            "_________________________________________________________________\n",
            "leaky_re_lu_128 (LeakyReLU)  (None, 256)               0         \n",
            "_________________________________________________________________\n",
            "batch_normalization_76 (Batc (None, 256)               1024      \n",
            "_________________________________________________________________\n",
            "dense_180 (Dense)            (None, 512)               131584    \n",
            "_________________________________________________________________\n",
            "leaky_re_lu_129 (LeakyReLU)  (None, 512)               0         \n",
            "_________________________________________________________________\n",
            "batch_normalization_77 (Batc (None, 512)               2048      \n",
            "_________________________________________________________________\n",
            "dense_181 (Dense)            (None, 1024)              525312    \n",
            "_________________________________________________________________\n",
            "leaky_re_lu_130 (LeakyReLU)  (None, 1024)              0         \n",
            "_________________________________________________________________\n",
            "batch_normalization_78 (Batc (None, 1024)              4096      \n",
            "_________________________________________________________________\n",
            "dense_182 (Dense)            (None, 784)               803600    \n",
            "_________________________________________________________________\n",
            "reshape_26 (Reshape)         (None, 28, 28, 1)         0         \n",
            "=================================================================\n",
            "Total params: 1,493,520\n",
            "Trainable params: 1,489,936\n",
            "Non-trainable params: 3,584\n",
            "_________________________________________________________________\n"
          ],
          "name": "stdout"
        },
        {
          "output_type": "stream",
          "text": [
            "/usr/local/lib/python3.6/dist-packages/keras/engine/training.py:490: UserWarning: Discrepancy between trainable weights and collected trainable weights, did you set `model.trainable` without calling `model.compile` after ?\n",
            "  'Discrepancy between trainable weights and collected trainable'\n"
          ],
          "name": "stderr"
        },
        {
          "output_type": "stream",
          "text": [
            "0 [ D loss: 0.579890, acc.: 88%] [G loss: 0.976100]\n",
            "100 [ D loss: 0.395755, acc.: 81%] [G loss: 3.065552]\n",
            "200 [ D loss: 0.742285, acc.: 45%] [G loss: 1.042838]\n",
            "300 [ D loss: 0.642656, acc.: 49%] [G loss: 0.630607]\n",
            "400 [ D loss: 0.628894, acc.: 53%] [G loss: 0.696641]\n",
            "500 [ D loss: 0.627208, acc.: 61%] [G loss: 0.715309]\n",
            "600 [ D loss: 0.637929, acc.: 57%] [G loss: 0.772213]\n",
            "700 [ D loss: 0.621030, acc.: 69%] [G loss: 0.837311]\n",
            "800 [ D loss: 0.634590, acc.: 65%] [G loss: 0.832303]\n",
            "900 [ D loss: 0.596522, acc.: 78%] [G loss: 0.843299]\n"
          ],
          "name": "stdout"
        }
      ]
    },
    {
      "metadata": {
        "id": "mzFS0Us6-AaZ",
        "colab_type": "code",
        "outputId": "a6062cf5-c055-4424-e5d6-7b8c12326bb6",
        "colab": {
          "base_uri": "https://localhost:8080/",
          "height": 125
        }
      },
      "cell_type": "code",
      "source": [
        "# 1000 iteration\n",
        "generated_img = model2.generator.predict(np.random.normal(0, 1, (10, 100)))\n",
        "\n",
        "\n",
        "import matplotlib.pyplot as plt\n",
        "\n",
        "plt.figure(figsize=(20, 2))\n",
        "n =10\n",
        "for i in range(n):\n",
        "    # display original\n",
        "    ax = plt.subplot(1, n, i + 1)\n",
        "    plt.imshow(np.squeeze(generated_img[i]))\n",
        "    ax.get_xaxis().set_visible(False)\n",
        "    ax.get_yaxis().set_visible(False)"
      ],
      "execution_count": 0,
      "outputs": [
        {
          "output_type": "display_data",
          "data": {
            "image/png": "[encoded data removed]",
            "text/plain": [
              "<matplotlib.figure.Figure at 0x7f7843b63908>"
            ]
          },
          "metadata": {
            "tags": []
          }
        }
      ]
    },
    {
      "metadata": {
        "id": "Jarw0yNHJrlQ",
        "colab_type": "code",
        "outputId": "d7e9c48f-0054-4a7d-d674-d75eb7365462",
        "colab": {
          "base_uri": "https://localhost:8080/",
          "height": 1057
        }
      },
      "cell_type": "code",
      "source": [
        "model2_2 = GAN2()\n",
        "model2_2.train(iterations=1000)"
      ],
      "execution_count": 0,
      "outputs": [
        {
          "output_type": "stream",
          "text": [
            "_________________________________________________________________\n",
            "Layer (type)                 Output Shape              Param #   \n",
            "=================================================================\n",
            "flatten_27 (Flatten)         (None, 784)               0         \n",
            "_________________________________________________________________\n",
            "dense_183 (Dense)            (None, 512)               401920    \n",
            "_________________________________________________________________\n",
            "leaky_re_lu_131 (LeakyReLU)  (None, 512)               0         \n",
            "_________________________________________________________________\n",
            "dense_184 (Dense)            (None, 256)               131328    \n",
            "_________________________________________________________________\n",
            "leaky_re_lu_132 (LeakyReLU)  (None, 256)               0         \n",
            "_________________________________________________________________\n",
            "dense_185 (Dense)            (None, 1)                 257       \n",
            "=================================================================\n",
            "Total params: 533,505\n",
            "Trainable params: 533,505\n",
            "Non-trainable params: 0\n",
            "_________________________________________________________________\n",
            "_________________________________________________________________\n",
            "Layer (type)                 Output Shape              Param #   \n",
            "=================================================================\n",
            "dense_186 (Dense)            (None, 256)               25856     \n",
            "_________________________________________________________________\n",
            "leaky_re_lu_133 (LeakyReLU)  (None, 256)               0         \n",
            "_________________________________________________________________\n",
            "batch_normalization_79 (Batc (None, 256)               1024      \n",
            "_________________________________________________________________\n",
            "dense_187 (Dense)            (None, 512)               131584    \n",
            "_________________________________________________________________\n",
            "leaky_re_lu_134 (LeakyReLU)  (None, 512)               0         \n",
            "_________________________________________________________________\n",
            "batch_normalization_80 (Batc (None, 512)               2048      \n",
            "_________________________________________________________________\n",
            "dense_188 (Dense)            (None, 1024)              525312    \n",
            "_________________________________________________________________\n",
            "leaky_re_lu_135 (LeakyReLU)  (None, 1024)              0         \n",
            "_________________________________________________________________\n",
            "batch_normalization_81 (Batc (None, 1024)              4096      \n",
            "_________________________________________________________________\n",
            "dense_189 (Dense)            (None, 784)               803600    \n",
            "_________________________________________________________________\n",
            "reshape_27 (Reshape)         (None, 28, 28, 1)         0         \n",
            "=================================================================\n",
            "Total params: 1,493,520\n",
            "Trainable params: 1,489,936\n",
            "Non-trainable params: 3,584\n",
            "_________________________________________________________________\n"
          ],
          "name": "stdout"
        },
        {
          "output_type": "stream",
          "text": [
            "/usr/local/lib/python3.6/dist-packages/keras/engine/training.py:490: UserWarning: Discrepancy between trainable weights and collected trainable weights, did you set `model.trainable` without calling `model.compile` after ?\n",
            "  'Discrepancy between trainable weights and collected trainable'\n"
          ],
          "name": "stderr"
        },
        {
          "output_type": "stream",
          "text": [
            "0 [ D loss: 0.563644, acc.: 50%] [G loss: 0.430898]\n",
            "100 [ D loss: 0.006996, acc.: 100%] [G loss: 4.689290]\n",
            "200 [ D loss: 0.007665, acc.: 100%] [G loss: 6.078606]\n",
            "300 [ D loss: 0.229163, acc.: 89%] [G loss: 4.254116]\n",
            "400 [ D loss: 0.060946, acc.: 99%] [G loss: 4.965930]\n",
            "500 [ D loss: 0.172822, acc.: 97%] [G loss: 3.622560]\n",
            "600 [ D loss: 0.523151, acc.: 72%] [G loss: 1.817476]\n",
            "700 [ D loss: 0.654575, acc.: 41%] [G loss: 0.833353]\n",
            "800 [ D loss: 0.583282, acc.: 70%] [G loss: 0.877191]\n",
            "900 [ D loss: 0.557499, acc.: 72%] [G loss: 0.988122]\n"
          ],
          "name": "stdout"
        }
      ]
    },
    {
      "metadata": {
        "id": "j1Zm2WOtJxI9",
        "colab_type": "code",
        "outputId": "0e124eba-7bf8-4af1-c809-a798772099fa",
        "colab": {
          "base_uri": "https://localhost:8080/",
          "height": 125
        }
      },
      "cell_type": "code",
      "source": [
        "# 1000 iteration\n",
        "generated_img = model2_2.generator.predict(np.random.normal(0, 1, (10, 100)))\n",
        "\n",
        "\n",
        "import matplotlib.pyplot as plt\n",
        "\n",
        "plt.figure(figsize=(20, 2))\n",
        "n =10\n",
        "for i in range(n):\n",
        "    # display original\n",
        "    ax = plt.subplot(1, n, i + 1)\n",
        "    plt.imshow(np.squeeze(generated_img[i]))\n",
        "    ax.get_xaxis().set_visible(False)\n",
        "    ax.get_yaxis().set_visible(False)"
      ],
      "execution_count": 0,
      "outputs": [
        {
          "output_type": "display_data",
          "data": {
            "image/png": "[encoded data removed]",
            "text/plain": [
              "<matplotlib.figure.Figure at 0x7f783f2447f0>"
            ]
          },
          "metadata": {
            "tags": []
          }
        }
      ]
    },
    {
      "metadata": {
        "id": "c1WfuFWp-BJ2",
        "colab_type": "code",
        "outputId": "8e30fd40-edf4-43c5-f755-4c058bd29118",
        "colab": {
          "base_uri": "https://localhost:8080/",
          "height": 1737
        }
      },
      "cell_type": "code",
      "source": [
        "model3 = GAN()\n",
        "model3.train(iterations=5000)"
      ],
      "execution_count": 0,
      "outputs": [
        {
          "output_type": "stream",
          "text": [
            "_________________________________________________________________\n",
            "Layer (type)                 Output Shape              Param #   \n",
            "=================================================================\n",
            "flatten_28 (Flatten)         (None, 784)               0         \n",
            "_________________________________________________________________\n",
            "dense_190 (Dense)            (None, 512)               401920    \n",
            "_________________________________________________________________\n",
            "leaky_re_lu_136 (LeakyReLU)  (None, 512)               0         \n",
            "_________________________________________________________________\n",
            "dense_191 (Dense)            (None, 256)               131328    \n",
            "_________________________________________________________________\n",
            "leaky_re_lu_137 (LeakyReLU)  (None, 256)               0         \n",
            "_________________________________________________________________\n",
            "dense_192 (Dense)            (None, 1)                 257       \n",
            "=================================================================\n",
            "Total params: 533,505\n",
            "Trainable params: 533,505\n",
            "Non-trainable params: 0\n",
            "_________________________________________________________________\n",
            "_________________________________________________________________\n",
            "Layer (type)                 Output Shape              Param #   \n",
            "=================================================================\n",
            "dense_193 (Dense)            (None, 256)               25856     \n",
            "_________________________________________________________________\n",
            "leaky_re_lu_138 (LeakyReLU)  (None, 256)               0         \n",
            "_________________________________________________________________\n",
            "batch_normalization_82 (Batc (None, 256)               1024      \n",
            "_________________________________________________________________\n",
            "dense_194 (Dense)            (None, 512)               131584    \n",
            "_________________________________________________________________\n",
            "leaky_re_lu_139 (LeakyReLU)  (None, 512)               0         \n",
            "_________________________________________________________________\n",
            "batch_normalization_83 (Batc (None, 512)               2048      \n",
            "_________________________________________________________________\n",
            "dense_195 (Dense)            (None, 1024)              525312    \n",
            "_________________________________________________________________\n",
            "leaky_re_lu_140 (LeakyReLU)  (None, 1024)              0         \n",
            "_________________________________________________________________\n",
            "batch_normalization_84 (Batc (None, 1024)              4096      \n",
            "_________________________________________________________________\n",
            "dense_196 (Dense)            (None, 784)               803600    \n",
            "_________________________________________________________________\n",
            "reshape_28 (Reshape)         (None, 28, 28, 1)         0         \n",
            "=================================================================\n",
            "Total params: 1,493,520\n",
            "Trainable params: 1,489,936\n",
            "Non-trainable params: 3,584\n",
            "_________________________________________________________________\n"
          ],
          "name": "stdout"
        },
        {
          "output_type": "stream",
          "text": [
            "/usr/local/lib/python3.6/dist-packages/keras/engine/training.py:490: UserWarning: Discrepancy between trainable weights and collected trainable weights, did you set `model.trainable` without calling `model.compile` after ?\n",
            "  'Discrepancy between trainable weights and collected trainable'\n"
          ],
          "name": "stderr"
        },
        {
          "output_type": "stream",
          "text": [
            "0 [ D loss: 0.927477, acc.: 12%] [G loss: 0.739093]\n",
            "100 [ D loss: 0.076805, acc.: 98%] [G loss: 3.369800]\n",
            "200 [ D loss: 0.703316, acc.: 50%] [G loss: 1.506006]\n",
            "300 [ D loss: 0.664791, acc.: 44%] [G loss: 0.656641]\n",
            "400 [ D loss: 0.630708, acc.: 50%] [G loss: 0.686807]\n",
            "500 [ D loss: 0.648331, acc.: 56%] [G loss: 0.712361]\n",
            "600 [ D loss: 0.646077, acc.: 55%] [G loss: 0.728948]\n",
            "700 [ D loss: 0.647960, acc.: 71%] [G loss: 0.792264]\n",
            "800 [ D loss: 0.629228, acc.: 74%] [G loss: 0.823910]\n",
            "900 [ D loss: 0.605813, acc.: 73%] [G loss: 0.905337]\n",
            "1000 [ D loss: 0.638363, acc.: 68%] [G loss: 0.885090]\n",
            "1100 [ D loss: 0.583967, acc.: 73%] [G loss: 0.892133]\n",
            "1200 [ D loss: 0.589517, acc.: 71%] [G loss: 0.940167]\n",
            "1300 [ D loss: 0.601011, acc.: 68%] [G loss: 0.996167]\n",
            "1400 [ D loss: 0.588154, acc.: 69%] [G loss: 1.008994]\n",
            "1500 [ D loss: 0.581995, acc.: 74%] [G loss: 1.058121]\n",
            "1600 [ D loss: 0.557433, acc.: 72%] [G loss: 1.049194]\n",
            "1700 [ D loss: 0.602294, acc.: 70%] [G loss: 0.999134]\n",
            "1800 [ D loss: 0.595471, acc.: 70%] [G loss: 0.998740]\n",
            "1900 [ D loss: 0.605983, acc.: 68%] [G loss: 0.980077]\n",
            "2000 [ D loss: 0.644689, acc.: 62%] [G loss: 1.014120]\n",
            "2100 [ D loss: 0.590006, acc.: 70%] [G loss: 0.988037]\n",
            "2200 [ D loss: 0.640578, acc.: 62%] [G loss: 0.914083]\n",
            "2300 [ D loss: 0.590239, acc.: 66%] [G loss: 1.053556]\n",
            "2400 [ D loss: 0.627708, acc.: 63%] [G loss: 0.963537]\n",
            "2500 [ D loss: 0.632749, acc.: 65%] [G loss: 0.932627]\n",
            "2600 [ D loss: 0.601780, acc.: 66%] [G loss: 0.953905]\n",
            "2700 [ D loss: 0.602662, acc.: 70%] [G loss: 0.905072]\n",
            "2800 [ D loss: 0.645929, acc.: 63%] [G loss: 0.892354]\n",
            "2900 [ D loss: 0.599481, acc.: 70%] [G loss: 0.931424]\n",
            "3000 [ D loss: 0.644943, acc.: 63%] [G loss: 0.901468]\n",
            "3100 [ D loss: 0.579810, acc.: 69%] [G loss: 0.917618]\n",
            "3200 [ D loss: 0.626880, acc.: 65%] [G loss: 0.886786]\n",
            "3300 [ D loss: 0.655177, acc.: 63%] [G loss: 0.921140]\n",
            "3400 [ D loss: 0.632633, acc.: 68%] [G loss: 0.877512]\n",
            "3500 [ D loss: 0.651711, acc.: 60%] [G loss: 0.896020]\n",
            "3600 [ D loss: 0.646405, acc.: 62%] [G loss: 0.884948]\n",
            "3700 [ D loss: 0.615728, acc.: 69%] [G loss: 0.852959]\n",
            "3800 [ D loss: 0.606989, acc.: 68%] [G loss: 0.903693]\n",
            "3900 [ D loss: 0.648747, acc.: 60%] [G loss: 0.872852]\n",
            "4000 [ D loss: 0.654273, acc.: 62%] [G loss: 0.856357]\n",
            "4100 [ D loss: 0.672662, acc.: 55%] [G loss: 0.871992]\n",
            "4200 [ D loss: 0.663053, acc.: 62%] [G loss: 0.869765]\n",
            "4300 [ D loss: 0.654428, acc.: 55%] [G loss: 0.837519]\n",
            "4400 [ D loss: 0.690589, acc.: 52%] [G loss: 0.859039]\n",
            "4500 [ D loss: 0.672088, acc.: 54%] [G loss: 0.846273]\n",
            "4600 [ D loss: 0.676579, acc.: 56%] [G loss: 0.870968]\n",
            "4700 [ D loss: 0.630235, acc.: 64%] [G loss: 0.899740]\n",
            "4800 [ D loss: 0.632980, acc.: 66%] [G loss: 0.855752]\n",
            "4900 [ D loss: 0.667788, acc.: 53%] [G loss: 0.829485]\n"
          ],
          "name": "stdout"
        }
      ]
    },
    {
      "metadata": {
        "id": "vJCnTHdc-GNA",
        "colab_type": "code",
        "outputId": "a1efa09b-587c-43c2-8896-2b40291bafd0",
        "colab": {
          "base_uri": "https://localhost:8080/",
          "height": 125
        }
      },
      "cell_type": "code",
      "source": [
        "# 5000 iteration\n",
        "generated_img = model3.generator.predict(np.random.normal(0, 1, (10, 100)))\n",
        "\n",
        "\n",
        "import matplotlib.pyplot as plt\n",
        "\n",
        "plt.figure(figsize=(20, 2))\n",
        "n =10\n",
        "for i in range(n):\n",
        "    # display original\n",
        "    ax = plt.subplot(1, n, i + 1)\n",
        "    plt.imshow(np.squeeze(generated_img[i]))\n",
        "    ax.get_xaxis().set_visible(False)\n",
        "    ax.get_yaxis().set_visible(False)"
      ],
      "execution_count": 0,
      "outputs": [
        {
          "output_type": "display_data",
          "data": {
            "image/png": "[encoded data removed]",
            "text/plain": [
              "<matplotlib.figure.Figure at 0x7f78447a0a58>"
            ]
          },
          "metadata": {
            "tags": []
          }
        }
      ]
    },
    {
      "metadata": {
        "id": "gfF9uum4KMKC",
        "colab_type": "code",
        "outputId": "8a2d00cd-82b1-47d7-fabc-aa3a509b282b",
        "colab": {
          "base_uri": "https://localhost:8080/",
          "height": 1737
        }
      },
      "cell_type": "code",
      "source": [
        "model3_2 = GAN2()\n",
        "model3_2.train(iterations=5000)"
      ],
      "execution_count": 0,
      "outputs": [
        {
          "output_type": "stream",
          "text": [
            "_________________________________________________________________\n",
            "Layer (type)                 Output Shape              Param #   \n",
            "=================================================================\n",
            "flatten_29 (Flatten)         (None, 784)               0         \n",
            "_________________________________________________________________\n",
            "dense_197 (Dense)            (None, 512)               401920    \n",
            "_________________________________________________________________\n",
            "leaky_re_lu_141 (LeakyReLU)  (None, 512)               0         \n",
            "_________________________________________________________________\n",
            "dense_198 (Dense)            (None, 256)               131328    \n",
            "_________________________________________________________________\n",
            "leaky_re_lu_142 (LeakyReLU)  (None, 256)               0         \n",
            "_________________________________________________________________\n",
            "dense_199 (Dense)            (None, 1)                 257       \n",
            "=================================================================\n",
            "Total params: 533,505\n",
            "Trainable params: 533,505\n",
            "Non-trainable params: 0\n",
            "_________________________________________________________________\n",
            "_________________________________________________________________\n",
            "Layer (type)                 Output Shape              Param #   \n",
            "=================================================================\n",
            "dense_200 (Dense)            (None, 256)               25856     \n",
            "_________________________________________________________________\n",
            "leaky_re_lu_143 (LeakyReLU)  (None, 256)               0         \n",
            "_________________________________________________________________\n",
            "batch_normalization_85 (Batc (None, 256)               1024      \n",
            "_________________________________________________________________\n",
            "dense_201 (Dense)            (None, 512)               131584    \n",
            "_________________________________________________________________\n",
            "leaky_re_lu_144 (LeakyReLU)  (None, 512)               0         \n",
            "_________________________________________________________________\n",
            "batch_normalization_86 (Batc (None, 512)               2048      \n",
            "_________________________________________________________________\n",
            "dense_202 (Dense)            (None, 1024)              525312    \n",
            "_________________________________________________________________\n",
            "leaky_re_lu_145 (LeakyReLU)  (None, 1024)              0         \n",
            "_________________________________________________________________\n",
            "batch_normalization_87 (Batc (None, 1024)              4096      \n",
            "_________________________________________________________________\n",
            "dense_203 (Dense)            (None, 784)               803600    \n",
            "_________________________________________________________________\n",
            "reshape_29 (Reshape)         (None, 28, 28, 1)         0         \n",
            "=================================================================\n",
            "Total params: 1,493,520\n",
            "Trainable params: 1,489,936\n",
            "Non-trainable params: 3,584\n",
            "_________________________________________________________________\n"
          ],
          "name": "stdout"
        },
        {
          "output_type": "stream",
          "text": [
            "/usr/local/lib/python3.6/dist-packages/keras/engine/training.py:490: UserWarning: Discrepancy between trainable weights and collected trainable weights, did you set `model.trainable` without calling `model.compile` after ?\n",
            "  'Discrepancy between trainable weights and collected trainable'\n"
          ],
          "name": "stderr"
        },
        {
          "output_type": "stream",
          "text": [
            "0 [ D loss: 0.509729, acc.: 69%] [G loss: 0.662502]\n",
            "100 [ D loss: 0.006470, acc.: 100%] [G loss: 4.994946]\n",
            "200 [ D loss: 0.028363, acc.: 99%] [G loss: 5.909078]\n",
            "300 [ D loss: 0.018587, acc.: 100%] [G loss: 4.969736]\n",
            "400 [ D loss: 0.089123, acc.: 97%] [G loss: 4.766222]\n",
            "500 [ D loss: 1.682472, acc.: 42%] [G loss: 1.411841]\n",
            "600 [ D loss: 0.693497, acc.: 52%] [G loss: 1.125471]\n",
            "700 [ D loss: 0.602183, acc.: 51%] [G loss: 0.876046]\n",
            "800 [ D loss: 0.551100, acc.: 76%] [G loss: 0.954399]\n",
            "900 [ D loss: 0.621804, acc.: 62%] [G loss: 0.896598]\n",
            "1000 [ D loss: 0.599653, acc.: 74%] [G loss: 0.913927]\n",
            "1100 [ D loss: 0.563350, acc.: 78%] [G loss: 1.096593]\n",
            "1200 [ D loss: 0.558701, acc.: 70%] [G loss: 1.047740]\n",
            "1300 [ D loss: 0.557900, acc.: 79%] [G loss: 1.077705]\n",
            "1400 [ D loss: 0.553448, acc.: 73%] [G loss: 1.047556]\n",
            "1500 [ D loss: 0.514433, acc.: 88%] [G loss: 1.164392]\n",
            "1600 [ D loss: 0.514782, acc.: 90%] [G loss: 1.089789]\n",
            "1700 [ D loss: 0.535197, acc.: 81%] [G loss: 1.121719]\n",
            "1800 [ D loss: 0.554828, acc.: 76%] [G loss: 1.151961]\n",
            "1900 [ D loss: 0.510552, acc.: 77%] [G loss: 1.388352]\n",
            "2000 [ D loss: 0.469701, acc.: 85%] [G loss: 1.319839]\n",
            "2100 [ D loss: 0.420215, acc.: 92%] [G loss: 1.343509]\n",
            "2200 [ D loss: 0.536076, acc.: 75%] [G loss: 1.282810]\n",
            "2300 [ D loss: 0.463014, acc.: 84%] [G loss: 1.367831]\n",
            "2400 [ D loss: 0.489001, acc.: 77%] [G loss: 1.335521]\n",
            "2500 [ D loss: 0.535326, acc.: 71%] [G loss: 1.284014]\n",
            "2600 [ D loss: 0.553706, acc.: 75%] [G loss: 1.349973]\n",
            "2700 [ D loss: 0.509321, acc.: 77%] [G loss: 1.351248]\n",
            "2800 [ D loss: 0.563606, acc.: 71%] [G loss: 1.138995]\n",
            "2900 [ D loss: 0.499727, acc.: 80%] [G loss: 1.208041]\n",
            "3000 [ D loss: 0.498395, acc.: 77%] [G loss: 1.242888]\n",
            "3100 [ D loss: 0.549892, acc.: 73%] [G loss: 1.182028]\n",
            "3200 [ D loss: 0.539469, acc.: 70%] [G loss: 1.196110]\n",
            "3300 [ D loss: 0.574947, acc.: 70%] [G loss: 1.146318]\n",
            "3400 [ D loss: 0.528637, acc.: 77%] [G loss: 1.226730]\n",
            "3500 [ D loss: 0.488916, acc.: 78%] [G loss: 1.260130]\n",
            "3600 [ D loss: 0.543803, acc.: 72%] [G loss: 1.100906]\n",
            "3700 [ D loss: 0.512817, acc.: 78%] [G loss: 1.104642]\n",
            "3800 [ D loss: 0.469535, acc.: 77%] [G loss: 1.230163]\n",
            "3900 [ D loss: 0.514811, acc.: 78%] [G loss: 1.211385]\n",
            "4000 [ D loss: 0.529349, acc.: 82%] [G loss: 1.059554]\n",
            "4100 [ D loss: 0.570277, acc.: 70%] [G loss: 1.108903]\n",
            "4200 [ D loss: 0.604966, acc.: 70%] [G loss: 1.102688]\n",
            "4300 [ D loss: 0.563944, acc.: 71%] [G loss: 1.131867]\n",
            "4400 [ D loss: 0.625717, acc.: 68%] [G loss: 1.008098]\n",
            "4500 [ D loss: 0.526364, acc.: 72%] [G loss: 1.165762]\n",
            "4600 [ D loss: 0.589796, acc.: 69%] [G loss: 1.108081]\n",
            "4700 [ D loss: 0.596962, acc.: 67%] [G loss: 1.142111]\n",
            "4800 [ D loss: 0.591111, acc.: 67%] [G loss: 1.101003]\n",
            "4900 [ D loss: 0.548945, acc.: 74%] [G loss: 1.084236]\n"
          ],
          "name": "stdout"
        }
      ]
    },
    {
      "metadata": {
        "id": "is4VzRtUKrsx",
        "colab_type": "code",
        "outputId": "4f52dc20-9181-4a85-beb8-c4af710d7222",
        "colab": {
          "base_uri": "https://localhost:8080/",
          "height": 125
        }
      },
      "cell_type": "code",
      "source": [
        "# 5000 iteration\n",
        "generated_img = model3_2.generator.predict(np.random.normal(0, 1, (10, 100)))\n",
        "\n",
        "\n",
        "import matplotlib.pyplot as plt\n",
        "\n",
        "plt.figure(figsize=(20, 2))\n",
        "n =10\n",
        "for i in range(n):\n",
        "    # display original\n",
        "    ax = plt.subplot(1, n, i + 1)\n",
        "    plt.imshow(np.squeeze(generated_img[i]))\n",
        "    ax.get_xaxis().set_visible(False)\n",
        "    ax.get_yaxis().set_visible(False)"
      ],
      "execution_count": 0,
      "outputs": [
        {
          "output_type": "display_data",
          "data": {
            "image/png": "[encoded data removed]",
            "text/plain": [
              "<matplotlib.figure.Figure at 0x7f783c0a17b8>"
            ]
          },
          "metadata": {
            "tags": []
          }
        }
      ]
    },
    {
      "metadata": {
        "id": "xwHZI3gv-HUD",
        "colab_type": "code",
        "outputId": "2d3f08f5-559e-4ce4-eda1-54dfab3f081f",
        "colab": {
          "base_uri": "https://localhost:8080/",
          "height": 2587
        }
      },
      "cell_type": "code",
      "source": [
        "model4 = GAN()\n",
        "model4.train(iterations=10000)"
      ],
      "execution_count": 0,
      "outputs": [
        {
          "output_type": "stream",
          "text": [
            "_________________________________________________________________\n",
            "Layer (type)                 Output Shape              Param #   \n",
            "=================================================================\n",
            "flatten_30 (Flatten)         (None, 784)               0         \n",
            "_________________________________________________________________\n",
            "dense_204 (Dense)            (None, 512)               401920    \n",
            "_________________________________________________________________\n",
            "leaky_re_lu_146 (LeakyReLU)  (None, 512)               0         \n",
            "_________________________________________________________________\n",
            "dense_205 (Dense)            (None, 256)               131328    \n",
            "_________________________________________________________________\n",
            "leaky_re_lu_147 (LeakyReLU)  (None, 256)               0         \n",
            "_________________________________________________________________\n",
            "dense_206 (Dense)            (None, 1)                 257       \n",
            "=================================================================\n",
            "Total params: 533,505\n",
            "Trainable params: 533,505\n",
            "Non-trainable params: 0\n",
            "_________________________________________________________________\n",
            "_________________________________________________________________\n",
            "Layer (type)                 Output Shape              Param #   \n",
            "=================================================================\n",
            "dense_207 (Dense)            (None, 256)               25856     \n",
            "_________________________________________________________________\n",
            "leaky_re_lu_148 (LeakyReLU)  (None, 256)               0         \n",
            "_________________________________________________________________\n",
            "batch_normalization_88 (Batc (None, 256)               1024      \n",
            "_________________________________________________________________\n",
            "dense_208 (Dense)            (None, 512)               131584    \n",
            "_________________________________________________________________\n",
            "leaky_re_lu_149 (LeakyReLU)  (None, 512)               0         \n",
            "_________________________________________________________________\n",
            "batch_normalization_89 (Batc (None, 512)               2048      \n",
            "_________________________________________________________________\n",
            "dense_209 (Dense)            (None, 1024)              525312    \n",
            "_________________________________________________________________\n",
            "leaky_re_lu_150 (LeakyReLU)  (None, 1024)              0         \n",
            "_________________________________________________________________\n",
            "batch_normalization_90 (Batc (None, 1024)              4096      \n",
            "_________________________________________________________________\n",
            "dense_210 (Dense)            (None, 784)               803600    \n",
            "_________________________________________________________________\n",
            "reshape_30 (Reshape)         (None, 28, 28, 1)         0         \n",
            "=================================================================\n",
            "Total params: 1,493,520\n",
            "Trainable params: 1,489,936\n",
            "Non-trainable params: 3,584\n",
            "_________________________________________________________________\n"
          ],
          "name": "stdout"
        },
        {
          "output_type": "stream",
          "text": [
            "/usr/local/lib/python3.6/dist-packages/keras/engine/training.py:490: UserWarning: Discrepancy between trainable weights and collected trainable weights, did you set `model.trainable` without calling `model.compile` after ?\n",
            "  'Discrepancy between trainable weights and collected trainable'\n"
          ],
          "name": "stderr"
        },
        {
          "output_type": "stream",
          "text": [
            "0 [ D loss: 0.688018, acc.: 40%] [G loss: 0.456502]\n",
            "100 [ D loss: 0.129828, acc.: 98%] [G loss: 2.768251]\n",
            "200 [ D loss: 0.595513, acc.: 66%] [G loss: 1.456319]\n",
            "300 [ D loss: 0.659692, acc.: 45%] [G loss: 0.659998]\n",
            "400 [ D loss: 0.660461, acc.: 48%] [G loss: 0.671194]\n",
            "500 [ D loss: 0.607176, acc.: 65%] [G loss: 0.739329]\n",
            "600 [ D loss: 0.640049, acc.: 73%] [G loss: 0.803869]\n",
            "700 [ D loss: 0.627784, acc.: 64%] [G loss: 0.861111]\n",
            "800 [ D loss: 0.588965, acc.: 73%] [G loss: 0.913851]\n",
            "900 [ D loss: 0.595060, acc.: 77%] [G loss: 0.895734]\n",
            "1000 [ D loss: 0.602739, acc.: 62%] [G loss: 1.008671]\n",
            "1100 [ D loss: 0.579397, acc.: 77%] [G loss: 0.922507]\n",
            "1200 [ D loss: 0.533428, acc.: 80%] [G loss: 1.107588]\n",
            "1300 [ D loss: 0.528851, acc.: 77%] [G loss: 1.212529]\n",
            "1400 [ D loss: 0.528401, acc.: 80%] [G loss: 1.187187]\n",
            "1500 [ D loss: 0.533363, acc.: 79%] [G loss: 1.173144]\n",
            "1600 [ D loss: 0.619466, acc.: 66%] [G loss: 1.056687]\n",
            "1700 [ D loss: 0.614252, acc.: 69%] [G loss: 1.110266]\n",
            "1800 [ D loss: 0.582819, acc.: 71%] [G loss: 1.066763]\n",
            "1900 [ D loss: 0.622370, acc.: 67%] [G loss: 1.066813]\n",
            "2000 [ D loss: 0.579317, acc.: 70%] [G loss: 0.988403]\n",
            "2100 [ D loss: 0.526624, acc.: 79%] [G loss: 1.116499]\n",
            "2200 [ D loss: 0.557535, acc.: 67%] [G loss: 1.186307]\n",
            "2300 [ D loss: 0.449166, acc.: 84%] [G loss: 1.121596]\n",
            "2400 [ D loss: 0.569422, acc.: 66%] [G loss: 1.196450]\n",
            "2500 [ D loss: 0.580458, acc.: 73%] [G loss: 1.092702]\n",
            "2600 [ D loss: 0.607406, acc.: 62%] [G loss: 1.145476]\n",
            "2700 [ D loss: 0.586757, acc.: 69%] [G loss: 1.120527]\n",
            "2800 [ D loss: 0.565824, acc.: 72%] [G loss: 1.083626]\n",
            "2900 [ D loss: 0.587492, acc.: 66%] [G loss: 1.096488]\n",
            "3000 [ D loss: 0.569032, acc.: 70%] [G loss: 1.105832]\n",
            "3100 [ D loss: 0.570608, acc.: 71%] [G loss: 0.971591]\n",
            "3200 [ D loss: 0.527520, acc.: 74%] [G loss: 1.113214]\n",
            "3300 [ D loss: 0.552656, acc.: 74%] [G loss: 0.996782]\n",
            "3400 [ D loss: 0.615463, acc.: 66%] [G loss: 1.006306]\n",
            "3500 [ D loss: 0.557823, acc.: 73%] [G loss: 1.044289]\n",
            "3600 [ D loss: 0.612626, acc.: 66%] [G loss: 1.031191]\n",
            "3700 [ D loss: 0.620879, acc.: 63%] [G loss: 1.066332]\n",
            "3800 [ D loss: 0.622708, acc.: 66%] [G loss: 1.018853]\n",
            "3900 [ D loss: 0.608186, acc.: 71%] [G loss: 0.999738]\n",
            "4000 [ D loss: 0.630874, acc.: 62%] [G loss: 0.944178]\n",
            "4100 [ D loss: 0.664064, acc.: 62%] [G loss: 0.917238]\n",
            "4200 [ D loss: 0.604709, acc.: 70%] [G loss: 0.920783]\n",
            "4300 [ D loss: 0.670500, acc.: 59%] [G loss: 0.963714]\n",
            "4400 [ D loss: 0.628663, acc.: 59%] [G loss: 0.937626]\n",
            "4500 [ D loss: 0.612224, acc.: 66%] [G loss: 0.951584]\n",
            "4600 [ D loss: 0.611545, acc.: 67%] [G loss: 0.919889]\n",
            "4700 [ D loss: 0.667211, acc.: 63%] [G loss: 0.864384]\n",
            "4800 [ D loss: 0.664023, acc.: 62%] [G loss: 0.895348]\n",
            "4900 [ D loss: 0.664521, acc.: 59%] [G loss: 0.940384]\n",
            "5000 [ D loss: 0.636981, acc.: 62%] [G loss: 0.889776]\n",
            "5100 [ D loss: 0.616623, acc.: 66%] [G loss: 0.896060]\n",
            "5200 [ D loss: 0.606040, acc.: 66%] [G loss: 0.923105]\n",
            "5300 [ D loss: 0.631697, acc.: 60%] [G loss: 0.932220]\n",
            "5400 [ D loss: 0.654393, acc.: 64%] [G loss: 0.924128]\n",
            "5500 [ D loss: 0.640069, acc.: 65%] [G loss: 0.890724]\n",
            "5600 [ D loss: 0.648407, acc.: 62%] [G loss: 0.904482]\n",
            "5700 [ D loss: 0.631630, acc.: 69%] [G loss: 0.912433]\n",
            "5800 [ D loss: 0.610597, acc.: 66%] [G loss: 0.928049]\n",
            "5900 [ D loss: 0.662614, acc.: 64%] [G loss: 0.945255]\n",
            "6000 [ D loss: 0.683953, acc.: 59%] [G loss: 0.898638]\n",
            "6100 [ D loss: 0.612941, acc.: 66%] [G loss: 0.910048]\n",
            "6200 [ D loss: 0.663516, acc.: 62%] [G loss: 0.851268]\n",
            "6300 [ D loss: 0.682854, acc.: 55%] [G loss: 0.889718]\n",
            "6400 [ D loss: 0.657443, acc.: 57%] [G loss: 0.924307]\n",
            "6500 [ D loss: 0.647959, acc.: 65%] [G loss: 0.908794]\n",
            "6600 [ D loss: 0.627514, acc.: 65%] [G loss: 0.871229]\n",
            "6700 [ D loss: 0.611209, acc.: 68%] [G loss: 0.961443]\n",
            "6800 [ D loss: 0.618079, acc.: 66%] [G loss: 0.862923]\n",
            "6900 [ D loss: 0.662901, acc.: 56%] [G loss: 0.879594]\n",
            "7000 [ D loss: 0.629607, acc.: 68%] [G loss: 0.857303]\n",
            "7100 [ D loss: 0.669283, acc.: 60%] [G loss: 0.895601]\n",
            "7200 [ D loss: 0.612665, acc.: 66%] [G loss: 0.906573]\n",
            "7300 [ D loss: 0.696273, acc.: 52%] [G loss: 0.879857]\n",
            "7400 [ D loss: 0.612929, acc.: 69%] [G loss: 0.855305]\n",
            "7500 [ D loss: 0.652190, acc.: 62%] [G loss: 0.892978]\n",
            "7600 [ D loss: 0.616294, acc.: 66%] [G loss: 0.936969]\n",
            "7700 [ D loss: 0.636220, acc.: 63%] [G loss: 0.898659]\n",
            "7800 [ D loss: 0.644128, acc.: 62%] [G loss: 0.861888]\n",
            "7900 [ D loss: 0.643019, acc.: 63%] [G loss: 0.868631]\n",
            "8000 [ D loss: 0.680168, acc.: 56%] [G loss: 0.869744]\n",
            "8100 [ D loss: 0.640079, acc.: 65%] [G loss: 0.908135]\n",
            "8200 [ D loss: 0.594882, acc.: 68%] [G loss: 0.916277]\n",
            "8300 [ D loss: 0.646243, acc.: 62%] [G loss: 0.909218]\n",
            "8400 [ D loss: 0.646182, acc.: 62%] [G loss: 0.897637]\n",
            "8500 [ D loss: 0.661566, acc.: 60%] [G loss: 0.894181]\n",
            "8600 [ D loss: 0.643655, acc.: 59%] [G loss: 0.874455]\n",
            "8700 [ D loss: 0.624600, acc.: 72%] [G loss: 0.854775]\n",
            "8800 [ D loss: 0.694970, acc.: 55%] [G loss: 0.944655]\n",
            "8900 [ D loss: 0.676344, acc.: 58%] [G loss: 0.883624]\n",
            "9000 [ D loss: 0.713089, acc.: 55%] [G loss: 0.925473]\n",
            "9100 [ D loss: 0.655300, acc.: 59%] [G loss: 0.886410]\n",
            "9200 [ D loss: 0.721659, acc.: 51%] [G loss: 0.850032]\n",
            "9300 [ D loss: 0.642556, acc.: 61%] [G loss: 0.884299]\n",
            "9400 [ D loss: 0.629283, acc.: 66%] [G loss: 0.898908]\n",
            "9500 [ D loss: 0.630451, acc.: 62%] [G loss: 0.856734]\n",
            "9600 [ D loss: 0.620851, acc.: 64%] [G loss: 0.902905]\n",
            "9700 [ D loss: 0.636480, acc.: 61%] [G loss: 0.895342]\n",
            "9800 [ D loss: 0.683459, acc.: 59%] [G loss: 0.856728]\n",
            "9900 [ D loss: 0.644901, acc.: 59%] [G loss: 0.902884]\n"
          ],
          "name": "stdout"
        }
      ]
    },
    {
      "metadata": {
        "id": "baYaEugl-J72",
        "colab_type": "code",
        "outputId": "0d114932-340d-4efb-b544-8fc93f3a5c4f",
        "colab": {
          "base_uri": "https://localhost:8080/",
          "height": 125
        }
      },
      "cell_type": "code",
      "source": [
        "# 10000 iteration\n",
        "generated_img = model4.generator.predict(np.random.normal(0, 1, (10, 100)))\n",
        "\n",
        "\n",
        "import matplotlib.pyplot as plt\n",
        "\n",
        "plt.figure(figsize=(20, 2))\n",
        "n =10\n",
        "for i in range(n):\n",
        "    # display original\n",
        "    ax = plt.subplot(1, n, i + 1)\n",
        "    plt.imshow(np.squeeze(generated_img[i]))\n",
        "    ax.get_xaxis().set_visible(False)\n",
        "    ax.get_yaxis().set_visible(False)"
      ],
      "execution_count": 0,
      "outputs": [
        {
          "output_type": "display_data",
          "data": {
            "image/png": "[encoded data removed]",
            "text/plain": [
              "<matplotlib.figure.Figure at 0x7f783a784048>"
            ]
          },
          "metadata": {
            "tags": []
          }
        }
      ]
    },
    {
      "metadata": {
        "id": "jMTsO59l-MI4",
        "colab_type": "code",
        "outputId": "983270c0-76ac-4733-c9a9-ef792ede874b",
        "colab": {
          "base_uri": "https://localhost:8080/",
          "height": 3437
        }
      },
      "cell_type": "code",
      "source": [
        "model5 = GAN()\n",
        "model5.train(iterations=15000)"
      ],
      "execution_count": 0,
      "outputs": [
        {
          "output_type": "stream",
          "text": [
            "_________________________________________________________________\n",
            "Layer (type)                 Output Shape              Param #   \n",
            "=================================================================\n",
            "flatten_31 (Flatten)         (None, 784)               0         \n",
            "_________________________________________________________________\n",
            "dense_211 (Dense)            (None, 512)               401920    \n",
            "_________________________________________________________________\n",
            "leaky_re_lu_151 (LeakyReLU)  (None, 512)               0         \n",
            "_________________________________________________________________\n",
            "dense_212 (Dense)            (None, 256)               131328    \n",
            "_________________________________________________________________\n",
            "leaky_re_lu_152 (LeakyReLU)  (None, 256)               0         \n",
            "_________________________________________________________________\n",
            "dense_213 (Dense)            (None, 1)                 257       \n",
            "=================================================================\n",
            "Total params: 533,505\n",
            "Trainable params: 533,505\n",
            "Non-trainable params: 0\n",
            "_________________________________________________________________\n",
            "_________________________________________________________________\n",
            "Layer (type)                 Output Shape              Param #   \n",
            "=================================================================\n",
            "dense_214 (Dense)            (None, 256)               25856     \n",
            "_________________________________________________________________\n",
            "leaky_re_lu_153 (LeakyReLU)  (None, 256)               0         \n",
            "_________________________________________________________________\n",
            "batch_normalization_91 (Batc (None, 256)               1024      \n",
            "_________________________________________________________________\n",
            "dense_215 (Dense)            (None, 512)               131584    \n",
            "_________________________________________________________________\n",
            "leaky_re_lu_154 (LeakyReLU)  (None, 512)               0         \n",
            "_________________________________________________________________\n",
            "batch_normalization_92 (Batc (None, 512)               2048      \n",
            "_________________________________________________________________\n",
            "dense_216 (Dense)            (None, 1024)              525312    \n",
            "_________________________________________________________________\n",
            "leaky_re_lu_155 (LeakyReLU)  (None, 1024)              0         \n",
            "_________________________________________________________________\n",
            "batch_normalization_93 (Batc (None, 1024)              4096      \n",
            "_________________________________________________________________\n",
            "dense_217 (Dense)            (None, 784)               803600    \n",
            "_________________________________________________________________\n",
            "reshape_31 (Reshape)         (None, 28, 28, 1)         0         \n",
            "=================================================================\n",
            "Total params: 1,493,520\n",
            "Trainable params: 1,489,936\n",
            "Non-trainable params: 3,584\n",
            "_________________________________________________________________\n"
          ],
          "name": "stdout"
        },
        {
          "output_type": "stream",
          "text": [
            "/usr/local/lib/python3.6/dist-packages/keras/engine/training.py:490: UserWarning: Discrepancy between trainable weights and collected trainable weights, did you set `model.trainable` without calling `model.compile` after ?\n",
            "  'Discrepancy between trainable weights and collected trainable'\n"
          ],
          "name": "stderr"
        },
        {
          "output_type": "stream",
          "text": [
            "0 [ D loss: 0.510307, acc.: 52%] [G loss: 0.466528]\n",
            "100 [ D loss: 0.101246, acc.: 96%] [G loss: 3.595296]\n",
            "200 [ D loss: 0.745141, acc.: 55%] [G loss: 1.294195]\n",
            "300 [ D loss: 0.700539, acc.: 45%] [G loss: 0.654180]\n",
            "400 [ D loss: 0.660469, acc.: 49%] [G loss: 0.679797]\n",
            "500 [ D loss: 0.629486, acc.: 57%] [G loss: 0.762093]\n",
            "600 [ D loss: 0.626537, acc.: 72%] [G loss: 0.781556]\n",
            "700 [ D loss: 0.631903, acc.: 59%] [G loss: 0.758344]\n",
            "800 [ D loss: 0.629639, acc.: 73%] [G loss: 0.835311]\n",
            "900 [ D loss: 0.584199, acc.: 72%] [G loss: 0.871023]\n",
            "1000 [ D loss: 0.577381, acc.: 70%] [G loss: 0.966257]\n",
            "1100 [ D loss: 0.592700, acc.: 68%] [G loss: 0.956439]\n",
            "1200 [ D loss: 0.596321, acc.: 70%] [G loss: 0.971515]\n",
            "1300 [ D loss: 0.614238, acc.: 69%] [G loss: 1.008450]\n",
            "1400 [ D loss: 0.599371, acc.: 72%] [G loss: 0.944655]\n",
            "1500 [ D loss: 0.586460, acc.: 68%] [G loss: 0.931168]\n",
            "1600 [ D loss: 0.630707, acc.: 64%] [G loss: 0.925670]\n",
            "1700 [ D loss: 0.596562, acc.: 69%] [G loss: 0.943522]\n",
            "1800 [ D loss: 0.583604, acc.: 80%] [G loss: 0.974928]\n",
            "1900 [ D loss: 0.627784, acc.: 70%] [G loss: 0.934991]\n",
            "2000 [ D loss: 0.621433, acc.: 67%] [G loss: 0.902763]\n",
            "2100 [ D loss: 0.617632, acc.: 72%] [G loss: 0.889516]\n",
            "2200 [ D loss: 0.632459, acc.: 63%] [G loss: 0.861326]\n",
            "2300 [ D loss: 0.656013, acc.: 62%] [G loss: 0.841664]\n",
            "2400 [ D loss: 0.670999, acc.: 59%] [G loss: 0.882747]\n",
            "2500 [ D loss: 0.623092, acc.: 64%] [G loss: 0.857736]\n",
            "2600 [ D loss: 0.652502, acc.: 61%] [G loss: 0.888234]\n",
            "2700 [ D loss: 0.622101, acc.: 70%] [G loss: 0.824730]\n",
            "2800 [ D loss: 0.621354, acc.: 65%] [G loss: 0.885799]\n",
            "2900 [ D loss: 0.583481, acc.: 72%] [G loss: 0.881585]\n",
            "3000 [ D loss: 0.665056, acc.: 62%] [G loss: 0.902275]\n",
            "3100 [ D loss: 0.646255, acc.: 59%] [G loss: 0.864793]\n",
            "3200 [ D loss: 0.660007, acc.: 55%] [G loss: 0.856375]\n",
            "3300 [ D loss: 0.654945, acc.: 57%] [G loss: 0.858414]\n",
            "3400 [ D loss: 0.667932, acc.: 58%] [G loss: 0.861835]\n",
            "3500 [ D loss: 0.648407, acc.: 66%] [G loss: 0.829174]\n",
            "3600 [ D loss: 0.643537, acc.: 65%] [G loss: 0.850536]\n",
            "3700 [ D loss: 0.653898, acc.: 65%] [G loss: 0.850107]\n",
            "3800 [ D loss: 0.683448, acc.: 55%] [G loss: 0.853977]\n",
            "3900 [ D loss: 0.655384, acc.: 62%] [G loss: 0.838523]\n",
            "4000 [ D loss: 0.696108, acc.: 59%] [G loss: 0.808940]\n",
            "4100 [ D loss: 0.691458, acc.: 57%] [G loss: 0.827338]\n",
            "4200 [ D loss: 0.711876, acc.: 47%] [G loss: 0.802721]\n",
            "4300 [ D loss: 0.676831, acc.: 57%] [G loss: 0.807189]\n",
            "4400 [ D loss: 0.631573, acc.: 71%] [G loss: 0.795910]\n",
            "4500 [ D loss: 0.677573, acc.: 60%] [G loss: 0.809563]\n",
            "4600 [ D loss: 0.681233, acc.: 52%] [G loss: 0.800382]\n",
            "4700 [ D loss: 0.682725, acc.: 59%] [G loss: 0.858481]\n",
            "4800 [ D loss: 0.681048, acc.: 59%] [G loss: 0.821333]\n",
            "4900 [ D loss: 0.672011, acc.: 60%] [G loss: 0.752714]\n",
            "5000 [ D loss: 0.681496, acc.: 58%] [G loss: 0.790861]\n",
            "5100 [ D loss: 0.693646, acc.: 58%] [G loss: 0.804662]\n",
            "5200 [ D loss: 0.672598, acc.: 57%] [G loss: 0.785701]\n",
            "5300 [ D loss: 0.686928, acc.: 57%] [G loss: 0.819838]\n",
            "5400 [ D loss: 0.701542, acc.: 53%] [G loss: 0.824654]\n",
            "5500 [ D loss: 0.683229, acc.: 55%] [G loss: 0.813023]\n",
            "5600 [ D loss: 0.628808, acc.: 67%] [G loss: 0.794798]\n",
            "5700 [ D loss: 0.688779, acc.: 55%] [G loss: 0.836499]\n",
            "5800 [ D loss: 0.705272, acc.: 51%] [G loss: 0.833766]\n",
            "5900 [ D loss: 0.695139, acc.: 53%] [G loss: 0.818151]\n",
            "6000 [ D loss: 0.662646, acc.: 60%] [G loss: 0.833741]\n",
            "6100 [ D loss: 0.702449, acc.: 48%] [G loss: 0.778029]\n",
            "6200 [ D loss: 0.668819, acc.: 60%] [G loss: 0.775315]\n",
            "6300 [ D loss: 0.697357, acc.: 49%] [G loss: 0.785126]\n",
            "6400 [ D loss: 0.693417, acc.: 59%] [G loss: 0.805184]\n",
            "6500 [ D loss: 0.686976, acc.: 55%] [G loss: 0.809492]\n",
            "6600 [ D loss: 0.680929, acc.: 58%] [G loss: 0.808833]\n",
            "6700 [ D loss: 0.681649, acc.: 58%] [G loss: 0.791668]\n",
            "6800 [ D loss: 0.682114, acc.: 59%] [G loss: 0.805941]\n",
            "6900 [ D loss: 0.689564, acc.: 52%] [G loss: 0.794788]\n",
            "7000 [ D loss: 0.688533, acc.: 55%] [G loss: 0.830223]\n",
            "7100 [ D loss: 0.683029, acc.: 54%] [G loss: 0.801832]\n",
            "7200 [ D loss: 0.691420, acc.: 59%] [G loss: 0.824615]\n",
            "7300 [ D loss: 0.684153, acc.: 59%] [G loss: 0.787528]\n",
            "7400 [ D loss: 0.649353, acc.: 65%] [G loss: 0.800331]\n",
            "7500 [ D loss: 0.675154, acc.: 59%] [G loss: 0.841613]\n",
            "7600 [ D loss: 0.693041, acc.: 57%] [G loss: 0.768333]\n",
            "7700 [ D loss: 0.701848, acc.: 53%] [G loss: 0.804260]\n",
            "7800 [ D loss: 0.660051, acc.: 59%] [G loss: 0.793712]\n",
            "7900 [ D loss: 0.703832, acc.: 57%] [G loss: 0.783555]\n",
            "8000 [ D loss: 0.672155, acc.: 59%] [G loss: 0.813944]\n",
            "8100 [ D loss: 0.679589, acc.: 56%] [G loss: 0.814589]\n",
            "8200 [ D loss: 0.679316, acc.: 55%] [G loss: 0.808561]\n",
            "8300 [ D loss: 0.670649, acc.: 61%] [G loss: 0.809309]\n",
            "8400 [ D loss: 0.703547, acc.: 48%] [G loss: 0.816295]\n",
            "8500 [ D loss: 0.683998, acc.: 56%] [G loss: 0.848482]\n",
            "8600 [ D loss: 0.689579, acc.: 55%] [G loss: 0.804337]\n",
            "8700 [ D loss: 0.704689, acc.: 52%] [G loss: 0.790744]\n",
            "8800 [ D loss: 0.711094, acc.: 52%] [G loss: 0.821066]\n",
            "8900 [ D loss: 0.695239, acc.: 52%] [G loss: 0.802920]\n",
            "9000 [ D loss: 0.691072, acc.: 51%] [G loss: 0.811641]\n",
            "9100 [ D loss: 0.679384, acc.: 59%] [G loss: 0.808197]\n",
            "9200 [ D loss: 0.679697, acc.: 55%] [G loss: 0.805520]\n",
            "9300 [ D loss: 0.687828, acc.: 52%] [G loss: 0.821945]\n",
            "9400 [ D loss: 0.679721, acc.: 57%] [G loss: 0.822123]\n",
            "9500 [ D loss: 0.681414, acc.: 51%] [G loss: 0.819897]\n",
            "9600 [ D loss: 0.657129, acc.: 62%] [G loss: 0.793556]\n",
            "9700 [ D loss: 0.704785, acc.: 48%] [G loss: 0.789036]\n",
            "9800 [ D loss: 0.662174, acc.: 59%] [G loss: 0.787702]\n",
            "9900 [ D loss: 0.690569, acc.: 52%] [G loss: 0.804206]\n",
            "10000 [ D loss: 0.685496, acc.: 56%] [G loss: 0.800269]\n",
            "10100 [ D loss: 0.681908, acc.: 58%] [G loss: 0.819296]\n",
            "10200 [ D loss: 0.708237, acc.: 52%] [G loss: 0.797696]\n",
            "10300 [ D loss: 0.727643, acc.: 48%] [G loss: 0.824178]\n",
            "10400 [ D loss: 0.725309, acc.: 56%] [G loss: 0.794423]\n",
            "10500 [ D loss: 0.674638, acc.: 57%] [G loss: 0.832848]\n",
            "10600 [ D loss: 0.729504, acc.: 49%] [G loss: 0.826512]\n",
            "10700 [ D loss: 0.671078, acc.: 57%] [G loss: 0.784041]\n",
            "10800 [ D loss: 0.662694, acc.: 53%] [G loss: 0.789886]\n",
            "10900 [ D loss: 0.696222, acc.: 56%] [G loss: 0.802619]\n",
            "11000 [ D loss: 0.680571, acc.: 58%] [G loss: 0.781993]\n",
            "11100 [ D loss: 0.700730, acc.: 55%] [G loss: 0.788276]\n",
            "11200 [ D loss: 0.679663, acc.: 59%] [G loss: 0.787608]\n",
            "11300 [ D loss: 0.667137, acc.: 61%] [G loss: 0.821280]\n",
            "11400 [ D loss: 0.687707, acc.: 57%] [G loss: 0.791307]\n",
            "11500 [ D loss: 0.690448, acc.: 55%] [G loss: 0.807582]\n",
            "11600 [ D loss: 0.668282, acc.: 58%] [G loss: 0.823321]\n",
            "11700 [ D loss: 0.698582, acc.: 55%] [G loss: 0.803670]\n",
            "11800 [ D loss: 0.693715, acc.: 56%] [G loss: 0.844686]\n",
            "11900 [ D loss: 0.701745, acc.: 59%] [G loss: 0.813818]\n",
            "12000 [ D loss: 0.707640, acc.: 51%] [G loss: 0.803074]\n",
            "12100 [ D loss: 0.677561, acc.: 57%] [G loss: 0.831942]\n",
            "12200 [ D loss: 0.684700, acc.: 53%] [G loss: 0.789271]\n",
            "12300 [ D loss: 0.712494, acc.: 51%] [G loss: 0.805368]\n",
            "12400 [ D loss: 0.693273, acc.: 52%] [G loss: 0.800806]\n",
            "12500 [ D loss: 0.696457, acc.: 55%] [G loss: 0.786538]\n",
            "12600 [ D loss: 0.684262, acc.: 61%] [G loss: 0.811009]\n",
            "12700 [ D loss: 0.702243, acc.: 50%] [G loss: 0.801460]\n",
            "12800 [ D loss: 0.671114, acc.: 53%] [G loss: 0.812281]\n",
            "12900 [ D loss: 0.661459, acc.: 59%] [G loss: 0.821613]\n",
            "13000 [ D loss: 0.676351, acc.: 57%] [G loss: 0.807886]\n",
            "13100 [ D loss: 0.699521, acc.: 57%] [G loss: 0.811968]\n",
            "13200 [ D loss: 0.687033, acc.: 53%] [G loss: 0.819207]\n",
            "13300 [ D loss: 0.657044, acc.: 62%] [G loss: 0.778592]\n",
            "13400 [ D loss: 0.689934, acc.: 57%] [G loss: 0.792257]\n",
            "13500 [ D loss: 0.702257, acc.: 45%] [G loss: 0.805084]\n",
            "13600 [ D loss: 0.679841, acc.: 55%] [G loss: 0.787683]\n",
            "13700 [ D loss: 0.676937, acc.: 56%] [G loss: 0.810453]\n",
            "13800 [ D loss: 0.702994, acc.: 49%] [G loss: 0.778931]\n",
            "13900 [ D loss: 0.669778, acc.: 59%] [G loss: 0.824159]\n",
            "14000 [ D loss: 0.671586, acc.: 59%] [G loss: 0.791739]\n",
            "14100 [ D loss: 0.702147, acc.: 48%] [G loss: 0.799510]\n",
            "14200 [ D loss: 0.687120, acc.: 55%] [G loss: 0.818153]\n",
            "14300 [ D loss: 0.683594, acc.: 55%] [G loss: 0.802965]\n",
            "14400 [ D loss: 0.669990, acc.: 59%] [G loss: 0.774558]\n",
            "14500 [ D loss: 0.707711, acc.: 53%] [G loss: 0.800464]\n",
            "14600 [ D loss: 0.669398, acc.: 61%] [G loss: 0.800337]\n",
            "14700 [ D loss: 0.686513, acc.: 48%] [G loss: 0.790181]\n",
            "14800 [ D loss: 0.685735, acc.: 52%] [G loss: 0.776127]\n",
            "14900 [ D loss: 0.704439, acc.: 50%] [G loss: 0.812108]\n"
          ],
          "name": "stdout"
        }
      ]
    },
    {
      "metadata": {
        "id": "Bgbo8tXb-NQP",
        "colab_type": "code",
        "outputId": "bfdb84b4-cae8-4829-ae2f-224773c8c6c1",
        "colab": {
          "base_uri": "https://localhost:8080/",
          "height": 125
        }
      },
      "cell_type": "code",
      "source": [
        "# 15000 iteration\n",
        "generated_img = model5.generator.predict(np.random.normal(0, 1, (10, 100)))\n",
        "\n",
        "\n",
        "import matplotlib.pyplot as plt\n",
        "\n",
        "plt.figure(figsize=(20, 2))\n",
        "n =10\n",
        "for i in range(n):\n",
        "    # display original\n",
        "    ax = plt.subplot(1, n, i + 1)\n",
        "    plt.imshow(np.squeeze(generated_img[i]))\n",
        "    ax.get_xaxis().set_visible(False)\n",
        "    ax.get_yaxis().set_visible(False)"
      ],
      "execution_count": 0,
      "outputs": [
        {
          "output_type": "display_data",
          "data": {
            "image/png": "[encoded data removed]",
            "text/plain": [
              "<matplotlib.figure.Figure at 0x7f7838ef70b8>"
            ]
          },
          "metadata": {
            "tags": []
          }
        }
      ]
    },
    {
      "metadata": {
        "id": "ZRY7ibCt-OP_",
        "colab_type": "code",
        "outputId": "6852da17-0f1e-4217-a5ae-6759f4f27c3d",
        "colab": {
          "base_uri": "https://localhost:8080/",
          "height": 4287
        }
      },
      "cell_type": "code",
      "source": [
        "model6 = GAN()\n",
        "model6.train(iterations=20000)"
      ],
      "execution_count": 70,
      "outputs": [
        {
          "output_type": "stream",
          "text": [
            "_________________________________________________________________\n",
            "Layer (type)                 Output Shape              Param #   \n",
            "=================================================================\n",
            "flatten_32 (Flatten)         (None, 784)               0         \n",
            "_________________________________________________________________\n",
            "dense_218 (Dense)            (None, 512)               401920    \n",
            "_________________________________________________________________\n",
            "leaky_re_lu_156 (LeakyReLU)  (None, 512)               0         \n",
            "_________________________________________________________________\n",
            "dense_219 (Dense)            (None, 256)               131328    \n",
            "_________________________________________________________________\n",
            "leaky_re_lu_157 (LeakyReLU)  (None, 256)               0         \n",
            "_________________________________________________________________\n",
            "dense_220 (Dense)            (None, 1)                 257       \n",
            "=================================================================\n",
            "Total params: 533,505\n",
            "Trainable params: 533,505\n",
            "Non-trainable params: 0\n",
            "_________________________________________________________________\n",
            "_________________________________________________________________\n",
            "Layer (type)                 Output Shape              Param #   \n",
            "=================================================================\n",
            "dense_221 (Dense)            (None, 256)               25856     \n",
            "_________________________________________________________________\n",
            "leaky_re_lu_158 (LeakyReLU)  (None, 256)               0         \n",
            "_________________________________________________________________\n",
            "batch_normalization_94 (Batc (None, 256)               1024      \n",
            "_________________________________________________________________\n",
            "dense_222 (Dense)            (None, 512)               131584    \n",
            "_________________________________________________________________\n",
            "leaky_re_lu_159 (LeakyReLU)  (None, 512)               0         \n",
            "_________________________________________________________________\n",
            "batch_normalization_95 (Batc (None, 512)               2048      \n",
            "_________________________________________________________________\n",
            "dense_223 (Dense)            (None, 1024)              525312    \n",
            "_________________________________________________________________\n",
            "leaky_re_lu_160 (LeakyReLU)  (None, 1024)              0         \n",
            "_________________________________________________________________\n",
            "batch_normalization_96 (Batc (None, 1024)              4096      \n",
            "_________________________________________________________________\n",
            "dense_224 (Dense)            (None, 784)               803600    \n",
            "_________________________________________________________________\n",
            "reshape_32 (Reshape)         (None, 28, 28, 1)         0         \n",
            "=================================================================\n",
            "Total params: 1,493,520\n",
            "Trainable params: 1,489,936\n",
            "Non-trainable params: 3,584\n",
            "_________________________________________________________________\n"
          ],
          "name": "stdout"
        },
        {
          "output_type": "stream",
          "text": [
            "/usr/local/lib/python3.6/dist-packages/keras/engine/training.py:490: UserWarning: Discrepancy between trainable weights and collected trainable weights, did you set `model.trainable` without calling `model.compile` after ?\n",
            "  'Discrepancy between trainable weights and collected trainable'\n"
          ],
          "name": "stderr"
        },
        {
          "output_type": "stream",
          "text": [
            "0 [ D loss: 0.859098, acc.: 23%] [G loss: 0.810461]\n",
            "100 [ D loss: 0.184406, acc.: 92%] [G loss: 2.653923]\n",
            "200 [ D loss: 0.376683, acc.: 80%] [G loss: 2.666037]\n",
            "300 [ D loss: 0.692843, acc.: 51%] [G loss: 0.817884]\n",
            "400 [ D loss: 0.659273, acc.: 54%] [G loss: 0.709060]\n",
            "500 [ D loss: 0.647953, acc.: 62%] [G loss: 0.719957]\n",
            "600 [ D loss: 0.620709, acc.: 73%] [G loss: 0.784511]\n",
            "700 [ D loss: 0.590882, acc.: 70%] [G loss: 0.852482]\n",
            "800 [ D loss: 0.627284, acc.: 64%] [G loss: 1.039543]\n",
            "900 [ D loss: 0.619023, acc.: 66%] [G loss: 0.898487]\n",
            "1000 [ D loss: 0.593895, acc.: 68%] [G loss: 0.974674]\n",
            "1100 [ D loss: 0.552919, acc.: 79%] [G loss: 0.989799]\n",
            "1200 [ D loss: 0.601187, acc.: 66%] [G loss: 0.940993]\n",
            "1300 [ D loss: 0.656268, acc.: 55%] [G loss: 0.908544]\n",
            "1400 [ D loss: 0.592711, acc.: 67%] [G loss: 0.979043]\n",
            "1500 [ D loss: 0.586646, acc.: 67%] [G loss: 1.017310]\n",
            "1600 [ D loss: 0.575933, acc.: 73%] [G loss: 0.978625]\n",
            "1700 [ D loss: 0.623671, acc.: 69%] [G loss: 0.940105]\n",
            "1800 [ D loss: 0.581209, acc.: 73%] [G loss: 1.048805]\n",
            "1900 [ D loss: 0.555669, acc.: 76%] [G loss: 1.048655]\n",
            "2000 [ D loss: 0.584613, acc.: 68%] [G loss: 0.951165]\n",
            "2100 [ D loss: 0.582880, acc.: 73%] [G loss: 0.932718]\n",
            "2200 [ D loss: 0.622505, acc.: 66%] [G loss: 0.939019]\n",
            "2300 [ D loss: 0.600738, acc.: 70%] [G loss: 0.975614]\n",
            "2400 [ D loss: 0.559926, acc.: 70%] [G loss: 0.904935]\n",
            "2500 [ D loss: 0.610661, acc.: 67%] [G loss: 0.910048]\n",
            "2600 [ D loss: 0.660026, acc.: 53%] [G loss: 0.888229]\n",
            "2700 [ D loss: 0.656158, acc.: 58%] [G loss: 0.819993]\n",
            "2800 [ D loss: 0.650981, acc.: 62%] [G loss: 0.874082]\n",
            "2900 [ D loss: 0.654114, acc.: 58%] [G loss: 0.844836]\n",
            "3000 [ D loss: 0.617864, acc.: 66%] [G loss: 0.877142]\n",
            "3100 [ D loss: 0.623657, acc.: 73%] [G loss: 0.887472]\n",
            "3200 [ D loss: 0.675242, acc.: 59%] [G loss: 0.897671]\n",
            "3300 [ D loss: 0.679711, acc.: 59%] [G loss: 0.892294]\n",
            "3400 [ D loss: 0.667415, acc.: 63%] [G loss: 0.870570]\n",
            "3500 [ D loss: 0.639028, acc.: 61%] [G loss: 0.864441]\n",
            "3600 [ D loss: 0.642612, acc.: 64%] [G loss: 0.912220]\n",
            "3700 [ D loss: 0.645598, acc.: 62%] [G loss: 0.874057]\n",
            "3800 [ D loss: 0.628148, acc.: 69%] [G loss: 0.849566]\n",
            "3900 [ D loss: 0.653917, acc.: 59%] [G loss: 0.872625]\n",
            "4000 [ D loss: 0.665395, acc.: 57%] [G loss: 0.832107]\n",
            "4100 [ D loss: 0.660833, acc.: 59%] [G loss: 0.863051]\n",
            "4200 [ D loss: 0.690986, acc.: 55%] [G loss: 0.894259]\n",
            "4300 [ D loss: 0.689457, acc.: 56%] [G loss: 0.878301]\n",
            "4400 [ D loss: 0.645005, acc.: 66%] [G loss: 0.844193]\n",
            "4500 [ D loss: 0.644652, acc.: 66%] [G loss: 0.858272]\n",
            "4600 [ D loss: 0.651863, acc.: 66%] [G loss: 0.856372]\n",
            "4700 [ D loss: 0.649627, acc.: 62%] [G loss: 0.842743]\n",
            "4800 [ D loss: 0.657699, acc.: 62%] [G loss: 0.862185]\n",
            "4900 [ D loss: 0.664849, acc.: 59%] [G loss: 0.801125]\n",
            "5000 [ D loss: 0.676050, acc.: 57%] [G loss: 0.868896]\n",
            "5100 [ D loss: 0.666522, acc.: 66%] [G loss: 0.861264]\n",
            "5200 [ D loss: 0.675155, acc.: 60%] [G loss: 0.808397]\n",
            "5300 [ D loss: 0.655861, acc.: 60%] [G loss: 0.837163]\n",
            "5400 [ D loss: 0.679377, acc.: 55%] [G loss: 0.844216]\n",
            "5500 [ D loss: 0.690327, acc.: 54%] [G loss: 0.835619]\n",
            "5600 [ D loss: 0.664798, acc.: 59%] [G loss: 0.811614]\n",
            "5700 [ D loss: 0.677604, acc.: 54%] [G loss: 0.829387]\n",
            "5800 [ D loss: 0.634268, acc.: 70%] [G loss: 0.830207]\n",
            "5900 [ D loss: 0.688087, acc.: 48%] [G loss: 0.828032]\n",
            "6000 [ D loss: 0.693882, acc.: 54%] [G loss: 0.809096]\n",
            "6100 [ D loss: 0.732750, acc.: 46%] [G loss: 0.783033]\n",
            "6200 [ D loss: 0.669636, acc.: 60%] [G loss: 0.821578]\n",
            "6300 [ D loss: 0.690039, acc.: 55%] [G loss: 0.830963]\n",
            "6400 [ D loss: 0.661875, acc.: 55%] [G loss: 0.802780]\n",
            "6500 [ D loss: 0.695151, acc.: 53%] [G loss: 0.831840]\n",
            "6600 [ D loss: 0.693007, acc.: 54%] [G loss: 0.834619]\n",
            "6700 [ D loss: 0.637871, acc.: 63%] [G loss: 0.835494]\n",
            "6800 [ D loss: 0.699522, acc.: 49%] [G loss: 0.845248]\n",
            "6900 [ D loss: 0.672040, acc.: 55%] [G loss: 0.792556]\n",
            "7000 [ D loss: 0.648770, acc.: 63%] [G loss: 0.864630]\n",
            "7100 [ D loss: 0.678009, acc.: 55%] [G loss: 0.817999]\n",
            "7200 [ D loss: 0.681822, acc.: 62%] [G loss: 0.832143]\n",
            "7300 [ D loss: 0.675320, acc.: 50%] [G loss: 0.830834]\n",
            "7400 [ D loss: 0.672814, acc.: 64%] [G loss: 0.794430]\n",
            "7500 [ D loss: 0.664518, acc.: 63%] [G loss: 0.811405]\n",
            "7600 [ D loss: 0.664771, acc.: 61%] [G loss: 0.820164]\n",
            "7700 [ D loss: 0.665684, acc.: 60%] [G loss: 0.826256]\n",
            "7800 [ D loss: 0.678773, acc.: 55%] [G loss: 0.795558]\n",
            "7900 [ D loss: 0.700492, acc.: 55%] [G loss: 0.859165]\n",
            "8000 [ D loss: 0.686578, acc.: 57%] [G loss: 0.818546]\n",
            "8100 [ D loss: 0.687503, acc.: 55%] [G loss: 0.806029]\n",
            "8200 [ D loss: 0.686153, acc.: 57%] [G loss: 0.829889]\n",
            "8300 [ D loss: 0.706483, acc.: 50%] [G loss: 0.791488]\n",
            "8400 [ D loss: 0.696578, acc.: 55%] [G loss: 0.799262]\n",
            "8500 [ D loss: 0.696175, acc.: 55%] [G loss: 0.827328]\n",
            "8600 [ D loss: 0.685972, acc.: 50%] [G loss: 0.830701]\n",
            "8700 [ D loss: 0.647913, acc.: 64%] [G loss: 0.808856]\n",
            "8800 [ D loss: 0.672491, acc.: 63%] [G loss: 0.785470]\n",
            "8900 [ D loss: 0.672584, acc.: 59%] [G loss: 0.835448]\n",
            "9000 [ D loss: 0.677045, acc.: 53%] [G loss: 0.797719]\n",
            "9100 [ D loss: 0.667977, acc.: 63%] [G loss: 0.833681]\n",
            "9200 [ D loss: 0.691723, acc.: 52%] [G loss: 0.826373]\n",
            "9300 [ D loss: 0.697131, acc.: 52%] [G loss: 0.811752]\n",
            "9400 [ D loss: 0.705084, acc.: 52%] [G loss: 0.778131]\n",
            "9500 [ D loss: 0.652210, acc.: 55%] [G loss: 0.822852]\n",
            "9600 [ D loss: 0.678733, acc.: 57%] [G loss: 0.797596]\n",
            "9700 [ D loss: 0.673070, acc.: 58%] [G loss: 0.805176]\n",
            "9800 [ D loss: 0.692940, acc.: 55%] [G loss: 0.846915]\n",
            "9900 [ D loss: 0.679848, acc.: 59%] [G loss: 0.816593]\n",
            "10000 [ D loss: 0.686051, acc.: 53%] [G loss: 0.804180]\n",
            "10100 [ D loss: 0.691322, acc.: 59%] [G loss: 0.793365]\n",
            "10200 [ D loss: 0.690626, acc.: 55%] [G loss: 0.794119]\n",
            "10300 [ D loss: 0.727326, acc.: 43%] [G loss: 0.807891]\n",
            "10400 [ D loss: 0.669687, acc.: 59%] [G loss: 0.794282]\n",
            "10500 [ D loss: 0.701177, acc.: 53%] [G loss: 0.793359]\n",
            "10600 [ D loss: 0.713851, acc.: 52%] [G loss: 0.817294]\n",
            "10700 [ D loss: 0.656044, acc.: 60%] [G loss: 0.877288]\n",
            "10800 [ D loss: 0.666732, acc.: 60%] [G loss: 0.831536]\n",
            "10900 [ D loss: 0.665712, acc.: 60%] [G loss: 0.779764]\n",
            "11000 [ D loss: 0.662157, acc.: 59%] [G loss: 0.842444]\n",
            "11100 [ D loss: 0.702666, acc.: 52%] [G loss: 0.806105]\n",
            "11200 [ D loss: 0.658616, acc.: 58%] [G loss: 0.823501]\n",
            "11300 [ D loss: 0.660929, acc.: 58%] [G loss: 0.812831]\n",
            "11400 [ D loss: 0.673568, acc.: 56%] [G loss: 0.833210]\n",
            "11500 [ D loss: 0.714281, acc.: 51%] [G loss: 0.761308]\n",
            "11600 [ D loss: 0.707367, acc.: 50%] [G loss: 0.803487]\n",
            "11700 [ D loss: 0.689036, acc.: 54%] [G loss: 0.809005]\n",
            "11800 [ D loss: 0.698237, acc.: 54%] [G loss: 0.816724]\n",
            "11900 [ D loss: 0.689103, acc.: 55%] [G loss: 0.801507]\n",
            "12000 [ D loss: 0.638399, acc.: 66%] [G loss: 0.828605]\n",
            "12100 [ D loss: 0.686829, acc.: 57%] [G loss: 0.787349]\n",
            "12200 [ D loss: 0.688146, acc.: 53%] [G loss: 0.788370]\n",
            "12300 [ D loss: 0.668606, acc.: 52%] [G loss: 0.807879]\n",
            "12400 [ D loss: 0.670171, acc.: 65%] [G loss: 0.828024]\n",
            "12500 [ D loss: 0.688259, acc.: 55%] [G loss: 0.791988]\n",
            "12600 [ D loss: 0.685924, acc.: 58%] [G loss: 0.799722]\n",
            "12700 [ D loss: 0.720251, acc.: 47%] [G loss: 0.838208]\n",
            "12800 [ D loss: 0.685844, acc.: 60%] [G loss: 0.803169]\n",
            "12900 [ D loss: 0.654263, acc.: 62%] [G loss: 0.810753]\n",
            "13000 [ D loss: 0.697585, acc.: 55%] [G loss: 0.759708]\n",
            "13100 [ D loss: 0.717730, acc.: 50%] [G loss: 0.824342]\n",
            "13200 [ D loss: 0.707165, acc.: 48%] [G loss: 0.815771]\n",
            "13300 [ D loss: 0.674425, acc.: 56%] [G loss: 0.791732]\n",
            "13400 [ D loss: 0.703758, acc.: 57%] [G loss: 0.805411]\n",
            "13500 [ D loss: 0.673813, acc.: 55%] [G loss: 0.843438]\n",
            "13600 [ D loss: 0.695683, acc.: 55%] [G loss: 0.843301]\n",
            "13700 [ D loss: 0.673930, acc.: 59%] [G loss: 0.807190]\n",
            "13800 [ D loss: 0.676178, acc.: 58%] [G loss: 0.818462]\n",
            "13900 [ D loss: 0.682933, acc.: 59%] [G loss: 0.842713]\n",
            "14000 [ D loss: 0.681500, acc.: 53%] [G loss: 0.814784]\n",
            "14100 [ D loss: 0.666797, acc.: 58%] [G loss: 0.821742]\n",
            "14200 [ D loss: 0.697676, acc.: 52%] [G loss: 0.784199]\n",
            "14300 [ D loss: 0.685813, acc.: 56%] [G loss: 0.810291]\n",
            "14400 [ D loss: 0.701005, acc.: 48%] [G loss: 0.793209]\n",
            "14500 [ D loss: 0.672625, acc.: 58%] [G loss: 0.834552]\n",
            "14600 [ D loss: 0.671150, acc.: 54%] [G loss: 0.816587]\n",
            "14700 [ D loss: 0.686350, acc.: 58%] [G loss: 0.808998]\n",
            "14800 [ D loss: 0.674412, acc.: 60%] [G loss: 0.840543]\n",
            "14900 [ D loss: 0.664807, acc.: 60%] [G loss: 0.822906]\n",
            "15000 [ D loss: 0.693393, acc.: 55%] [G loss: 0.825305]\n",
            "15100 [ D loss: 0.703379, acc.: 54%] [G loss: 0.816941]\n",
            "15200 [ D loss: 0.671082, acc.: 59%] [G loss: 0.863158]\n",
            "15300 [ D loss: 0.669830, acc.: 54%] [G loss: 0.809389]\n",
            "15400 [ D loss: 0.694791, acc.: 56%] [G loss: 0.764309]\n",
            "15500 [ D loss: 0.673238, acc.: 61%] [G loss: 0.875894]\n",
            "15600 [ D loss: 0.684413, acc.: 59%] [G loss: 0.794452]\n",
            "15700 [ D loss: 0.736816, acc.: 47%] [G loss: 0.832416]\n",
            "15800 [ D loss: 0.672576, acc.: 57%] [G loss: 0.854157]\n",
            "15900 [ D loss: 0.704584, acc.: 51%] [G loss: 0.809963]\n",
            "16000 [ D loss: 0.674201, acc.: 66%] [G loss: 0.798740]\n",
            "16100 [ D loss: 0.697430, acc.: 51%] [G loss: 0.808570]\n",
            "16200 [ D loss: 0.676008, acc.: 56%] [G loss: 0.806835]\n",
            "16300 [ D loss: 0.666505, acc.: 56%] [G loss: 0.795777]\n",
            "16400 [ D loss: 0.705639, acc.: 55%] [G loss: 0.808907]\n",
            "16500 [ D loss: 0.700291, acc.: 52%] [G loss: 0.830461]\n",
            "16600 [ D loss: 0.675161, acc.: 62%] [G loss: 0.849545]\n",
            "16700 [ D loss: 0.700017, acc.: 52%] [G loss: 0.802014]\n",
            "16800 [ D loss: 0.692007, acc.: 51%] [G loss: 0.808991]\n",
            "16900 [ D loss: 0.692671, acc.: 51%] [G loss: 0.863707]\n",
            "17000 [ D loss: 0.660010, acc.: 60%] [G loss: 0.811666]\n",
            "17100 [ D loss: 0.663237, acc.: 59%] [G loss: 0.782886]\n",
            "17200 [ D loss: 0.694672, acc.: 55%] [G loss: 0.819654]\n",
            "17300 [ D loss: 0.712207, acc.: 55%] [G loss: 0.779809]\n",
            "17400 [ D loss: 0.680703, acc.: 59%] [G loss: 0.818938]\n",
            "17500 [ D loss: 0.693756, acc.: 53%] [G loss: 0.819313]\n",
            "17600 [ D loss: 0.665957, acc.: 59%] [G loss: 0.784867]\n",
            "17700 [ D loss: 0.665141, acc.: 58%] [G loss: 0.809646]\n",
            "17800 [ D loss: 0.676373, acc.: 58%] [G loss: 0.770803]\n",
            "17900 [ D loss: 0.681681, acc.: 55%] [G loss: 0.779928]\n",
            "18000 [ D loss: 0.690938, acc.: 53%] [G loss: 0.837256]\n",
            "18100 [ D loss: 0.652743, acc.: 62%] [G loss: 0.792470]\n",
            "18200 [ D loss: 0.706000, acc.: 50%] [G loss: 0.850681]\n",
            "18300 [ D loss: 0.660979, acc.: 60%] [G loss: 0.827654]\n",
            "18400 [ D loss: 0.703269, acc.: 51%] [G loss: 0.804888]\n",
            "18500 [ D loss: 0.718783, acc.: 49%] [G loss: 0.790502]\n",
            "18600 [ D loss: 0.700329, acc.: 48%] [G loss: 0.798848]\n",
            "18700 [ D loss: 0.670869, acc.: 59%] [G loss: 0.833280]\n",
            "18800 [ D loss: 0.675105, acc.: 59%] [G loss: 0.790549]\n",
            "18900 [ D loss: 0.698543, acc.: 50%] [G loss: 0.788034]\n",
            "19000 [ D loss: 0.695360, acc.: 49%] [G loss: 0.812299]\n",
            "19100 [ D loss: 0.704205, acc.: 49%] [G loss: 0.766520]\n",
            "19200 [ D loss: 0.660922, acc.: 61%] [G loss: 0.838188]\n",
            "19300 [ D loss: 0.690400, acc.: 52%] [G loss: 0.822146]\n",
            "19400 [ D loss: 0.666748, acc.: 59%] [G loss: 0.785009]\n",
            "19500 [ D loss: 0.684303, acc.: 55%] [G loss: 0.770703]\n",
            "19600 [ D loss: 0.704999, acc.: 48%] [G loss: 0.793003]\n",
            "19700 [ D loss: 0.694108, acc.: 55%] [G loss: 0.808508]\n",
            "19800 [ D loss: 0.696217, acc.: 52%] [G loss: 0.836795]\n",
            "19900 [ D loss: 0.660352, acc.: 62%] [G loss: 0.804665]\n"
          ],
          "name": "stdout"
        }
      ]
    },
    {
      "metadata": {
        "id": "p9O4uVAK-Rsk",
        "colab_type": "code",
        "colab": {
          "base_uri": "https://localhost:8080/",
          "height": 125
        },
        "outputId": "e765c858-e30a-4a69-f5b2-3404fe6ebebd"
      },
      "cell_type": "code",
      "source": [
        "# 20000 iteration\n",
        "generated_img = model6.generator.predict(np.random.normal(0, 1, (10, 100)))\n",
        "\n",
        "\n",
        "import matplotlib.pyplot as plt\n",
        "\n",
        "plt.figure(figsize=(20, 2))\n",
        "n =10\n",
        "for i in range(n):\n",
        "    # display original\n",
        "    ax = plt.subplot(1, n, i + 1)\n",
        "    plt.imshow(np.squeeze(generated_img[i]))\n",
        "    ax.get_xaxis().set_visible(False)\n",
        "    ax.get_yaxis().set_visible(False)"
      ],
      "execution_count": 71,
      "outputs": [
        {
          "output_type": "display_data",
          "data": {
            "image/png": "[encoded data removed]",
            "text/plain": [
              "<matplotlib.figure.Figure at 0x7f783c038780>"
            ]
          },
          "metadata": {
            "tags": []
          }
        }
      ]
    },
    {
      "metadata": {
        "id": "8hRZtN3g-TIs",
        "colab_type": "code",
        "outputId": "caba5a6c-c7cc-4c32-ccec-ebe4ec642560",
        "colab": {
          "base_uri": "https://localhost:8080/",
          "height": 1295
        }
      },
      "cell_type": "code",
      "source": [
        "model7_2 = GAN2()\n",
        "model7_2.train(iterations=2350)"
      ],
      "execution_count": 0,
      "outputs": [
        {
          "output_type": "stream",
          "text": [
            "_________________________________________________________________\n",
            "Layer (type)                 Output Shape              Param #   \n",
            "=================================================================\n",
            "flatten_17 (Flatten)         (None, 784)               0         \n",
            "_________________________________________________________________\n",
            "dense_113 (Dense)            (None, 512)               401920    \n",
            "_________________________________________________________________\n",
            "leaky_re_lu_81 (LeakyReLU)   (None, 512)               0         \n",
            "_________________________________________________________________\n",
            "dense_114 (Dense)            (None, 256)               131328    \n",
            "_________________________________________________________________\n",
            "leaky_re_lu_82 (LeakyReLU)   (None, 256)               0         \n",
            "_________________________________________________________________\n",
            "dense_115 (Dense)            (None, 1)                 257       \n",
            "=================================================================\n",
            "Total params: 533,505\n",
            "Trainable params: 533,505\n",
            "Non-trainable params: 0\n",
            "_________________________________________________________________\n",
            "_________________________________________________________________\n",
            "Layer (type)                 Output Shape              Param #   \n",
            "=================================================================\n",
            "dense_116 (Dense)            (None, 256)               25856     \n",
            "_________________________________________________________________\n",
            "leaky_re_lu_83 (LeakyReLU)   (None, 256)               0         \n",
            "_________________________________________________________________\n",
            "batch_normalization_49 (Batc (None, 256)               1024      \n",
            "_________________________________________________________________\n",
            "dense_117 (Dense)            (None, 512)               131584    \n",
            "_________________________________________________________________\n",
            "leaky_re_lu_84 (LeakyReLU)   (None, 512)               0         \n",
            "_________________________________________________________________\n",
            "batch_normalization_50 (Batc (None, 512)               2048      \n",
            "_________________________________________________________________\n",
            "dense_118 (Dense)            (None, 1024)              525312    \n",
            "_________________________________________________________________\n",
            "leaky_re_lu_85 (LeakyReLU)   (None, 1024)              0         \n",
            "_________________________________________________________________\n",
            "batch_normalization_51 (Batc (None, 1024)              4096      \n",
            "_________________________________________________________________\n",
            "dense_119 (Dense)            (None, 784)               803600    \n",
            "_________________________________________________________________\n",
            "reshape_17 (Reshape)         (None, 28, 28, 1)         0         \n",
            "=================================================================\n",
            "Total params: 1,493,520\n",
            "Trainable params: 1,489,936\n",
            "Non-trainable params: 3,584\n",
            "_________________________________________________________________\n"
          ],
          "name": "stdout"
        },
        {
          "output_type": "stream",
          "text": [
            "/usr/local/lib/python3.6/dist-packages/keras/engine/training.py:490: UserWarning: Discrepancy between trainable weights and collected trainable weights, did you set `model.trainable` without calling `model.compile` after ?\n",
            "  'Discrepancy between trainable weights and collected trainable'\n"
          ],
          "name": "stderr"
        },
        {
          "output_type": "stream",
          "text": [
            "0 [ D loss: 0.692481, acc.: 49%] [G loss: 0.719333]\n",
            "100 [ D loss: 0.027070, acc.: 100%] [G loss: 5.218693]\n",
            "200 [ D loss: 0.247102, acc.: 88%] [G loss: 4.959448]\n",
            "300 [ D loss: 0.108805, acc.: 98%] [G loss: 5.428639]\n",
            "400 [ D loss: 0.267028, acc.: 89%] [G loss: 6.059778]\n",
            "500 [ D loss: 0.212363, acc.: 94%] [G loss: 4.683022]\n",
            "600 [ D loss: 0.266924, acc.: 89%] [G loss: 4.593657]\n",
            "700 [ D loss: 0.219963, acc.: 95%] [G loss: 4.228265]\n",
            "800 [ D loss: 0.484494, acc.: 73%] [G loss: 3.430533]\n",
            "900 [ D loss: 0.493229, acc.: 74%] [G loss: 2.648318]\n",
            "1000 [ D loss: 0.710682, acc.: 55%] [G loss: 1.450107]\n",
            "1100 [ D loss: 0.731959, acc.: 47%] [G loss: 0.966905]\n",
            "1200 [ D loss: 0.751765, acc.: 53%] [G loss: 0.865674]\n",
            "1300 [ D loss: 0.651131, acc.: 58%] [G loss: 0.994169]\n",
            "1400 [ D loss: 0.681374, acc.: 57%] [G loss: 0.803143]\n",
            "1500 [ D loss: 0.728386, acc.: 43%] [G loss: 0.806042]\n",
            "1600 [ D loss: 0.735734, acc.: 39%] [G loss: 0.717829]\n",
            "1700 [ D loss: 0.722390, acc.: 40%] [G loss: 0.690172]\n",
            "1800 [ D loss: 0.712221, acc.: 53%] [G loss: 0.645189]\n",
            "1900 [ D loss: 0.709217, acc.: 48%] [G loss: 0.688162]\n",
            "2000 [ D loss: 0.672034, acc.: 58%] [G loss: 0.719006]\n",
            "2100 [ D loss: 0.724346, acc.: 41%] [G loss: 0.666038]\n",
            "2200 [ D loss: 0.712542, acc.: 41%] [G loss: 0.686763]\n",
            "2300 [ D loss: 0.702300, acc.: 38%] [G loss: 0.649467]\n"
          ],
          "name": "stdout"
        }
      ]
    },
    {
      "metadata": {
        "id": "Mj5FcBx9Mab3",
        "colab_type": "code",
        "outputId": "5a92d723-0b0d-4373-8153-0c333999b1a0",
        "colab": {
          "base_uri": "https://localhost:8080/",
          "height": 125
        }
      },
      "cell_type": "code",
      "source": [
        "# 2350 iteration\n",
        "generated_img = model7_2.generator.predict(np.random.normal(0, 1, (10, 100)))\n",
        "\n",
        "\n",
        "import matplotlib.pyplot as plt\n",
        "\n",
        "plt.figure(figsize=(20, 2))\n",
        "n =10\n",
        "for i in range(n):\n",
        "    # display original\n",
        "    ax = plt.subplot(1, n, i + 1)\n",
        "    plt.imshow(np.squeeze(generated_img[i]))\n",
        "    ax.get_xaxis().set_visible(False)\n",
        "    ax.get_yaxis().set_visible(False)"
      ],
      "execution_count": 0,
      "outputs": [
        {
          "output_type": "display_data",
          "data": {
            "image/png": "[encoded data removed]",
            "text/plain": [
              "<matplotlib.figure.Figure at 0x7f784bbf49e8>"
            ]
          },
          "metadata": {
            "tags": []
          }
        }
      ]
    },
    {
      "metadata": {
        "id": "wkwhe311NVKa",
        "colab_type": "code",
        "outputId": "661f4937-b188-4b12-872f-bd4b0fd513fd",
        "colab": {
          "base_uri": "https://localhost:8080/",
          "height": 1312
        }
      },
      "cell_type": "code",
      "source": [
        "model8_2 = GAN2()\n",
        "model8_2.train(iterations=2500)"
      ],
      "execution_count": 0,
      "outputs": [
        {
          "output_type": "stream",
          "text": [
            "_________________________________________________________________\n",
            "Layer (type)                 Output Shape              Param #   \n",
            "=================================================================\n",
            "flatten_19 (Flatten)         (None, 784)               0         \n",
            "_________________________________________________________________\n",
            "dense_127 (Dense)            (None, 512)               401920    \n",
            "_________________________________________________________________\n",
            "leaky_re_lu_91 (LeakyReLU)   (None, 512)               0         \n",
            "_________________________________________________________________\n",
            "dense_128 (Dense)            (None, 256)               131328    \n",
            "_________________________________________________________________\n",
            "leaky_re_lu_92 (LeakyReLU)   (None, 256)               0         \n",
            "_________________________________________________________________\n",
            "dense_129 (Dense)            (None, 1)                 257       \n",
            "=================================================================\n",
            "Total params: 533,505\n",
            "Trainable params: 533,505\n",
            "Non-trainable params: 0\n",
            "_________________________________________________________________\n",
            "_________________________________________________________________\n",
            "Layer (type)                 Output Shape              Param #   \n",
            "=================================================================\n",
            "dense_130 (Dense)            (None, 256)               25856     \n",
            "_________________________________________________________________\n",
            "leaky_re_lu_93 (LeakyReLU)   (None, 256)               0         \n",
            "_________________________________________________________________\n",
            "batch_normalization_55 (Batc (None, 256)               1024      \n",
            "_________________________________________________________________\n",
            "dense_131 (Dense)            (None, 512)               131584    \n",
            "_________________________________________________________________\n",
            "leaky_re_lu_94 (LeakyReLU)   (None, 512)               0         \n",
            "_________________________________________________________________\n",
            "batch_normalization_56 (Batc (None, 512)               2048      \n",
            "_________________________________________________________________\n",
            "dense_132 (Dense)            (None, 1024)              525312    \n",
            "_________________________________________________________________\n",
            "leaky_re_lu_95 (LeakyReLU)   (None, 1024)              0         \n",
            "_________________________________________________________________\n",
            "batch_normalization_57 (Batc (None, 1024)              4096      \n",
            "_________________________________________________________________\n",
            "dense_133 (Dense)            (None, 784)               803600    \n",
            "_________________________________________________________________\n",
            "reshape_19 (Reshape)         (None, 28, 28, 1)         0         \n",
            "=================================================================\n",
            "Total params: 1,493,520\n",
            "Trainable params: 1,489,936\n",
            "Non-trainable params: 3,584\n",
            "_________________________________________________________________\n"
          ],
          "name": "stdout"
        },
        {
          "output_type": "stream",
          "text": [
            "/usr/local/lib/python3.6/dist-packages/keras/engine/training.py:490: UserWarning: Discrepancy between trainable weights and collected trainable weights, did you set `model.trainable` without calling `model.compile` after ?\n",
            "  'Discrepancy between trainable weights and collected trainable'\n"
          ],
          "name": "stderr"
        },
        {
          "output_type": "stream",
          "text": [
            "0 [ D loss: 0.840133, acc.: 12%] [G loss: 0.499155]\n",
            "100 [ D loss: 0.135506, acc.: 98%] [G loss: 5.251735]\n",
            "200 [ D loss: 0.220055, acc.: 93%] [G loss: 3.816821]\n",
            "300 [ D loss: 0.175737, acc.: 96%] [G loss: 5.577044]\n",
            "400 [ D loss: 0.200806, acc.: 95%] [G loss: 6.011683]\n",
            "500 [ D loss: 0.329577, acc.: 85%] [G loss: 5.515742]\n",
            "600 [ D loss: 0.206913, acc.: 95%] [G loss: 4.752378]\n",
            "700 [ D loss: 0.223543, acc.: 92%] [G loss: 5.167992]\n",
            "800 [ D loss: 0.410656, acc.: 78%] [G loss: 4.798611]\n",
            "900 [ D loss: 0.418900, acc.: 86%] [G loss: 9.849486]\n",
            "1000 [ D loss: 0.354207, acc.: 88%] [G loss: 3.442149]\n",
            "1100 [ D loss: 0.665624, acc.: 59%] [G loss: 3.251129]\n",
            "1200 [ D loss: 0.563384, acc.: 77%] [G loss: 1.488337]\n",
            "1300 [ D loss: 0.683345, acc.: 58%] [G loss: 1.153106]\n",
            "1400 [ D loss: 0.732908, acc.: 45%] [G loss: 0.888618]\n",
            "1500 [ D loss: 0.734634, acc.: 45%] [G loss: 0.790725]\n",
            "1600 [ D loss: 0.767671, acc.: 37%] [G loss: 0.704691]\n",
            "1700 [ D loss: 0.697467, acc.: 52%] [G loss: 0.732009]\n",
            "1800 [ D loss: 0.698911, acc.: 50%] [G loss: 0.745829]\n",
            "1900 [ D loss: 0.653678, acc.: 45%] [G loss: 0.726327]\n",
            "2000 [ D loss: 0.695603, acc.: 45%] [G loss: 0.674516]\n",
            "2100 [ D loss: 0.677366, acc.: 44%] [G loss: 0.729193]\n",
            "2200 [ D loss: 0.679521, acc.: 37%] [G loss: 0.674169]\n",
            "2300 [ D loss: 0.683698, acc.: 42%] [G loss: 0.683643]\n",
            "2400 [ D loss: 0.675186, acc.: 43%] [G loss: 0.768128]\n"
          ],
          "name": "stdout"
        }
      ]
    },
    {
      "metadata": {
        "id": "8Yn7m0DJMj3D",
        "colab_type": "code",
        "outputId": "c10d62ac-bbdd-403b-bb90-a2d3b578e2fc",
        "colab": {
          "base_uri": "https://localhost:8080/",
          "height": 125
        }
      },
      "cell_type": "code",
      "source": [
        "# 2500 iteration\n",
        "generated_img = model7_2.generator.predict(np.random.normal(0, 1, (10, 100)))\n",
        "\n",
        "\n",
        "import matplotlib.pyplot as plt\n",
        "\n",
        "plt.figure(figsize=(20, 2))\n",
        "n =10\n",
        "for i in range(n):\n",
        "    # display original\n",
        "    ax = plt.subplot(1, n, i + 1)\n",
        "    plt.imshow(np.squeeze(generated_img[i]))\n",
        "    ax.get_xaxis().set_visible(False)\n",
        "    ax.get_yaxis().set_visible(False)"
      ],
      "execution_count": 0,
      "outputs": [
        {
          "output_type": "display_data",
          "data": {
            "image/png": "[encoded data removed]",
            "text/plain": [
              "<matplotlib.figure.Figure at 0x7f784a281e48>"
            ]
          },
          "metadata": {
            "tags": []
          }
        }
      ]
    },
    {
      "metadata": {
        "id": "amIgmD4KNbx8",
        "colab_type": "code",
        "outputId": "ef7f0f12-5621-4e41-ca33-9bb78bb4d424",
        "colab": {
          "base_uri": "https://localhost:8080/",
          "height": 1397
        }
      },
      "cell_type": "code",
      "source": [
        "model8_2 = GAN2()\n",
        "model8_2.train(iterations=3000)"
      ],
      "execution_count": 0,
      "outputs": [
        {
          "output_type": "stream",
          "text": [
            "_________________________________________________________________\n",
            "Layer (type)                 Output Shape              Param #   \n",
            "=================================================================\n",
            "flatten_20 (Flatten)         (None, 784)               0         \n",
            "_________________________________________________________________\n",
            "dense_134 (Dense)            (None, 512)               401920    \n",
            "_________________________________________________________________\n",
            "leaky_re_lu_96 (LeakyReLU)   (None, 512)               0         \n",
            "_________________________________________________________________\n",
            "dense_135 (Dense)            (None, 256)               131328    \n",
            "_________________________________________________________________\n",
            "leaky_re_lu_97 (LeakyReLU)   (None, 256)               0         \n",
            "_________________________________________________________________\n",
            "dense_136 (Dense)            (None, 1)                 257       \n",
            "=================================================================\n",
            "Total params: 533,505\n",
            "Trainable params: 533,505\n",
            "Non-trainable params: 0\n",
            "_________________________________________________________________\n",
            "_________________________________________________________________\n",
            "Layer (type)                 Output Shape              Param #   \n",
            "=================================================================\n",
            "dense_137 (Dense)            (None, 256)               25856     \n",
            "_________________________________________________________________\n",
            "leaky_re_lu_98 (LeakyReLU)   (None, 256)               0         \n",
            "_________________________________________________________________\n",
            "batch_normalization_58 (Batc (None, 256)               1024      \n",
            "_________________________________________________________________\n",
            "dense_138 (Dense)            (None, 512)               131584    \n",
            "_________________________________________________________________\n",
            "leaky_re_lu_99 (LeakyReLU)   (None, 512)               0         \n",
            "_________________________________________________________________\n",
            "batch_normalization_59 (Batc (None, 512)               2048      \n",
            "_________________________________________________________________\n",
            "dense_139 (Dense)            (None, 1024)              525312    \n",
            "_________________________________________________________________\n",
            "leaky_re_lu_100 (LeakyReLU)  (None, 1024)              0         \n",
            "_________________________________________________________________\n",
            "batch_normalization_60 (Batc (None, 1024)              4096      \n",
            "_________________________________________________________________\n",
            "dense_140 (Dense)            (None, 784)               803600    \n",
            "_________________________________________________________________\n",
            "reshape_20 (Reshape)         (None, 28, 28, 1)         0         \n",
            "=================================================================\n",
            "Total params: 1,493,520\n",
            "Trainable params: 1,489,936\n",
            "Non-trainable params: 3,584\n",
            "_________________________________________________________________\n"
          ],
          "name": "stdout"
        },
        {
          "output_type": "stream",
          "text": [
            "/usr/local/lib/python3.6/dist-packages/keras/engine/training.py:490: UserWarning: Discrepancy between trainable weights and collected trainable weights, did you set `model.trainable` without calling `model.compile` after ?\n",
            "  'Discrepancy between trainable weights and collected trainable'\n"
          ],
          "name": "stderr"
        },
        {
          "output_type": "stream",
          "text": [
            "0 [ D loss: 0.777755, acc.: 25%] [G loss: 0.782503]\n",
            "100 [ D loss: 0.063241, acc.: 98%] [G loss: 5.626876]\n",
            "200 [ D loss: 0.191777, acc.: 94%] [G loss: 4.530465]\n",
            "300 [ D loss: 0.588526, acc.: 70%] [G loss: 6.870896]\n",
            "400 [ D loss: 0.405925, acc.: 78%] [G loss: 6.650031]\n",
            "500 [ D loss: 0.327621, acc.: 87%] [G loss: 5.488986]\n",
            "600 [ D loss: 0.240274, acc.: 94%] [G loss: 5.352954]\n",
            "700 [ D loss: 0.282840, acc.: 91%] [G loss: 4.778746]\n",
            "800 [ D loss: 0.364346, acc.: 85%] [G loss: 3.745922]\n",
            "900 [ D loss: 0.469243, acc.: 80%] [G loss: 2.872111]\n",
            "1000 [ D loss: 0.424926, acc.: 77%] [G loss: 2.128238]\n",
            "1100 [ D loss: 0.601105, acc.: 71%] [G loss: 1.795692]\n",
            "1200 [ D loss: 0.550353, acc.: 75%] [G loss: 1.169546]\n",
            "1300 [ D loss: 0.660186, acc.: 57%] [G loss: 0.810078]\n",
            "1400 [ D loss: 0.655412, acc.: 52%] [G loss: 0.657782]\n",
            "1500 [ D loss: 0.717030, acc.: 45%] [G loss: 0.637889]\n",
            "1600 [ D loss: 0.696943, acc.: 45%] [G loss: 0.641320]\n",
            "1700 [ D loss: 0.700683, acc.: 50%] [G loss: 0.638519]\n",
            "1800 [ D loss: 0.713994, acc.: 41%] [G loss: 0.649516]\n",
            "1900 [ D loss: 0.703829, acc.: 44%] [G loss: 0.666650]\n",
            "2000 [ D loss: 0.673477, acc.: 47%] [G loss: 0.672631]\n",
            "2100 [ D loss: 0.691304, acc.: 48%] [G loss: 0.665038]\n",
            "2200 [ D loss: 0.669892, acc.: 53%] [G loss: 0.673363]\n",
            "2300 [ D loss: 0.678908, acc.: 52%] [G loss: 0.690208]\n",
            "2400 [ D loss: 0.676325, acc.: 55%] [G loss: 0.714203]\n",
            "2500 [ D loss: 0.682531, acc.: 52%] [G loss: 0.714269]\n",
            "2600 [ D loss: 0.664472, acc.: 57%] [G loss: 0.794545]\n",
            "2700 [ D loss: 0.668765, acc.: 62%] [G loss: 0.802174]\n",
            "2800 [ D loss: 0.628793, acc.: 67%] [G loss: 0.812593]\n",
            "2900 [ D loss: 0.595230, acc.: 73%] [G loss: 0.880733]\n"
          ],
          "name": "stdout"
        }
      ]
    },
    {
      "metadata": {
        "id": "FeydnHs5OX51",
        "colab_type": "code",
        "outputId": "3b07be5d-481d-4cd3-aa3e-d3ec1f68ef6f",
        "colab": {
          "base_uri": "https://localhost:8080/",
          "height": 125
        }
      },
      "cell_type": "code",
      "source": [
        "# 3000 iteration\n",
        "generated_img = model8_2.generator.predict(np.random.normal(0, 1, (10, 100)))\n",
        "\n",
        "\n",
        "import matplotlib.pyplot as plt\n",
        "\n",
        "plt.figure(figsize=(20, 2))\n",
        "n =10\n",
        "for i in range(n):\n",
        "    # display original\n",
        "    ax = plt.subplot(1, n, i + 1)\n",
        "    plt.imshow(np.squeeze(generated_img[i]))\n",
        "    ax.get_xaxis().set_visible(False)\n",
        "    ax.get_yaxis().set_visible(False)"
      ],
      "execution_count": 0,
      "outputs": [
        {
          "output_type": "display_data",
          "data": {
            "image/png": "[encoded data removed]",
            "text/plain": [
              "<matplotlib.figure.Figure at 0x7f7848ab8fd0>"
            ]
          },
          "metadata": {
            "tags": []
          }
        }
      ]
    },
    {
      "metadata": {
        "id": "VN2KIAMMObN3",
        "colab_type": "code",
        "outputId": "33b7ce4e-8e14-436b-a136-04335c38aa60",
        "colab": {
          "base_uri": "https://localhost:8080/",
          "height": 1312
        }
      },
      "cell_type": "code",
      "source": [
        "model9_2 = GAN2()\n",
        "model9_2.train(iterations=2500, batch_size=32)"
      ],
      "execution_count": 0,
      "outputs": [
        {
          "output_type": "stream",
          "text": [
            "_________________________________________________________________\n",
            "Layer (type)                 Output Shape              Param #   \n",
            "=================================================================\n",
            "flatten_21 (Flatten)         (None, 784)               0         \n",
            "_________________________________________________________________\n",
            "dense_141 (Dense)            (None, 512)               401920    \n",
            "_________________________________________________________________\n",
            "leaky_re_lu_101 (LeakyReLU)  (None, 512)               0         \n",
            "_________________________________________________________________\n",
            "dense_142 (Dense)            (None, 256)               131328    \n",
            "_________________________________________________________________\n",
            "leaky_re_lu_102 (LeakyReLU)  (None, 256)               0         \n",
            "_________________________________________________________________\n",
            "dense_143 (Dense)            (None, 1)                 257       \n",
            "=================================================================\n",
            "Total params: 533,505\n",
            "Trainable params: 533,505\n",
            "Non-trainable params: 0\n",
            "_________________________________________________________________\n",
            "_________________________________________________________________\n",
            "Layer (type)                 Output Shape              Param #   \n",
            "=================================================================\n",
            "dense_144 (Dense)            (None, 256)               25856     \n",
            "_________________________________________________________________\n",
            "leaky_re_lu_103 (LeakyReLU)  (None, 256)               0         \n",
            "_________________________________________________________________\n",
            "batch_normalization_61 (Batc (None, 256)               1024      \n",
            "_________________________________________________________________\n",
            "dense_145 (Dense)            (None, 512)               131584    \n",
            "_________________________________________________________________\n",
            "leaky_re_lu_104 (LeakyReLU)  (None, 512)               0         \n",
            "_________________________________________________________________\n",
            "batch_normalization_62 (Batc (None, 512)               2048      \n",
            "_________________________________________________________________\n",
            "dense_146 (Dense)            (None, 1024)              525312    \n",
            "_________________________________________________________________\n",
            "leaky_re_lu_105 (LeakyReLU)  (None, 1024)              0         \n",
            "_________________________________________________________________\n",
            "batch_normalization_63 (Batc (None, 1024)              4096      \n",
            "_________________________________________________________________\n",
            "dense_147 (Dense)            (None, 784)               803600    \n",
            "_________________________________________________________________\n",
            "reshape_21 (Reshape)         (None, 28, 28, 1)         0         \n",
            "=================================================================\n",
            "Total params: 1,493,520\n",
            "Trainable params: 1,489,936\n",
            "Non-trainable params: 3,584\n",
            "_________________________________________________________________\n"
          ],
          "name": "stdout"
        },
        {
          "output_type": "stream",
          "text": [
            "/usr/local/lib/python3.6/dist-packages/keras/engine/training.py:490: UserWarning: Discrepancy between trainable weights and collected trainable weights, did you set `model.trainable` without calling `model.compile` after ?\n",
            "  'Discrepancy between trainable weights and collected trainable'\n"
          ],
          "name": "stderr"
        },
        {
          "output_type": "stream",
          "text": [
            "0 [ D loss: 0.676982, acc.: 47%] [G loss: 0.556270]\n",
            "100 [ D loss: 0.021442, acc.: 100%] [G loss: 4.981421]\n",
            "200 [ D loss: 0.133375, acc.: 94%] [G loss: 6.435952]\n",
            "300 [ D loss: 0.244417, acc.: 88%] [G loss: 5.134871]\n",
            "400 [ D loss: 0.128942, acc.: 94%] [G loss: 4.917216]\n",
            "500 [ D loss: 0.301350, acc.: 84%] [G loss: 6.089986]\n",
            "600 [ D loss: 0.226762, acc.: 88%] [G loss: 7.115685]\n",
            "700 [ D loss: 0.144833, acc.: 100%] [G loss: 7.444065]\n",
            "800 [ D loss: 0.070900, acc.: 100%] [G loss: 5.946494]\n",
            "900 [ D loss: 0.083232, acc.: 100%] [G loss: 7.373552]\n",
            "1000 [ D loss: 0.085425, acc.: 100%] [G loss: 6.551744]\n",
            "1100 [ D loss: 0.045421, acc.: 100%] [G loss: 4.829608]\n",
            "1200 [ D loss: 0.579682, acc.: 66%] [G loss: 5.167418]\n",
            "1300 [ D loss: 0.345239, acc.: 88%] [G loss: 3.083328]\n",
            "1400 [ D loss: 0.491656, acc.: 78%] [G loss: 2.546399]\n",
            "1500 [ D loss: 0.367131, acc.: 88%] [G loss: 2.301947]\n",
            "1600 [ D loss: 0.806676, acc.: 56%] [G loss: 1.074842]\n",
            "1700 [ D loss: 0.714434, acc.: 59%] [G loss: 1.274412]\n",
            "1800 [ D loss: 0.730551, acc.: 56%] [G loss: 0.955457]\n",
            "1900 [ D loss: 0.674607, acc.: 62%] [G loss: 0.820501]\n",
            "2000 [ D loss: 0.650238, acc.: 53%] [G loss: 0.710050]\n",
            "2100 [ D loss: 0.701420, acc.: 50%] [G loss: 0.724014]\n",
            "2200 [ D loss: 0.691487, acc.: 50%] [G loss: 0.732092]\n",
            "2300 [ D loss: 0.688034, acc.: 56%] [G loss: 0.680122]\n",
            "2400 [ D loss: 0.741959, acc.: 25%] [G loss: 0.640202]\n"
          ],
          "name": "stdout"
        }
      ]
    },
    {
      "metadata": {
        "id": "-p_bWElCPmJP",
        "colab_type": "code",
        "outputId": "a54572db-df26-4cb9-cc78-283bc17faacb",
        "colab": {
          "base_uri": "https://localhost:8080/",
          "height": 125
        }
      },
      "cell_type": "code",
      "source": [
        "# 2500 iteration (batch_size=32)\n",
        "generated_img = model8_2.generator.predict(np.random.normal(0, 1, (10, 100)))\n",
        "\n",
        "\n",
        "import matplotlib.pyplot as plt\n",
        "\n",
        "plt.figure(figsize=(20, 2))\n",
        "n =10\n",
        "for i in range(n):\n",
        "    # display original\n",
        "    ax = plt.subplot(1, n, i + 1)\n",
        "    plt.imshow(np.squeeze(generated_img[i]))\n",
        "    ax.get_xaxis().set_visible(False)\n",
        "    ax.get_yaxis().set_visible(False)"
      ],
      "execution_count": 0,
      "outputs": [
        {
          "output_type": "display_data",
          "data": {
            "image/png": "[encoded data removed]",
            "text/plain": [
              "<matplotlib.figure.Figure at 0x7f78472735c0>"
            ]
          },
          "metadata": {
            "tags": []
          }
        }
      ]
    },
    {
      "metadata": {
        "id": "WZdSCANuPqYi",
        "colab_type": "code",
        "outputId": "c44b75c4-a4a2-4f24-f66f-381996db39a3",
        "colab": {
          "base_uri": "https://localhost:8080/",
          "height": 1244
        }
      },
      "cell_type": "code",
      "source": [
        "model10_2 = GAN2()\n",
        "model10_2.train(iterations=2100, batch_size=32)"
      ],
      "execution_count": 0,
      "outputs": [
        {
          "output_type": "stream",
          "text": [
            "_________________________________________________________________\n",
            "Layer (type)                 Output Shape              Param #   \n",
            "=================================================================\n",
            "flatten_22 (Flatten)         (None, 784)               0         \n",
            "_________________________________________________________________\n",
            "dense_148 (Dense)            (None, 512)               401920    \n",
            "_________________________________________________________________\n",
            "leaky_re_lu_106 (LeakyReLU)  (None, 512)               0         \n",
            "_________________________________________________________________\n",
            "dense_149 (Dense)            (None, 256)               131328    \n",
            "_________________________________________________________________\n",
            "leaky_re_lu_107 (LeakyReLU)  (None, 256)               0         \n",
            "_________________________________________________________________\n",
            "dense_150 (Dense)            (None, 1)                 257       \n",
            "=================================================================\n",
            "Total params: 533,505\n",
            "Trainable params: 533,505\n",
            "Non-trainable params: 0\n",
            "_________________________________________________________________\n",
            "_________________________________________________________________\n",
            "Layer (type)                 Output Shape              Param #   \n",
            "=================================================================\n",
            "dense_151 (Dense)            (None, 256)               25856     \n",
            "_________________________________________________________________\n",
            "leaky_re_lu_108 (LeakyReLU)  (None, 256)               0         \n",
            "_________________________________________________________________\n",
            "batch_normalization_64 (Batc (None, 256)               1024      \n",
            "_________________________________________________________________\n",
            "dense_152 (Dense)            (None, 512)               131584    \n",
            "_________________________________________________________________\n",
            "leaky_re_lu_109 (LeakyReLU)  (None, 512)               0         \n",
            "_________________________________________________________________\n",
            "batch_normalization_65 (Batc (None, 512)               2048      \n",
            "_________________________________________________________________\n",
            "dense_153 (Dense)            (None, 1024)              525312    \n",
            "_________________________________________________________________\n",
            "leaky_re_lu_110 (LeakyReLU)  (None, 1024)              0         \n",
            "_________________________________________________________________\n",
            "batch_normalization_66 (Batc (None, 1024)              4096      \n",
            "_________________________________________________________________\n",
            "dense_154 (Dense)            (None, 784)               803600    \n",
            "_________________________________________________________________\n",
            "reshape_22 (Reshape)         (None, 28, 28, 1)         0         \n",
            "=================================================================\n",
            "Total params: 1,493,520\n",
            "Trainable params: 1,489,936\n",
            "Non-trainable params: 3,584\n",
            "_________________________________________________________________\n"
          ],
          "name": "stdout"
        },
        {
          "output_type": "stream",
          "text": [
            "/usr/local/lib/python3.6/dist-packages/keras/engine/training.py:490: UserWarning: Discrepancy between trainable weights and collected trainable weights, did you set `model.trainable` without calling `model.compile` after ?\n",
            "  'Discrepancy between trainable weights and collected trainable'\n"
          ],
          "name": "stderr"
        },
        {
          "output_type": "stream",
          "text": [
            "0 [ D loss: 0.575580, acc.: 94%] [G loss: 0.729779]\n",
            "100 [ D loss: 0.021501, acc.: 100%] [G loss: 5.216165]\n",
            "200 [ D loss: 0.141217, acc.: 97%] [G loss: 7.465649]\n",
            "300 [ D loss: 0.191991, acc.: 94%] [G loss: 7.359333]\n",
            "400 [ D loss: 0.204335, acc.: 97%] [G loss: 8.118046]\n",
            "500 [ D loss: 0.233275, acc.: 91%] [G loss: 7.489642]\n",
            "600 [ D loss: 0.261906, acc.: 91%] [G loss: 8.188657]\n",
            "700 [ D loss: 0.063150, acc.: 100%] [G loss: 7.788261]\n",
            "800 [ D loss: 0.103977, acc.: 97%] [G loss: 8.582926]\n",
            "900 [ D loss: 0.064652, acc.: 100%] [G loss: 5.852764]\n",
            "1000 [ D loss: 0.199288, acc.: 91%] [G loss: 6.798057]\n",
            "1100 [ D loss: 0.128305, acc.: 97%] [G loss: 5.133689]\n",
            "1200 [ D loss: 0.445246, acc.: 78%] [G loss: 4.462423]\n",
            "1300 [ D loss: 0.204859, acc.: 97%] [G loss: 4.152351]\n",
            "1400 [ D loss: 0.145963, acc.: 97%] [G loss: 4.294809]\n",
            "1500 [ D loss: 0.738873, acc.: 56%] [G loss: 2.401284]\n",
            "1600 [ D loss: 0.819341, acc.: 53%] [G loss: 1.261831]\n",
            "1700 [ D loss: 0.774782, acc.: 41%] [G loss: 0.885451]\n",
            "1800 [ D loss: 0.681926, acc.: 62%] [G loss: 0.850996]\n",
            "1900 [ D loss: 0.750162, acc.: 56%] [G loss: 0.639760]\n",
            "2000 [ D loss: 0.738741, acc.: 44%] [G loss: 0.704422]\n"
          ],
          "name": "stdout"
        }
      ]
    },
    {
      "metadata": {
        "id": "eWqCgP04Qod9",
        "colab_type": "code",
        "outputId": "bdef2eed-8c43-45c3-8a75-7622df9c076a",
        "colab": {
          "base_uri": "https://localhost:8080/",
          "height": 125
        }
      },
      "cell_type": "code",
      "source": [
        "# 2100 iteration (batch_size=32)\n",
        "generated_img = model8_2.generator.predict(np.random.normal(0, 1, (10, 100)))\n",
        "\n",
        "\n",
        "import matplotlib.pyplot as plt\n",
        "\n",
        "plt.figure(figsize=(20, 2))\n",
        "n =10\n",
        "for i in range(n):\n",
        "    # display original\n",
        "    ax = plt.subplot(1, n, i + 1)\n",
        "    plt.imshow(np.squeeze(generated_img[i]))\n",
        "    ax.get_xaxis().set_visible(False)\n",
        "    ax.get_yaxis().set_visible(False)"
      ],
      "execution_count": 0,
      "outputs": [
        {
          "output_type": "display_data",
          "data": {
            "image/png": "[encoded data removed]",
            "text/plain": [
              "<matplotlib.figure.Figure at 0x7f784a112828>"
            ]
          },
          "metadata": {
            "tags": []
          }
        }
      ]
    },
    {
      "metadata": {
        "id": "VSKTZMuKQsae",
        "colab_type": "code",
        "outputId": "f584baa8-d74b-4cfa-937c-798f033bd2fa",
        "colab": {
          "base_uri": "https://localhost:8080/",
          "height": 1261
        }
      },
      "cell_type": "code",
      "source": [
        "model11_2 = GAN2()\n",
        "model11_2.train(iterations=2200, batch_size=32)"
      ],
      "execution_count": 0,
      "outputs": [
        {
          "output_type": "stream",
          "text": [
            "_________________________________________________________________\n",
            "Layer (type)                 Output Shape              Param #   \n",
            "=================================================================\n",
            "flatten_23 (Flatten)         (None, 784)               0         \n",
            "_________________________________________________________________\n",
            "dense_155 (Dense)            (None, 512)               401920    \n",
            "_________________________________________________________________\n",
            "leaky_re_lu_111 (LeakyReLU)  (None, 512)               0         \n",
            "_________________________________________________________________\n",
            "dense_156 (Dense)            (None, 256)               131328    \n",
            "_________________________________________________________________\n",
            "leaky_re_lu_112 (LeakyReLU)  (None, 256)               0         \n",
            "_________________________________________________________________\n",
            "dense_157 (Dense)            (None, 1)                 257       \n",
            "=================================================================\n",
            "Total params: 533,505\n",
            "Trainable params: 533,505\n",
            "Non-trainable params: 0\n",
            "_________________________________________________________________\n",
            "_________________________________________________________________\n",
            "Layer (type)                 Output Shape              Param #   \n",
            "=================================================================\n",
            "dense_158 (Dense)            (None, 256)               25856     \n",
            "_________________________________________________________________\n",
            "leaky_re_lu_113 (LeakyReLU)  (None, 256)               0         \n",
            "_________________________________________________________________\n",
            "batch_normalization_67 (Batc (None, 256)               1024      \n",
            "_________________________________________________________________\n",
            "dense_159 (Dense)            (None, 512)               131584    \n",
            "_________________________________________________________________\n",
            "leaky_re_lu_114 (LeakyReLU)  (None, 512)               0         \n",
            "_________________________________________________________________\n",
            "batch_normalization_68 (Batc (None, 512)               2048      \n",
            "_________________________________________________________________\n",
            "dense_160 (Dense)            (None, 1024)              525312    \n",
            "_________________________________________________________________\n",
            "leaky_re_lu_115 (LeakyReLU)  (None, 1024)              0         \n",
            "_________________________________________________________________\n",
            "batch_normalization_69 (Batc (None, 1024)              4096      \n",
            "_________________________________________________________________\n",
            "dense_161 (Dense)            (None, 784)               803600    \n",
            "_________________________________________________________________\n",
            "reshape_23 (Reshape)         (None, 28, 28, 1)         0         \n",
            "=================================================================\n",
            "Total params: 1,493,520\n",
            "Trainable params: 1,489,936\n",
            "Non-trainable params: 3,584\n",
            "_________________________________________________________________\n"
          ],
          "name": "stdout"
        },
        {
          "output_type": "stream",
          "text": [
            "/usr/local/lib/python3.6/dist-packages/keras/engine/training.py:490: UserWarning: Discrepancy between trainable weights and collected trainable weights, did you set `model.trainable` without calling `model.compile` after ?\n",
            "  'Discrepancy between trainable weights and collected trainable'\n"
          ],
          "name": "stderr"
        },
        {
          "output_type": "stream",
          "text": [
            "0 [ D loss: 0.743138, acc.: 22%] [G loss: 0.583702]\n",
            "100 [ D loss: 0.012457, acc.: 100%] [G loss: 4.615963]\n",
            "200 [ D loss: 0.171596, acc.: 94%] [G loss: 6.488935]\n",
            "300 [ D loss: 0.070881, acc.: 100%] [G loss: 5.815603]\n",
            "400 [ D loss: 0.127216, acc.: 97%] [G loss: 5.630217]\n",
            "500 [ D loss: 0.145712, acc.: 97%] [G loss: 6.443603]\n",
            "600 [ D loss: 0.132047, acc.: 97%] [G loss: 6.600257]\n",
            "700 [ D loss: 0.111340, acc.: 97%] [G loss: 7.300223]\n",
            "800 [ D loss: 0.068260, acc.: 100%] [G loss: 6.338525]\n",
            "900 [ D loss: 0.188912, acc.: 97%] [G loss: 7.955338]\n",
            "1000 [ D loss: 0.152380, acc.: 97%] [G loss: 6.048872]\n",
            "1100 [ D loss: 0.318626, acc.: 91%] [G loss: 5.233749]\n",
            "1200 [ D loss: 0.174156, acc.: 91%] [G loss: 4.540445]\n",
            "1300 [ D loss: 0.415987, acc.: 84%] [G loss: 4.515197]\n",
            "1400 [ D loss: 0.445570, acc.: 84%] [G loss: 2.470899]\n",
            "1500 [ D loss: 0.677816, acc.: 53%] [G loss: 1.465839]\n",
            "1600 [ D loss: 0.671956, acc.: 53%] [G loss: 1.079598]\n",
            "1700 [ D loss: 0.689087, acc.: 66%] [G loss: 1.068193]\n",
            "1800 [ D loss: 0.749604, acc.: 47%] [G loss: 0.748883]\n",
            "1900 [ D loss: 0.650719, acc.: 69%] [G loss: 0.897135]\n",
            "2000 [ D loss: 0.656839, acc.: 59%] [G loss: 0.954650]\n",
            "2100 [ D loss: 0.722260, acc.: 56%] [G loss: 0.839333]\n"
          ],
          "name": "stdout"
        }
      ]
    },
    {
      "metadata": {
        "id": "gFFFhm2RSQon",
        "colab_type": "code",
        "outputId": "7ea9353b-1bad-486e-eda3-de0307b12e4b",
        "colab": {
          "base_uri": "https://localhost:8080/",
          "height": 125
        }
      },
      "cell_type": "code",
      "source": [
        "# 2200 iteration (batch_size=32)\n",
        "generated_img = model8_2.generator.predict(np.random.normal(0, 1, (10, 100)))\n",
        "\n",
        "\n",
        "import matplotlib.pyplot as plt\n",
        "\n",
        "plt.figure(figsize=(20, 2))\n",
        "n =10\n",
        "for i in range(n):\n",
        "    # display original\n",
        "    ax = plt.subplot(1, n, i + 1)\n",
        "    plt.imshow(np.squeeze(generated_img[i]))\n",
        "    ax.get_xaxis().set_visible(False)\n",
        "    ax.get_yaxis().set_visible(False)"
      ],
      "execution_count": 0,
      "outputs": [
        {
          "output_type": "display_data",
          "data": {
            "image/png": "[encoded data removed]",
            "text/plain": [
              "<matplotlib.figure.Figure at 0x7f7846a85f28>"
            ]
          },
          "metadata": {
            "tags": []
          }
        }
      ]
    },
    {
      "metadata": {
        "id": "1yX4NVTDSSvU",
        "colab_type": "code",
        "colab": {}
      },
      "cell_type": "code",
      "source": [
        ""
      ],
      "execution_count": 0,
      "outputs": []
    }
  ]
}