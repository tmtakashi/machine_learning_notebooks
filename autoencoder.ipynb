{
  "nbformat": 4,
  "nbformat_minor": 0,
  "metadata": {
    "colab": {
      "name": "autoencoder.ipynb",
      "version": "0.3.2",
      "provenance": [],
      "include_colab_link": true
    },
    "kernelspec": {
      "name": "python3",
      "display_name": "Python 3"
    },
    "accelerator": "GPU"
  },
  "cells": [
    {
      "cell_type": "markdown",
      "metadata": {
        "id": "view-in-github",
        "colab_type": "text"
      },
      "source": [
        "<a href=\"https://colab.research.google.com/github/tmtakashi/machine_learning_notebooks/blob/master/autoencoder.ipynb\" target=\"_parent\"><img src=\"https://colab.research.google.com/assets/colab-badge.svg\" alt=\"Open In Colab\"/></a>"
      ]
    },
    {
      "metadata": {
        "id": "far6Bl1hBGRL",
        "colab_type": "code",
        "colab": {}
      },
      "cell_type": "code",
      "source": [
        "from keras.layers import Input, Dense\n",
        "from keras.models import Model\n",
        "\n",
        "#中間層の次元\n",
        "encoding_dim = 32 \n",
        "\n",
        "#入力データ\n",
        "input_img = Input(shape=(784,))\n",
        "\n",
        "# 中間層\n",
        "encoded = Dense(encoding_dim, activation='relu')(input_img)\n",
        "# 出力層\n",
        "decoded = Dense(784, activation='sigmoid')(encoded)\n",
        "\n",
        "# 再構築モデル\n",
        "autoencoder = Model(input_img, decoded)"
      ],
      "execution_count": 0,
      "outputs": []
    },
    {
      "metadata": {
        "id": "G2-A0nDkwWmR",
        "colab_type": "code",
        "colab": {}
      },
      "cell_type": "code",
      "source": [
        "# エンコーダーモデル\n",
        "encoder = Model(input_img, encoded)"
      ],
      "execution_count": 0,
      "outputs": []
    },
    {
      "metadata": {
        "id": "updrvPDVBZvd",
        "colab_type": "text"
      },
      "cell_type": "markdown",
      "source": [
        ""
      ]
    },
    {
      "metadata": {
        "id": "8dALCFbpwiZu",
        "colab_type": "code",
        "colab": {}
      },
      "cell_type": "code",
      "source": [
        "encoded_input = Input(shape=(encoding_dim,))\n",
        "\n",
        "decoder_layer = autoencoder.layers[-1]\n",
        "# デコーダーモデル\n",
        "decoder = Model(encoded_input, decoder_layer(encoded_input))"
      ],
      "execution_count": 0,
      "outputs": []
    },
    {
      "metadata": {
        "id": "o6Dj9XsHyIit",
        "colab_type": "code",
        "colab": {}
      },
      "cell_type": "code",
      "source": [
        "# 再構築モデルをコンパイル\n",
        "autoencoder.compile(optimizer='adadelta', loss='binary_crossentropy')"
      ],
      "execution_count": 0,
      "outputs": []
    },
    {
      "metadata": {
        "id": "9QMAfVegySd3",
        "colab_type": "code",
        "colab": {}
      },
      "cell_type": "code",
      "source": [
        "# MNISTの読み込み\n",
        "from keras.datasets import mnist\n",
        "import numpy as np\n",
        "\n",
        "(x_train, _), (x_test, _) =  mnist.load_data() # 画像データのみ必要なのでラベルは捨てる"
      ],
      "execution_count": 0,
      "outputs": []
    },
    {
      "metadata": {
        "id": "g28LIWBOy2yN",
        "colab_type": "code",
        "outputId": "a2f839cf-4569-4fcc-e4e9-fc023ff9b66f",
        "colab": {
          "base_uri": "https://localhost:8080/",
          "height": 51
        }
      },
      "cell_type": "code",
      "source": [
        "# 正規化\n",
        "x_train = x_train.astype('float32') / 255.\n",
        "x_test = x_test.astype('float32') / 255.\n",
        "\n",
        "# Flatten\n",
        "x_train = x_train.reshape((len(x_train), np.prod(x_train.shape[1:])))\n",
        "x_test = x_test.reshape((len(x_test), np.prod(x_test.shape[1:])))\n",
        "\n",
        "print(x_train.shape)\n",
        "print(x_test.shape)"
      ],
      "execution_count": 0,
      "outputs": [
        {
          "output_type": "stream",
          "text": [
            "(60000, 784)\n",
            "(10000, 784)\n"
          ],
          "name": "stdout"
        }
      ]
    },
    {
      "metadata": {
        "id": "QcxEvFNG0C0P",
        "colab_type": "code",
        "outputId": "51d925b2-e509-42e7-d79a-fffc4ec1ce6d",
        "colab": {
          "base_uri": "https://localhost:8080/",
          "height": 1751
        }
      },
      "cell_type": "code",
      "source": [
        "autoencoder.fit(x_train, x_train,\n",
        "               epochs=50,\n",
        "               batch_size=256,\n",
        "               shuffle=True,\n",
        "               validation_data=(x_test, x_test))"
      ],
      "execution_count": 0,
      "outputs": [
        {
          "output_type": "stream",
          "text": [
            "Train on 60000 samples, validate on 10000 samples\n",
            "Epoch 1/50\n",
            "60000/60000 [==============================] - 4s 74us/step - loss: 0.3526 - val_loss: 0.2702\n",
            "Epoch 2/50\n",
            "60000/60000 [==============================] - 4s 71us/step - loss: 0.2621 - val_loss: 0.2502\n",
            "Epoch 3/50\n",
            "60000/60000 [==============================] - 4s 70us/step - loss: 0.2397 - val_loss: 0.2272\n",
            "Epoch 4/50\n",
            "60000/60000 [==============================] - 4s 70us/step - loss: 0.2200 - val_loss: 0.2107\n",
            "Epoch 5/50\n",
            "60000/60000 [==============================] - 4s 68us/step - loss: 0.2059 - val_loss: 0.1984\n",
            "Epoch 6/50\n",
            "60000/60000 [==============================] - 4s 71us/step - loss: 0.1950 - val_loss: 0.1887\n",
            "Epoch 7/50\n",
            "60000/60000 [==============================] - 4s 71us/step - loss: 0.1862 - val_loss: 0.1809\n",
            "Epoch 8/50\n",
            "60000/60000 [==============================] - 4s 70us/step - loss: 0.1792 - val_loss: 0.1746\n",
            "Epoch 9/50\n",
            "60000/60000 [==============================] - 4s 70us/step - loss: 0.1733 - val_loss: 0.1692\n",
            "Epoch 10/50\n",
            "60000/60000 [==============================] - 4s 70us/step - loss: 0.1682 - val_loss: 0.1644\n",
            "Epoch 11/50\n",
            "60000/60000 [==============================] - 4s 71us/step - loss: 0.1638 - val_loss: 0.1602\n",
            "Epoch 12/50\n",
            "60000/60000 [==============================] - 4s 71us/step - loss: 0.1597 - val_loss: 0.1563\n",
            "Epoch 13/50\n",
            "60000/60000 [==============================] - 4s 69us/step - loss: 0.1559 - val_loss: 0.1527\n",
            "Epoch 14/50\n",
            "60000/60000 [==============================] - 4s 68us/step - loss: 0.1524 - val_loss: 0.1492\n",
            "Epoch 15/50\n",
            "60000/60000 [==============================] - 4s 69us/step - loss: 0.1492 - val_loss: 0.1462\n",
            "Epoch 16/50\n",
            "60000/60000 [==============================] - 4s 68us/step - loss: 0.1462 - val_loss: 0.1433\n",
            "Epoch 17/50\n",
            "60000/60000 [==============================] - 4s 69us/step - loss: 0.1434 - val_loss: 0.1405\n",
            "Epoch 18/50\n",
            "60000/60000 [==============================] - 4s 68us/step - loss: 0.1408 - val_loss: 0.1378\n",
            "Epoch 19/50\n",
            "60000/60000 [==============================] - 4s 70us/step - loss: 0.1383 - val_loss: 0.1355\n",
            "Epoch 20/50\n",
            "60000/60000 [==============================] - 4s 68us/step - loss: 0.1359 - val_loss: 0.1331\n",
            "Epoch 21/50\n",
            "60000/60000 [==============================] - 4s 68us/step - loss: 0.1336 - val_loss: 0.1310\n",
            "Epoch 22/50\n",
            "60000/60000 [==============================] - 4s 67us/step - loss: 0.1315 - val_loss: 0.1287\n",
            "Epoch 23/50\n",
            "60000/60000 [==============================] - 4s 67us/step - loss: 0.1295 - val_loss: 0.1268\n",
            "Epoch 24/50\n",
            "60000/60000 [==============================] - 4s 67us/step - loss: 0.1276 - val_loss: 0.1250\n",
            "Epoch 25/50\n",
            "60000/60000 [==============================] - 4s 67us/step - loss: 0.1258 - val_loss: 0.1232\n",
            "Epoch 26/50\n",
            "60000/60000 [==============================] - 4s 67us/step - loss: 0.1241 - val_loss: 0.1217\n",
            "Epoch 27/50\n",
            "60000/60000 [==============================] - 4s 67us/step - loss: 0.1225 - val_loss: 0.1201\n",
            "Epoch 28/50\n",
            "60000/60000 [==============================] - 4s 68us/step - loss: 0.1210 - val_loss: 0.1186\n",
            "Epoch 29/50\n",
            "60000/60000 [==============================] - 4s 72us/step - loss: 0.1196 - val_loss: 0.1172\n",
            "Epoch 30/50\n",
            "60000/60000 [==============================] - 4s 72us/step - loss: 0.1183 - val_loss: 0.1159\n",
            "Epoch 31/50\n",
            "60000/60000 [==============================] - 4s 68us/step - loss: 0.1170 - val_loss: 0.1147\n",
            "Epoch 32/50\n",
            "60000/60000 [==============================] - 4s 69us/step - loss: 0.1158 - val_loss: 0.1136\n",
            "Epoch 33/50\n",
            "60000/60000 [==============================] - 4s 68us/step - loss: 0.1147 - val_loss: 0.1126\n",
            "Epoch 34/50\n",
            "60000/60000 [==============================] - 4s 69us/step - loss: 0.1137 - val_loss: 0.1115\n",
            "Epoch 35/50\n",
            "60000/60000 [==============================] - 4s 68us/step - loss: 0.1127 - val_loss: 0.1106\n",
            "Epoch 36/50\n",
            "60000/60000 [==============================] - 4s 69us/step - loss: 0.1118 - val_loss: 0.1097\n",
            "Epoch 37/50\n",
            "60000/60000 [==============================] - 4s 68us/step - loss: 0.1110 - val_loss: 0.1089\n",
            "Epoch 38/50\n",
            "60000/60000 [==============================] - 4s 69us/step - loss: 0.1102 - val_loss: 0.1081\n",
            "Epoch 39/50\n",
            "60000/60000 [==============================] - 4s 69us/step - loss: 0.1094 - val_loss: 0.1074\n",
            "Epoch 40/50\n",
            "60000/60000 [==============================] - 4s 69us/step - loss: 0.1087 - val_loss: 0.1067\n",
            "Epoch 41/50\n",
            "60000/60000 [==============================] - 4s 69us/step - loss: 0.1080 - val_loss: 0.1061\n",
            "Epoch 42/50\n",
            "60000/60000 [==============================] - 4s 69us/step - loss: 0.1074 - val_loss: 0.1055\n",
            "Epoch 43/50\n",
            "60000/60000 [==============================] - 4s 69us/step - loss: 0.1068 - val_loss: 0.1049\n",
            "Epoch 44/50\n",
            "60000/60000 [==============================] - 4s 68us/step - loss: 0.1062 - val_loss: 0.1043\n",
            "Epoch 45/50\n",
            "60000/60000 [==============================] - 4s 69us/step - loss: 0.1057 - val_loss: 0.1038\n",
            "Epoch 46/50\n",
            "60000/60000 [==============================] - 4s 68us/step - loss: 0.1052 - val_loss: 0.1033\n",
            "Epoch 47/50\n",
            "60000/60000 [==============================] - 4s 67us/step - loss: 0.1047 - val_loss: 0.1028\n",
            "Epoch 48/50\n",
            "60000/60000 [==============================] - 4s 67us/step - loss: 0.1042 - val_loss: 0.1024\n",
            "Epoch 49/50\n",
            "60000/60000 [==============================] - 4s 68us/step - loss: 0.1038 - val_loss: 0.1020\n",
            "Epoch 50/50\n",
            "60000/60000 [==============================] - 4s 67us/step - loss: 0.1034 - val_loss: 0.1015\n"
          ],
          "name": "stdout"
        },
        {
          "output_type": "execute_result",
          "data": {
            "text/plain": [
              "<keras.callbacks.History at 0x7f978a470898>"
            ]
          },
          "metadata": {
            "tags": []
          },
          "execution_count": 29
        }
      ]
    },
    {
      "metadata": {
        "id": "EG_ka5Oo0HNj",
        "colab_type": "code",
        "colab": {}
      },
      "cell_type": "code",
      "source": [
        "# テストデータを使って出力を可視化\n",
        "\n",
        "encoded_imgs = encoder.predict(x_test)\n",
        "decoded_imgs = decoder.predict(encoded_imgs)"
      ],
      "execution_count": 0,
      "outputs": []
    },
    {
      "metadata": {
        "id": "TSNaxtQi3JSW",
        "colab_type": "code",
        "outputId": "92614380-5d79-4fb6-f757-8c9a02efb92f",
        "colab": {
          "base_uri": "https://localhost:8080/",
          "height": 244
        }
      },
      "cell_type": "code",
      "source": [
        "import matplotlib.pyplot as plt\n",
        "\n",
        "n = 10\n",
        "plt.figure(figsize=(20, 4))\n",
        "for i in range(n):\n",
        "  \n",
        "  #　オリジナル画像\n",
        "  ax = plt.subplot(2, n, i + 1)\n",
        "  plt.imshow(x_test[i].reshape(28, 28))\n",
        "  plt.gray()\n",
        "  ax.get_xaxis().set_visible(False)\n",
        "  ax.get_yaxis().set_visible(False)\n",
        "  \n",
        "  ax = plt.subplot(2, n, i + 1 + n)\n",
        "  plt.imshow(decoded_imgs[i].reshape(28, 28))\n",
        "  plt.gray()\n",
        "  ax.get_xaxis().set_visible(False)\n",
        "  ax.get_yaxis().set_visible(False)\n",
        "plt.show()"
      ],
      "execution_count": 0,
      "outputs": [
        {
          "output_type": "display_data",
          "data": {
            "image/png": "[encoded data removed]",
            "text/plain": [
              "<matplotlib.figure.Figure at 0x7f9789c3b7f0>"
            ]
          },
          "metadata": {
            "tags": []
          }
        }
      ]
    },
    {
      "metadata": {
        "id": "O-8O-Mar6QQm",
        "colab_type": "code",
        "colab": {}
      },
      "cell_type": "code",
      "source": [
        "from keras.layers import Input, Dense, Conv2D, MaxPooling2D, UpSampling2D\n",
        "from keras.models import Model\n",
        "from keras import backend as K\n",
        "\n",
        "input_img = Input(shape=(28, 28, 1))\n",
        "\n",
        "x = Conv2D(16, (3, 3), activation='relu', padding='same')(input_img)\n",
        "x = MaxPooling2D((2, 2), padding='same')(x)\n",
        "x = Conv2D(8, (3, 3), activation='relu', padding='same')(x)\n",
        "x = MaxPooling2D((2, 2), padding='same')(x)\n",
        "x = Conv2D(8, (3, 3), activation='relu', padding='same')(x)\n",
        "encoded = MaxPooling2D((2, 2), padding='same')(x)\n",
        "\n",
        "# この時点では(4, 4, 8)\n",
        "\n",
        "x = Conv2D(8, (3, 3), activation='relu', padding='same')(encoded)\n",
        "x = UpSampling2D((2, 2))(x)\n",
        "x = Conv2D(8, (3, 3), activation='relu', padding='same')(x)\n",
        "x = UpSampling2D((2, 2))(x)\n",
        "x = Conv2D(16, (3, 3), activation='relu')(x)\n",
        "x = UpSampling2D((2, 2))(x)\n",
        "decoded = Conv2D(1, (3, 3), activation='sigmoid', padding='same')(x)\n",
        "\n",
        "autoencoder = Model(input_img, decoded)\n",
        "autoencoder.compile(optimizer='adadelta', loss='binary_crossentropy')"
      ],
      "execution_count": 0,
      "outputs": []
    },
    {
      "metadata": {
        "id": "U53K9tHP307-",
        "colab_type": "code",
        "outputId": "e69abc0f-ae8d-4642-b669-01d77f8c818e",
        "colab": {
          "base_uri": "https://localhost:8080/",
          "height": 612
        }
      },
      "cell_type": "code",
      "source": [
        "autoencoder.summary()"
      ],
      "execution_count": 0,
      "outputs": [
        {
          "output_type": "stream",
          "text": [
            "_________________________________________________________________\n",
            "Layer (type)                 Output Shape              Param #   \n",
            "=================================================================\n",
            "input_2 (InputLayer)         (None, 28, 28, 1)         0         \n",
            "_________________________________________________________________\n",
            "conv2d_8 (Conv2D)            (None, 28, 28, 16)        160       \n",
            "_________________________________________________________________\n",
            "max_pooling2d_4 (MaxPooling2 (None, 14, 14, 16)        0         \n",
            "_________________________________________________________________\n",
            "conv2d_9 (Conv2D)            (None, 14, 14, 8)         1160      \n",
            "_________________________________________________________________\n",
            "max_pooling2d_5 (MaxPooling2 (None, 7, 7, 8)           0         \n",
            "_________________________________________________________________\n",
            "conv2d_10 (Conv2D)           (None, 7, 7, 8)           584       \n",
            "_________________________________________________________________\n",
            "max_pooling2d_6 (MaxPooling2 (None, 4, 4, 8)           0         \n",
            "_________________________________________________________________\n",
            "conv2d_11 (Conv2D)           (None, 4, 4, 8)           584       \n",
            "_________________________________________________________________\n",
            "up_sampling2d_4 (UpSampling2 (None, 8, 8, 8)           0         \n",
            "_________________________________________________________________\n",
            "conv2d_12 (Conv2D)           (None, 8, 8, 8)           584       \n",
            "_________________________________________________________________\n",
            "up_sampling2d_5 (UpSampling2 (None, 16, 16, 8)         0         \n",
            "_________________________________________________________________\n",
            "conv2d_13 (Conv2D)           (None, 14, 14, 16)        1168      \n",
            "_________________________________________________________________\n",
            "up_sampling2d_6 (UpSampling2 (None, 28, 28, 16)        0         \n",
            "_________________________________________________________________\n",
            "conv2d_14 (Conv2D)           (None, 28, 28, 1)         145       \n",
            "=================================================================\n",
            "Total params: 4,385\n",
            "Trainable params: 4,385\n",
            "Non-trainable params: 0\n",
            "_________________________________________________________________\n"
          ],
          "name": "stdout"
        }
      ]
    },
    {
      "metadata": {
        "id": "wt15lyV5-6wd",
        "colab_type": "code",
        "outputId": "c2640c0b-295d-407f-9b08-ed44e5ba6e49",
        "colab": {
          "base_uri": "https://localhost:8080/",
          "height": 51
        }
      },
      "cell_type": "code",
      "source": [
        "from keras.datasets import mnist\n",
        "import numpy as np\n",
        "\n",
        "(x_train, _), (x_test, _) = mnist.load_data()\n",
        "\n",
        "# 正規化\n",
        "x_train = x_train.astype('float32') / 255.\n",
        "x_test = x_test.astype('float32') / 255.\n",
        "\n",
        "# Flatten\n",
        "x_train = np.reshape(x_train, (len(x_train), 28, 28, 1))  # adapt this if using `channels_first` image data format\n",
        "x_test = np.reshape(x_test, (len(x_test), 28, 28, 1))  # adapt this if using `channels_first` image data format\n",
        "\n",
        "\n",
        "print(x_train.shape)\n",
        "print(x_test.shape)"
      ],
      "execution_count": 0,
      "outputs": [
        {
          "output_type": "stream",
          "text": [
            "(60000, 28, 28, 1)\n",
            "(10000, 28, 28, 1)\n"
          ],
          "name": "stdout"
        }
      ]
    },
    {
      "metadata": {
        "id": "tYthnS52FE4z",
        "colab_type": "code",
        "outputId": "2d57bd18-7314-422f-fa6e-cf0a610509b4",
        "colab": {
          "base_uri": "https://localhost:8080/",
          "height": 1751
        }
      },
      "cell_type": "code",
      "source": [
        "autoencoder.fit(x_train, x_train,\n",
        "               epochs=50,\n",
        "               batch_size=128,\n",
        "               shuffle=True,\n",
        "               validation_data=(x_test, x_test))"
      ],
      "execution_count": 0,
      "outputs": [
        {
          "output_type": "stream",
          "text": [
            "Train on 60000 samples, validate on 10000 samples\n",
            "Epoch 1/50\n",
            "60000/60000 [==============================] - 11s 180us/step - loss: 0.2043 - val_loss: 0.1658\n",
            "Epoch 2/50\n",
            "60000/60000 [==============================] - 7s 111us/step - loss: 0.1550 - val_loss: 0.1445\n",
            "Epoch 3/50\n",
            "60000/60000 [==============================] - 7s 111us/step - loss: 0.1410 - val_loss: 0.1348\n",
            "Epoch 4/50\n",
            "60000/60000 [==============================] - 7s 109us/step - loss: 0.1335 - val_loss: 0.1298\n",
            "Epoch 5/50\n",
            "60000/60000 [==============================] - 6s 108us/step - loss: 0.1290 - val_loss: 0.1214\n",
            "Epoch 6/50\n",
            "60000/60000 [==============================] - 6s 107us/step - loss: 0.1250 - val_loss: 0.1211\n",
            "Epoch 7/50\n",
            "60000/60000 [==============================] - 6s 106us/step - loss: 0.1224 - val_loss: 0.1184\n",
            "Epoch 8/50\n",
            "60000/60000 [==============================] - 6s 106us/step - loss: 0.1199 - val_loss: 0.1174\n",
            "Epoch 9/50\n",
            "60000/60000 [==============================] - 6s 106us/step - loss: 0.1182 - val_loss: 0.1148\n",
            "Epoch 10/50\n",
            "60000/60000 [==============================] - 6s 107us/step - loss: 0.1167 - val_loss: 0.1136\n",
            "Epoch 11/50\n",
            "60000/60000 [==============================] - 6s 107us/step - loss: 0.1152 - val_loss: 0.1158\n",
            "Epoch 12/50\n",
            "60000/60000 [==============================] - 6s 105us/step - loss: 0.1142 - val_loss: 0.1141\n",
            "Epoch 13/50\n",
            "60000/60000 [==============================] - 6s 106us/step - loss: 0.1133 - val_loss: 0.1112\n",
            "Epoch 14/50\n",
            "60000/60000 [==============================] - 6s 106us/step - loss: 0.1125 - val_loss: 0.1099\n",
            "Epoch 15/50\n",
            "60000/60000 [==============================] - 7s 109us/step - loss: 0.1116 - val_loss: 0.1103\n",
            "Epoch 16/50\n",
            "60000/60000 [==============================] - 6s 107us/step - loss: 0.1108 - val_loss: 0.1108\n",
            "Epoch 17/50\n",
            "60000/60000 [==============================] - 6s 108us/step - loss: 0.1101 - val_loss: 0.1086\n",
            "Epoch 18/50\n",
            "60000/60000 [==============================] - 6s 108us/step - loss: 0.1096 - val_loss: 0.1085\n",
            "Epoch 19/50\n",
            "60000/60000 [==============================] - 6s 108us/step - loss: 0.1089 - val_loss: 0.1057\n",
            "Epoch 20/50\n",
            "60000/60000 [==============================] - 6s 107us/step - loss: 0.1084 - val_loss: 0.1070\n",
            "Epoch 21/50\n",
            "60000/60000 [==============================] - 6s 107us/step - loss: 0.1078 - val_loss: 0.1042\n",
            "Epoch 22/50\n",
            "60000/60000 [==============================] - 6s 107us/step - loss: 0.1075 - val_loss: 0.1086\n",
            "Epoch 23/50\n",
            "60000/60000 [==============================] - 6s 106us/step - loss: 0.1070 - val_loss: 0.1045\n",
            "Epoch 24/50\n",
            "60000/60000 [==============================] - 6s 106us/step - loss: 0.1066 - val_loss: 0.1054\n",
            "Epoch 25/50\n",
            "60000/60000 [==============================] - 6s 107us/step - loss: 0.1061 - val_loss: 0.1034\n",
            "Epoch 26/50\n",
            "60000/60000 [==============================] - 6s 106us/step - loss: 0.1055 - val_loss: 0.1046\n",
            "Epoch 27/50\n",
            "60000/60000 [==============================] - 6s 106us/step - loss: 0.1052 - val_loss: 0.1047\n",
            "Epoch 28/50\n",
            "60000/60000 [==============================] - 6s 106us/step - loss: 0.1050 - val_loss: 0.1020\n",
            "Epoch 29/50\n",
            "60000/60000 [==============================] - 6s 105us/step - loss: 0.1044 - val_loss: 0.1016\n",
            "Epoch 30/50\n",
            "60000/60000 [==============================] - 6s 107us/step - loss: 0.1040 - val_loss: 0.1016\n",
            "Epoch 31/50\n",
            "60000/60000 [==============================] - 6s 108us/step - loss: 0.1036 - val_loss: 0.1046\n",
            "Epoch 32/50\n",
            "60000/60000 [==============================] - 6s 107us/step - loss: 0.1033 - val_loss: 0.1033\n",
            "Epoch 33/50\n",
            "60000/60000 [==============================] - 6s 107us/step - loss: 0.1027 - val_loss: 0.1021\n",
            "Epoch 34/50\n",
            "60000/60000 [==============================] - 6s 107us/step - loss: 0.1026 - val_loss: 0.1000\n",
            "Epoch 35/50\n",
            "60000/60000 [==============================] - 6s 106us/step - loss: 0.1021 - val_loss: 0.0998\n",
            "Epoch 36/50\n",
            "60000/60000 [==============================] - 6s 107us/step - loss: 0.1019 - val_loss: 0.0998\n",
            "Epoch 37/50\n",
            "60000/60000 [==============================] - 6s 107us/step - loss: 0.1015 - val_loss: 0.0997\n",
            "Epoch 38/50\n",
            "60000/60000 [==============================] - 6s 106us/step - loss: 0.1014 - val_loss: 0.1007\n",
            "Epoch 39/50\n",
            "60000/60000 [==============================] - 6s 106us/step - loss: 0.1011 - val_loss: 0.1022\n",
            "Epoch 40/50\n",
            "60000/60000 [==============================] - 6s 107us/step - loss: 0.1010 - val_loss: 0.1032\n",
            "Epoch 41/50\n",
            "60000/60000 [==============================] - 6s 107us/step - loss: 0.1008 - val_loss: 0.0991\n",
            "Epoch 42/50\n",
            "60000/60000 [==============================] - 6s 106us/step - loss: 0.1008 - val_loss: 0.0987\n",
            "Epoch 43/50\n",
            "60000/60000 [==============================] - 6s 105us/step - loss: 0.1005 - val_loss: 0.0988\n",
            "Epoch 44/50\n",
            "60000/60000 [==============================] - 6s 105us/step - loss: 0.1001 - val_loss: 0.0985\n",
            "Epoch 45/50\n",
            "60000/60000 [==============================] - 6s 106us/step - loss: 0.1002 - val_loss: 0.1008\n",
            "Epoch 46/50\n",
            "60000/60000 [==============================] - 6s 108us/step - loss: 0.0999 - val_loss: 0.1009\n",
            "Epoch 47/50\n",
            "60000/60000 [==============================] - 6s 108us/step - loss: 0.0996 - val_loss: 0.0999\n",
            "Epoch 48/50\n",
            "60000/60000 [==============================] - 6s 108us/step - loss: 0.0994 - val_loss: 0.1002\n",
            "Epoch 49/50\n",
            "60000/60000 [==============================] - 6s 108us/step - loss: 0.0993 - val_loss: 0.0973\n",
            "Epoch 50/50\n",
            "60000/60000 [==============================] - 6s 108us/step - loss: 0.0990 - val_loss: 0.0995\n"
          ],
          "name": "stdout"
        },
        {
          "output_type": "execute_result",
          "data": {
            "text/plain": [
              "<keras.callbacks.History at 0x7f27d0001eb8>"
            ]
          },
          "metadata": {
            "tags": []
          },
          "execution_count": 16
        }
      ]
    },
    {
      "metadata": {
        "id": "oy15XEibDl5e",
        "colab_type": "code",
        "outputId": "47a29f72-12b8-4294-f64a-0ce61495500b",
        "colab": {
          "base_uri": "https://localhost:8080/",
          "height": 244
        }
      },
      "cell_type": "code",
      "source": [
        "import matplotlib.pyplot as plt\n",
        "\n",
        "decoded_imgs = autoencoder.predict(x_test)\n",
        "\n",
        "n = 10\n",
        "plt.figure(figsize=(20, 4))\n",
        "for i in range(n):\n",
        "  \n",
        "  #　オリジナル画像\n",
        "  ax = plt.subplot(2, n, i + 1)\n",
        "  plt.imshow(x_test[i].reshape(28, 28))\n",
        "  plt.gray()\n",
        "  ax.get_xaxis().set_visible(False)\n",
        "  ax.get_yaxis().set_visible(False)\n",
        "  \n",
        "  ax = plt.subplot(2, n, i + 1 + n)\n",
        "  plt.imshow(decoded_imgs[i].reshape(28, 28))\n",
        "  plt.gray()\n",
        "  ax.get_xaxis().set_visible(False)\n",
        "  ax.get_yaxis().set_visible(False)\n",
        "plt.show()"
      ],
      "execution_count": 0,
      "outputs": [
        {
          "output_type": "display_data",
          "data": {
            "image/png": "[encoded data removed]",
            "text/plain": [
              "<matplotlib.figure.Figure at 0x7f27c7701e10>"
            ]
          },
          "metadata": {
            "tags": []
          }
        }
      ]
    },
    {
      "metadata": {
        "id": "ZroM98X6Hn-D",
        "colab_type": "code",
        "colab": {}
      },
      "cell_type": "code",
      "source": [
        ""
      ],
      "execution_count": 0,
      "outputs": []
    }
  ]
}